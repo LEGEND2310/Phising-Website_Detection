{
  "nbformat": 4,
  "nbformat_minor": 0,
  "metadata": {
    "colab": {
      "name": "Phising.ipynb",
      "provenance": [],
      "collapsed_sections": [
        "_K8rO3VPGAZG",
        "0fnhxXLqGViH",
        "DUk_3efBGowa",
        "93WTPtFCHNGS",
        "soMafMsEHXRP",
        "ggi2INUZHjf5",
        "I-DBigX9Hpw1",
        "_oNXk2yXHxdW",
        "MnLz1KTEH4TO"
      ]
    },
    "kernelspec": {
      "name": "python3",
      "display_name": "Python 3"
    }
  },
  "cells": [
    {
      "cell_type": "markdown",
      "metadata": {
        "id": "_K8rO3VPGAZG",
        "colab_type": "text"
      },
      "source": [
        "## **Importing Required Libraries and accesing files from Google Drive**"
      ]
    },
    {
      "cell_type": "code",
      "metadata": {
        "id": "4oSIedX2V9NM",
        "colab_type": "code",
        "outputId": "266a4b41-2d3e-49ab-a279-a79017fa2f71",
        "colab": {
          "base_uri": "https://localhost:8080/",
          "height": 70
        }
      },
      "source": [
        "#importing basic required libraries\n",
        "import pandas as pd\n",
        "import numpy as np\n",
        "import seaborn as sns\n",
        "import matplotlib.pyplot as plt\n",
        "%matplotlib inline\n",
        "\n",
        "# Filter the uneccesary warnings\n",
        "import warnings\n",
        "warnings.filterwarnings(\"ignore\")"
      ],
      "execution_count": 0,
      "outputs": [
        {
          "output_type": "stream",
          "text": [
            "/usr/local/lib/python3.6/dist-packages/statsmodels/tools/_testing.py:19: FutureWarning: pandas.util.testing is deprecated. Use the functions in the public API at pandas.testing instead.\n",
            "  import pandas.util.testing as tm\n"
          ],
          "name": "stderr"
        }
      ]
    },
    {
      "cell_type": "code",
      "metadata": {
        "id": "xyCGrFNp6sDl",
        "colab_type": "code",
        "colab": {}
      },
      "source": [
        "#installing requirements to access google drive\n",
        "!pip install -U -q PyDrive\n",
        "from pydrive.auth import GoogleAuth\n",
        "from pydrive.drive import GoogleDrive\n",
        "from google.colab import auth\n",
        "from oauth2client.client import GoogleCredentials\n",
        "# Authenticate and create the PyDrive client.\n",
        "auth.authenticate_user()\n",
        "gauth = GoogleAuth()\n",
        "gauth.credentials = GoogleCredentials.get_application_default()\n",
        "drive = GoogleDrive(gauth)"
      ],
      "execution_count": 0,
      "outputs": []
    },
    {
      "cell_type": "code",
      "metadata": {
        "id": "SoJaItcQ8Sjq",
        "colab_type": "code",
        "colab": {}
      },
      "source": [
        "link=\"https://drive.google.com/open?id=1ZjR4-A8TrViaRXC_BYjRme5jo0udrLpz\""
      ],
      "execution_count": 0,
      "outputs": []
    },
    {
      "cell_type": "markdown",
      "metadata": {
        "id": "ofW_V8bmWGKD",
        "colab_type": "text"
      },
      "source": [
        "Seperating File Id from rest of the Link"
      ]
    },
    {
      "cell_type": "code",
      "metadata": {
        "id": "VvhQ4uLS8vk8",
        "colab_type": "code",
        "outputId": "5ad652ed-52e3-4307-d1f3-8f3e9bd8bd03",
        "colab": {
          "base_uri": "https://localhost:8080/",
          "height": 34
        }
      },
      "source": [
        "fluff, id = link.split('=')\n",
        "print (id) # Verify that you have everything after '='"
      ],
      "execution_count": 0,
      "outputs": [
        {
          "output_type": "stream",
          "text": [
            "1ZjR4-A8TrViaRXC_BYjRme5jo0udrLpz\n"
          ],
          "name": "stdout"
        }
      ]
    },
    {
      "cell_type": "code",
      "metadata": {
        "id": "RZmJt7MP8xzF",
        "colab_type": "code",
        "colab": {}
      },
      "source": [
        "downloaded = drive.CreateFile({'id':id}) \n",
        "downloaded.GetContentFile('Training Dataset.csv')"
      ],
      "execution_count": 0,
      "outputs": []
    },
    {
      "cell_type": "code",
      "metadata": {
        "id": "0ASqo4bY9C5I",
        "colab_type": "code",
        "colab": {}
      },
      "source": [
        "df = pd.read_csv('Training Dataset.csv')"
      ],
      "execution_count": 0,
      "outputs": []
    },
    {
      "cell_type": "markdown",
      "metadata": {
        "id": "0fnhxXLqGViH",
        "colab_type": "text"
      },
      "source": [
        "# **Studying the Trends in Data (EDA)**"
      ]
    },
    {
      "cell_type": "code",
      "metadata": {
        "id": "TKXMQfdw9fOG",
        "colab_type": "code",
        "outputId": "c8b28760-df6c-48d0-908b-f81c2ac560f0",
        "colab": {
          "base_uri": "https://localhost:8080/",
          "height": 965
        }
      },
      "source": [
        "df.head(10).transpose()"
      ],
      "execution_count": 0,
      "outputs": [
        {
          "output_type": "execute_result",
          "data": {
            "text/html": [
              "<div>\n",
              "<style scoped>\n",
              "    .dataframe tbody tr th:only-of-type {\n",
              "        vertical-align: middle;\n",
              "    }\n",
              "\n",
              "    .dataframe tbody tr th {\n",
              "        vertical-align: top;\n",
              "    }\n",
              "\n",
              "    .dataframe thead th {\n",
              "        text-align: right;\n",
              "    }\n",
              "</style>\n",
              "<table border=\"1\" class=\"dataframe\">\n",
              "  <thead>\n",
              "    <tr style=\"text-align: right;\">\n",
              "      <th></th>\n",
              "      <th>0</th>\n",
              "      <th>1</th>\n",
              "      <th>2</th>\n",
              "      <th>3</th>\n",
              "      <th>4</th>\n",
              "      <th>5</th>\n",
              "      <th>6</th>\n",
              "      <th>7</th>\n",
              "      <th>8</th>\n",
              "      <th>9</th>\n",
              "    </tr>\n",
              "  </thead>\n",
              "  <tbody>\n",
              "    <tr>\n",
              "      <th>having_IP_Address</th>\n",
              "      <td>-1</td>\n",
              "      <td>1</td>\n",
              "      <td>1</td>\n",
              "      <td>1</td>\n",
              "      <td>1</td>\n",
              "      <td>-1</td>\n",
              "      <td>1</td>\n",
              "      <td>1</td>\n",
              "      <td>1</td>\n",
              "      <td>1</td>\n",
              "    </tr>\n",
              "    <tr>\n",
              "      <th>URL_Length</th>\n",
              "      <td>1</td>\n",
              "      <td>1</td>\n",
              "      <td>0</td>\n",
              "      <td>0</td>\n",
              "      <td>0</td>\n",
              "      <td>0</td>\n",
              "      <td>0</td>\n",
              "      <td>0</td>\n",
              "      <td>0</td>\n",
              "      <td>1</td>\n",
              "    </tr>\n",
              "    <tr>\n",
              "      <th>Shortining_Service</th>\n",
              "      <td>1</td>\n",
              "      <td>1</td>\n",
              "      <td>1</td>\n",
              "      <td>1</td>\n",
              "      <td>-1</td>\n",
              "      <td>-1</td>\n",
              "      <td>-1</td>\n",
              "      <td>1</td>\n",
              "      <td>-1</td>\n",
              "      <td>-1</td>\n",
              "    </tr>\n",
              "    <tr>\n",
              "      <th>having_At_Symbol</th>\n",
              "      <td>1</td>\n",
              "      <td>1</td>\n",
              "      <td>1</td>\n",
              "      <td>1</td>\n",
              "      <td>1</td>\n",
              "      <td>1</td>\n",
              "      <td>1</td>\n",
              "      <td>1</td>\n",
              "      <td>1</td>\n",
              "      <td>1</td>\n",
              "    </tr>\n",
              "    <tr>\n",
              "      <th>double_slash_redirecting</th>\n",
              "      <td>-1</td>\n",
              "      <td>1</td>\n",
              "      <td>1</td>\n",
              "      <td>1</td>\n",
              "      <td>1</td>\n",
              "      <td>-1</td>\n",
              "      <td>1</td>\n",
              "      <td>1</td>\n",
              "      <td>1</td>\n",
              "      <td>1</td>\n",
              "    </tr>\n",
              "    <tr>\n",
              "      <th>Prefix_Suffix</th>\n",
              "      <td>-1</td>\n",
              "      <td>-1</td>\n",
              "      <td>-1</td>\n",
              "      <td>-1</td>\n",
              "      <td>-1</td>\n",
              "      <td>-1</td>\n",
              "      <td>-1</td>\n",
              "      <td>-1</td>\n",
              "      <td>-1</td>\n",
              "      <td>-1</td>\n",
              "    </tr>\n",
              "    <tr>\n",
              "      <th>having_Sub_Domain</th>\n",
              "      <td>-1</td>\n",
              "      <td>0</td>\n",
              "      <td>-1</td>\n",
              "      <td>-1</td>\n",
              "      <td>1</td>\n",
              "      <td>1</td>\n",
              "      <td>-1</td>\n",
              "      <td>-1</td>\n",
              "      <td>1</td>\n",
              "      <td>-1</td>\n",
              "    </tr>\n",
              "    <tr>\n",
              "      <th>SSLfinal_State</th>\n",
              "      <td>-1</td>\n",
              "      <td>1</td>\n",
              "      <td>-1</td>\n",
              "      <td>-1</td>\n",
              "      <td>1</td>\n",
              "      <td>1</td>\n",
              "      <td>-1</td>\n",
              "      <td>-1</td>\n",
              "      <td>1</td>\n",
              "      <td>1</td>\n",
              "    </tr>\n",
              "    <tr>\n",
              "      <th>Domain_registeration_length</th>\n",
              "      <td>-1</td>\n",
              "      <td>-1</td>\n",
              "      <td>-1</td>\n",
              "      <td>1</td>\n",
              "      <td>-1</td>\n",
              "      <td>-1</td>\n",
              "      <td>1</td>\n",
              "      <td>1</td>\n",
              "      <td>-1</td>\n",
              "      <td>-1</td>\n",
              "    </tr>\n",
              "    <tr>\n",
              "      <th>Favicon</th>\n",
              "      <td>1</td>\n",
              "      <td>1</td>\n",
              "      <td>1</td>\n",
              "      <td>1</td>\n",
              "      <td>1</td>\n",
              "      <td>1</td>\n",
              "      <td>1</td>\n",
              "      <td>1</td>\n",
              "      <td>1</td>\n",
              "      <td>1</td>\n",
              "    </tr>\n",
              "    <tr>\n",
              "      <th>port</th>\n",
              "      <td>1</td>\n",
              "      <td>1</td>\n",
              "      <td>1</td>\n",
              "      <td>1</td>\n",
              "      <td>1</td>\n",
              "      <td>1</td>\n",
              "      <td>1</td>\n",
              "      <td>1</td>\n",
              "      <td>1</td>\n",
              "      <td>1</td>\n",
              "    </tr>\n",
              "    <tr>\n",
              "      <th>HTTPS_token</th>\n",
              "      <td>-1</td>\n",
              "      <td>-1</td>\n",
              "      <td>-1</td>\n",
              "      <td>-1</td>\n",
              "      <td>1</td>\n",
              "      <td>-1</td>\n",
              "      <td>1</td>\n",
              "      <td>-1</td>\n",
              "      <td>-1</td>\n",
              "      <td>1</td>\n",
              "    </tr>\n",
              "    <tr>\n",
              "      <th>Request_URL</th>\n",
              "      <td>1</td>\n",
              "      <td>1</td>\n",
              "      <td>1</td>\n",
              "      <td>-1</td>\n",
              "      <td>1</td>\n",
              "      <td>1</td>\n",
              "      <td>-1</td>\n",
              "      <td>-1</td>\n",
              "      <td>1</td>\n",
              "      <td>1</td>\n",
              "    </tr>\n",
              "    <tr>\n",
              "      <th>URL_of_Anchor</th>\n",
              "      <td>-1</td>\n",
              "      <td>0</td>\n",
              "      <td>0</td>\n",
              "      <td>0</td>\n",
              "      <td>0</td>\n",
              "      <td>0</td>\n",
              "      <td>-1</td>\n",
              "      <td>0</td>\n",
              "      <td>0</td>\n",
              "      <td>0</td>\n",
              "    </tr>\n",
              "    <tr>\n",
              "      <th>Links_in_tags</th>\n",
              "      <td>1</td>\n",
              "      <td>-1</td>\n",
              "      <td>-1</td>\n",
              "      <td>0</td>\n",
              "      <td>0</td>\n",
              "      <td>0</td>\n",
              "      <td>0</td>\n",
              "      <td>-1</td>\n",
              "      <td>1</td>\n",
              "      <td>1</td>\n",
              "    </tr>\n",
              "    <tr>\n",
              "      <th>SFH</th>\n",
              "      <td>-1</td>\n",
              "      <td>-1</td>\n",
              "      <td>-1</td>\n",
              "      <td>-1</td>\n",
              "      <td>-1</td>\n",
              "      <td>-1</td>\n",
              "      <td>-1</td>\n",
              "      <td>-1</td>\n",
              "      <td>-1</td>\n",
              "      <td>-1</td>\n",
              "    </tr>\n",
              "    <tr>\n",
              "      <th>Submitting_to_email</th>\n",
              "      <td>-1</td>\n",
              "      <td>1</td>\n",
              "      <td>-1</td>\n",
              "      <td>1</td>\n",
              "      <td>1</td>\n",
              "      <td>-1</td>\n",
              "      <td>-1</td>\n",
              "      <td>1</td>\n",
              "      <td>1</td>\n",
              "      <td>1</td>\n",
              "    </tr>\n",
              "    <tr>\n",
              "      <th>Abnormal_URL</th>\n",
              "      <td>-1</td>\n",
              "      <td>1</td>\n",
              "      <td>-1</td>\n",
              "      <td>1</td>\n",
              "      <td>1</td>\n",
              "      <td>-1</td>\n",
              "      <td>-1</td>\n",
              "      <td>1</td>\n",
              "      <td>1</td>\n",
              "      <td>1</td>\n",
              "    </tr>\n",
              "    <tr>\n",
              "      <th>Redirect</th>\n",
              "      <td>0</td>\n",
              "      <td>0</td>\n",
              "      <td>0</td>\n",
              "      <td>0</td>\n",
              "      <td>0</td>\n",
              "      <td>0</td>\n",
              "      <td>0</td>\n",
              "      <td>0</td>\n",
              "      <td>0</td>\n",
              "      <td>0</td>\n",
              "    </tr>\n",
              "    <tr>\n",
              "      <th>on_mouseover</th>\n",
              "      <td>1</td>\n",
              "      <td>1</td>\n",
              "      <td>1</td>\n",
              "      <td>1</td>\n",
              "      <td>-1</td>\n",
              "      <td>1</td>\n",
              "      <td>1</td>\n",
              "      <td>1</td>\n",
              "      <td>1</td>\n",
              "      <td>1</td>\n",
              "    </tr>\n",
              "    <tr>\n",
              "      <th>RightClick</th>\n",
              "      <td>1</td>\n",
              "      <td>1</td>\n",
              "      <td>1</td>\n",
              "      <td>1</td>\n",
              "      <td>1</td>\n",
              "      <td>1</td>\n",
              "      <td>1</td>\n",
              "      <td>1</td>\n",
              "      <td>1</td>\n",
              "      <td>1</td>\n",
              "    </tr>\n",
              "    <tr>\n",
              "      <th>popUpWidnow</th>\n",
              "      <td>1</td>\n",
              "      <td>1</td>\n",
              "      <td>1</td>\n",
              "      <td>1</td>\n",
              "      <td>-1</td>\n",
              "      <td>1</td>\n",
              "      <td>1</td>\n",
              "      <td>1</td>\n",
              "      <td>1</td>\n",
              "      <td>1</td>\n",
              "    </tr>\n",
              "    <tr>\n",
              "      <th>Iframe</th>\n",
              "      <td>1</td>\n",
              "      <td>1</td>\n",
              "      <td>1</td>\n",
              "      <td>1</td>\n",
              "      <td>1</td>\n",
              "      <td>1</td>\n",
              "      <td>1</td>\n",
              "      <td>1</td>\n",
              "      <td>1</td>\n",
              "      <td>1</td>\n",
              "    </tr>\n",
              "    <tr>\n",
              "      <th>age_of_domain</th>\n",
              "      <td>-1</td>\n",
              "      <td>-1</td>\n",
              "      <td>1</td>\n",
              "      <td>-1</td>\n",
              "      <td>-1</td>\n",
              "      <td>1</td>\n",
              "      <td>1</td>\n",
              "      <td>-1</td>\n",
              "      <td>1</td>\n",
              "      <td>1</td>\n",
              "    </tr>\n",
              "    <tr>\n",
              "      <th>DNSRecord</th>\n",
              "      <td>-1</td>\n",
              "      <td>-1</td>\n",
              "      <td>-1</td>\n",
              "      <td>-1</td>\n",
              "      <td>-1</td>\n",
              "      <td>1</td>\n",
              "      <td>-1</td>\n",
              "      <td>-1</td>\n",
              "      <td>-1</td>\n",
              "      <td>-1</td>\n",
              "    </tr>\n",
              "    <tr>\n",
              "      <th>web_traffic</th>\n",
              "      <td>-1</td>\n",
              "      <td>0</td>\n",
              "      <td>1</td>\n",
              "      <td>1</td>\n",
              "      <td>0</td>\n",
              "      <td>1</td>\n",
              "      <td>-1</td>\n",
              "      <td>0</td>\n",
              "      <td>1</td>\n",
              "      <td>0</td>\n",
              "    </tr>\n",
              "    <tr>\n",
              "      <th>Page_Rank</th>\n",
              "      <td>-1</td>\n",
              "      <td>-1</td>\n",
              "      <td>-1</td>\n",
              "      <td>-1</td>\n",
              "      <td>-1</td>\n",
              "      <td>-1</td>\n",
              "      <td>-1</td>\n",
              "      <td>-1</td>\n",
              "      <td>1</td>\n",
              "      <td>-1</td>\n",
              "    </tr>\n",
              "    <tr>\n",
              "      <th>Google_Index</th>\n",
              "      <td>1</td>\n",
              "      <td>1</td>\n",
              "      <td>1</td>\n",
              "      <td>1</td>\n",
              "      <td>1</td>\n",
              "      <td>1</td>\n",
              "      <td>1</td>\n",
              "      <td>1</td>\n",
              "      <td>1</td>\n",
              "      <td>1</td>\n",
              "    </tr>\n",
              "    <tr>\n",
              "      <th>Links_pointing_to_page</th>\n",
              "      <td>1</td>\n",
              "      <td>1</td>\n",
              "      <td>0</td>\n",
              "      <td>-1</td>\n",
              "      <td>1</td>\n",
              "      <td>-1</td>\n",
              "      <td>0</td>\n",
              "      <td>0</td>\n",
              "      <td>0</td>\n",
              "      <td>0</td>\n",
              "    </tr>\n",
              "    <tr>\n",
              "      <th>Statistical_report</th>\n",
              "      <td>-1</td>\n",
              "      <td>1</td>\n",
              "      <td>-1</td>\n",
              "      <td>1</td>\n",
              "      <td>1</td>\n",
              "      <td>-1</td>\n",
              "      <td>-1</td>\n",
              "      <td>1</td>\n",
              "      <td>1</td>\n",
              "      <td>1</td>\n",
              "    </tr>\n",
              "    <tr>\n",
              "      <th>Result</th>\n",
              "      <td>-1</td>\n",
              "      <td>-1</td>\n",
              "      <td>-1</td>\n",
              "      <td>-1</td>\n",
              "      <td>1</td>\n",
              "      <td>1</td>\n",
              "      <td>-1</td>\n",
              "      <td>-1</td>\n",
              "      <td>1</td>\n",
              "      <td>-1</td>\n",
              "    </tr>\n",
              "  </tbody>\n",
              "</table>\n",
              "</div>"
            ],
            "text/plain": [
              "                             0  1  2  3  4  5  6  7  8  9\n",
              "having_IP_Address           -1  1  1  1  1 -1  1  1  1  1\n",
              "URL_Length                   1  1  0  0  0  0  0  0  0  1\n",
              "Shortining_Service           1  1  1  1 -1 -1 -1  1 -1 -1\n",
              "having_At_Symbol             1  1  1  1  1  1  1  1  1  1\n",
              "double_slash_redirecting    -1  1  1  1  1 -1  1  1  1  1\n",
              "Prefix_Suffix               -1 -1 -1 -1 -1 -1 -1 -1 -1 -1\n",
              "having_Sub_Domain           -1  0 -1 -1  1  1 -1 -1  1 -1\n",
              "SSLfinal_State              -1  1 -1 -1  1  1 -1 -1  1  1\n",
              "Domain_registeration_length -1 -1 -1  1 -1 -1  1  1 -1 -1\n",
              "Favicon                      1  1  1  1  1  1  1  1  1  1\n",
              "port                         1  1  1  1  1  1  1  1  1  1\n",
              "HTTPS_token                 -1 -1 -1 -1  1 -1  1 -1 -1  1\n",
              "Request_URL                  1  1  1 -1  1  1 -1 -1  1  1\n",
              "URL_of_Anchor               -1  0  0  0  0  0 -1  0  0  0\n",
              "Links_in_tags                1 -1 -1  0  0  0  0 -1  1  1\n",
              "SFH                         -1 -1 -1 -1 -1 -1 -1 -1 -1 -1\n",
              "Submitting_to_email         -1  1 -1  1  1 -1 -1  1  1  1\n",
              "Abnormal_URL                -1  1 -1  1  1 -1 -1  1  1  1\n",
              "Redirect                     0  0  0  0  0  0  0  0  0  0\n",
              "on_mouseover                 1  1  1  1 -1  1  1  1  1  1\n",
              "RightClick                   1  1  1  1  1  1  1  1  1  1\n",
              "popUpWidnow                  1  1  1  1 -1  1  1  1  1  1\n",
              "Iframe                       1  1  1  1  1  1  1  1  1  1\n",
              "age_of_domain               -1 -1  1 -1 -1  1  1 -1  1  1\n",
              "DNSRecord                   -1 -1 -1 -1 -1  1 -1 -1 -1 -1\n",
              "web_traffic                 -1  0  1  1  0  1 -1  0  1  0\n",
              "Page_Rank                   -1 -1 -1 -1 -1 -1 -1 -1  1 -1\n",
              "Google_Index                 1  1  1  1  1  1  1  1  1  1\n",
              "Links_pointing_to_page       1  1  0 -1  1 -1  0  0  0  0\n",
              "Statistical_report          -1  1 -1  1  1 -1 -1  1  1  1\n",
              "Result                      -1 -1 -1 -1  1  1 -1 -1  1 -1"
            ]
          },
          "metadata": {
            "tags": []
          },
          "execution_count": 8
        }
      ]
    },
    {
      "cell_type": "markdown",
      "metadata": {
        "id": "mz7yGbb_W7kN",
        "colab_type": "text"
      },
      "source": [
        "Checking for null values in the dataframe"
      ]
    },
    {
      "cell_type": "code",
      "metadata": {
        "id": "3WLOqsUqTSTl",
        "colab_type": "code",
        "outputId": "19cab680-9da4-4d5b-a3cb-8010dc1748a8",
        "colab": {
          "base_uri": "https://localhost:8080/",
          "height": 554
        }
      },
      "source": [
        "df.isna().sum()"
      ],
      "execution_count": 0,
      "outputs": [
        {
          "output_type": "execute_result",
          "data": {
            "text/plain": [
              "having_IP_Address              0\n",
              "URL_Length                     0\n",
              "Shortining_Service             0\n",
              "having_At_Symbol               0\n",
              "double_slash_redirecting       0\n",
              "Prefix_Suffix                  0\n",
              "having_Sub_Domain              0\n",
              "SSLfinal_State                 0\n",
              "Domain_registeration_length    0\n",
              "Favicon                        0\n",
              "port                           0\n",
              "HTTPS_token                    0\n",
              "Request_URL                    0\n",
              "URL_of_Anchor                  0\n",
              "Links_in_tags                  0\n",
              "SFH                            0\n",
              "Submitting_to_email            0\n",
              "Abnormal_URL                   0\n",
              "Redirect                       0\n",
              "on_mouseover                   0\n",
              "RightClick                     0\n",
              "popUpWidnow                    0\n",
              "Iframe                         0\n",
              "age_of_domain                  0\n",
              "DNSRecord                      0\n",
              "web_traffic                    0\n",
              "Page_Rank                      0\n",
              "Google_Index                   0\n",
              "Links_pointing_to_page         0\n",
              "Statistical_report             0\n",
              "Result                         0\n",
              "dtype: int64"
            ]
          },
          "metadata": {
            "tags": []
          },
          "execution_count": 9
        }
      ]
    },
    {
      "cell_type": "code",
      "metadata": {
        "id": "fFpOrlAgS-Om",
        "colab_type": "code",
        "outputId": "0421c27c-72c6-4cc8-b269-ccf57ca3b3e8",
        "colab": {
          "base_uri": "https://localhost:8080/",
          "height": 655
        }
      },
      "source": [
        "#Basic info about the Dataframe\n",
        "df.info()"
      ],
      "execution_count": 0,
      "outputs": [
        {
          "output_type": "stream",
          "text": [
            "<class 'pandas.core.frame.DataFrame'>\n",
            "RangeIndex: 11055 entries, 0 to 11054\n",
            "Data columns (total 31 columns):\n",
            " #   Column                       Non-Null Count  Dtype\n",
            "---  ------                       --------------  -----\n",
            " 0   having_IP_Address            11055 non-null  int64\n",
            " 1   URL_Length                   11055 non-null  int64\n",
            " 2   Shortining_Service           11055 non-null  int64\n",
            " 3   having_At_Symbol             11055 non-null  int64\n",
            " 4   double_slash_redirecting     11055 non-null  int64\n",
            " 5   Prefix_Suffix                11055 non-null  int64\n",
            " 6   having_Sub_Domain            11055 non-null  int64\n",
            " 7   SSLfinal_State               11055 non-null  int64\n",
            " 8   Domain_registeration_length  11055 non-null  int64\n",
            " 9   Favicon                      11055 non-null  int64\n",
            " 10  port                         11055 non-null  int64\n",
            " 11  HTTPS_token                  11055 non-null  int64\n",
            " 12  Request_URL                  11055 non-null  int64\n",
            " 13  URL_of_Anchor                11055 non-null  int64\n",
            " 14  Links_in_tags                11055 non-null  int64\n",
            " 15  SFH                          11055 non-null  int64\n",
            " 16  Submitting_to_email          11055 non-null  int64\n",
            " 17  Abnormal_URL                 11055 non-null  int64\n",
            " 18  Redirect                     11055 non-null  int64\n",
            " 19  on_mouseover                 11055 non-null  int64\n",
            " 20  RightClick                   11055 non-null  int64\n",
            " 21  popUpWidnow                  11055 non-null  int64\n",
            " 22  Iframe                       11055 non-null  int64\n",
            " 23  age_of_domain                11055 non-null  int64\n",
            " 24  DNSRecord                    11055 non-null  int64\n",
            " 25  web_traffic                  11055 non-null  int64\n",
            " 26  Page_Rank                    11055 non-null  int64\n",
            " 27  Google_Index                 11055 non-null  int64\n",
            " 28  Links_pointing_to_page       11055 non-null  int64\n",
            " 29  Statistical_report           11055 non-null  int64\n",
            " 30  Result                       11055 non-null  int64\n",
            "dtypes: int64(31)\n",
            "memory usage: 2.6 MB\n"
          ],
          "name": "stdout"
        }
      ]
    },
    {
      "cell_type": "code",
      "metadata": {
        "id": "a1py0CKMKGo9",
        "colab_type": "code",
        "outputId": "ea819ade-4fb1-45eb-ccb2-77e87d03dd28",
        "colab": {
          "base_uri": "https://localhost:8080/",
          "height": 965
        }
      },
      "source": [
        "#Using Describe Method to see patterns in data along with min,max and quarlitles for each column\n",
        "df.describe().transpose()"
      ],
      "execution_count": 0,
      "outputs": [
        {
          "output_type": "execute_result",
          "data": {
            "text/html": [
              "<div>\n",
              "<style scoped>\n",
              "    .dataframe tbody tr th:only-of-type {\n",
              "        vertical-align: middle;\n",
              "    }\n",
              "\n",
              "    .dataframe tbody tr th {\n",
              "        vertical-align: top;\n",
              "    }\n",
              "\n",
              "    .dataframe thead th {\n",
              "        text-align: right;\n",
              "    }\n",
              "</style>\n",
              "<table border=\"1\" class=\"dataframe\">\n",
              "  <thead>\n",
              "    <tr style=\"text-align: right;\">\n",
              "      <th></th>\n",
              "      <th>count</th>\n",
              "      <th>mean</th>\n",
              "      <th>std</th>\n",
              "      <th>min</th>\n",
              "      <th>25%</th>\n",
              "      <th>50%</th>\n",
              "      <th>75%</th>\n",
              "      <th>max</th>\n",
              "    </tr>\n",
              "  </thead>\n",
              "  <tbody>\n",
              "    <tr>\n",
              "      <th>having_IP_Address</th>\n",
              "      <td>11055.0</td>\n",
              "      <td>0.313795</td>\n",
              "      <td>0.949534</td>\n",
              "      <td>-1.0</td>\n",
              "      <td>-1.0</td>\n",
              "      <td>1.0</td>\n",
              "      <td>1.0</td>\n",
              "      <td>1.0</td>\n",
              "    </tr>\n",
              "    <tr>\n",
              "      <th>URL_Length</th>\n",
              "      <td>11055.0</td>\n",
              "      <td>-0.633198</td>\n",
              "      <td>0.766095</td>\n",
              "      <td>-1.0</td>\n",
              "      <td>-1.0</td>\n",
              "      <td>-1.0</td>\n",
              "      <td>-1.0</td>\n",
              "      <td>1.0</td>\n",
              "    </tr>\n",
              "    <tr>\n",
              "      <th>Shortining_Service</th>\n",
              "      <td>11055.0</td>\n",
              "      <td>0.738761</td>\n",
              "      <td>0.673998</td>\n",
              "      <td>-1.0</td>\n",
              "      <td>1.0</td>\n",
              "      <td>1.0</td>\n",
              "      <td>1.0</td>\n",
              "      <td>1.0</td>\n",
              "    </tr>\n",
              "    <tr>\n",
              "      <th>having_At_Symbol</th>\n",
              "      <td>11055.0</td>\n",
              "      <td>0.700588</td>\n",
              "      <td>0.713598</td>\n",
              "      <td>-1.0</td>\n",
              "      <td>1.0</td>\n",
              "      <td>1.0</td>\n",
              "      <td>1.0</td>\n",
              "      <td>1.0</td>\n",
              "    </tr>\n",
              "    <tr>\n",
              "      <th>double_slash_redirecting</th>\n",
              "      <td>11055.0</td>\n",
              "      <td>0.741474</td>\n",
              "      <td>0.671011</td>\n",
              "      <td>-1.0</td>\n",
              "      <td>1.0</td>\n",
              "      <td>1.0</td>\n",
              "      <td>1.0</td>\n",
              "      <td>1.0</td>\n",
              "    </tr>\n",
              "    <tr>\n",
              "      <th>Prefix_Suffix</th>\n",
              "      <td>11055.0</td>\n",
              "      <td>-0.734962</td>\n",
              "      <td>0.678139</td>\n",
              "      <td>-1.0</td>\n",
              "      <td>-1.0</td>\n",
              "      <td>-1.0</td>\n",
              "      <td>-1.0</td>\n",
              "      <td>1.0</td>\n",
              "    </tr>\n",
              "    <tr>\n",
              "      <th>having_Sub_Domain</th>\n",
              "      <td>11055.0</td>\n",
              "      <td>0.063953</td>\n",
              "      <td>0.817518</td>\n",
              "      <td>-1.0</td>\n",
              "      <td>-1.0</td>\n",
              "      <td>0.0</td>\n",
              "      <td>1.0</td>\n",
              "      <td>1.0</td>\n",
              "    </tr>\n",
              "    <tr>\n",
              "      <th>SSLfinal_State</th>\n",
              "      <td>11055.0</td>\n",
              "      <td>0.250927</td>\n",
              "      <td>0.911892</td>\n",
              "      <td>-1.0</td>\n",
              "      <td>-1.0</td>\n",
              "      <td>1.0</td>\n",
              "      <td>1.0</td>\n",
              "      <td>1.0</td>\n",
              "    </tr>\n",
              "    <tr>\n",
              "      <th>Domain_registeration_length</th>\n",
              "      <td>11055.0</td>\n",
              "      <td>-0.336771</td>\n",
              "      <td>0.941629</td>\n",
              "      <td>-1.0</td>\n",
              "      <td>-1.0</td>\n",
              "      <td>-1.0</td>\n",
              "      <td>1.0</td>\n",
              "      <td>1.0</td>\n",
              "    </tr>\n",
              "    <tr>\n",
              "      <th>Favicon</th>\n",
              "      <td>11055.0</td>\n",
              "      <td>0.628584</td>\n",
              "      <td>0.777777</td>\n",
              "      <td>-1.0</td>\n",
              "      <td>1.0</td>\n",
              "      <td>1.0</td>\n",
              "      <td>1.0</td>\n",
              "      <td>1.0</td>\n",
              "    </tr>\n",
              "    <tr>\n",
              "      <th>port</th>\n",
              "      <td>11055.0</td>\n",
              "      <td>0.728268</td>\n",
              "      <td>0.685324</td>\n",
              "      <td>-1.0</td>\n",
              "      <td>1.0</td>\n",
              "      <td>1.0</td>\n",
              "      <td>1.0</td>\n",
              "      <td>1.0</td>\n",
              "    </tr>\n",
              "    <tr>\n",
              "      <th>HTTPS_token</th>\n",
              "      <td>11055.0</td>\n",
              "      <td>0.675079</td>\n",
              "      <td>0.737779</td>\n",
              "      <td>-1.0</td>\n",
              "      <td>1.0</td>\n",
              "      <td>1.0</td>\n",
              "      <td>1.0</td>\n",
              "      <td>1.0</td>\n",
              "    </tr>\n",
              "    <tr>\n",
              "      <th>Request_URL</th>\n",
              "      <td>11055.0</td>\n",
              "      <td>0.186793</td>\n",
              "      <td>0.982444</td>\n",
              "      <td>-1.0</td>\n",
              "      <td>-1.0</td>\n",
              "      <td>1.0</td>\n",
              "      <td>1.0</td>\n",
              "      <td>1.0</td>\n",
              "    </tr>\n",
              "    <tr>\n",
              "      <th>URL_of_Anchor</th>\n",
              "      <td>11055.0</td>\n",
              "      <td>-0.076526</td>\n",
              "      <td>0.715138</td>\n",
              "      <td>-1.0</td>\n",
              "      <td>-1.0</td>\n",
              "      <td>0.0</td>\n",
              "      <td>0.0</td>\n",
              "      <td>1.0</td>\n",
              "    </tr>\n",
              "    <tr>\n",
              "      <th>Links_in_tags</th>\n",
              "      <td>11055.0</td>\n",
              "      <td>-0.118137</td>\n",
              "      <td>0.763973</td>\n",
              "      <td>-1.0</td>\n",
              "      <td>-1.0</td>\n",
              "      <td>0.0</td>\n",
              "      <td>0.0</td>\n",
              "      <td>1.0</td>\n",
              "    </tr>\n",
              "    <tr>\n",
              "      <th>SFH</th>\n",
              "      <td>11055.0</td>\n",
              "      <td>-0.595749</td>\n",
              "      <td>0.759143</td>\n",
              "      <td>-1.0</td>\n",
              "      <td>-1.0</td>\n",
              "      <td>-1.0</td>\n",
              "      <td>-1.0</td>\n",
              "      <td>1.0</td>\n",
              "    </tr>\n",
              "    <tr>\n",
              "      <th>Submitting_to_email</th>\n",
              "      <td>11055.0</td>\n",
              "      <td>0.635640</td>\n",
              "      <td>0.772021</td>\n",
              "      <td>-1.0</td>\n",
              "      <td>1.0</td>\n",
              "      <td>1.0</td>\n",
              "      <td>1.0</td>\n",
              "      <td>1.0</td>\n",
              "    </tr>\n",
              "    <tr>\n",
              "      <th>Abnormal_URL</th>\n",
              "      <td>11055.0</td>\n",
              "      <td>0.705292</td>\n",
              "      <td>0.708949</td>\n",
              "      <td>-1.0</td>\n",
              "      <td>1.0</td>\n",
              "      <td>1.0</td>\n",
              "      <td>1.0</td>\n",
              "      <td>1.0</td>\n",
              "    </tr>\n",
              "    <tr>\n",
              "      <th>Redirect</th>\n",
              "      <td>11055.0</td>\n",
              "      <td>0.115694</td>\n",
              "      <td>0.319872</td>\n",
              "      <td>0.0</td>\n",
              "      <td>0.0</td>\n",
              "      <td>0.0</td>\n",
              "      <td>0.0</td>\n",
              "      <td>1.0</td>\n",
              "    </tr>\n",
              "    <tr>\n",
              "      <th>on_mouseover</th>\n",
              "      <td>11055.0</td>\n",
              "      <td>0.762099</td>\n",
              "      <td>0.647490</td>\n",
              "      <td>-1.0</td>\n",
              "      <td>1.0</td>\n",
              "      <td>1.0</td>\n",
              "      <td>1.0</td>\n",
              "      <td>1.0</td>\n",
              "    </tr>\n",
              "    <tr>\n",
              "      <th>RightClick</th>\n",
              "      <td>11055.0</td>\n",
              "      <td>0.913885</td>\n",
              "      <td>0.405991</td>\n",
              "      <td>-1.0</td>\n",
              "      <td>1.0</td>\n",
              "      <td>1.0</td>\n",
              "      <td>1.0</td>\n",
              "      <td>1.0</td>\n",
              "    </tr>\n",
              "    <tr>\n",
              "      <th>popUpWidnow</th>\n",
              "      <td>11055.0</td>\n",
              "      <td>0.613388</td>\n",
              "      <td>0.789818</td>\n",
              "      <td>-1.0</td>\n",
              "      <td>1.0</td>\n",
              "      <td>1.0</td>\n",
              "      <td>1.0</td>\n",
              "      <td>1.0</td>\n",
              "    </tr>\n",
              "    <tr>\n",
              "      <th>Iframe</th>\n",
              "      <td>11055.0</td>\n",
              "      <td>0.816915</td>\n",
              "      <td>0.576784</td>\n",
              "      <td>-1.0</td>\n",
              "      <td>1.0</td>\n",
              "      <td>1.0</td>\n",
              "      <td>1.0</td>\n",
              "      <td>1.0</td>\n",
              "    </tr>\n",
              "    <tr>\n",
              "      <th>age_of_domain</th>\n",
              "      <td>11055.0</td>\n",
              "      <td>0.061239</td>\n",
              "      <td>0.998168</td>\n",
              "      <td>-1.0</td>\n",
              "      <td>-1.0</td>\n",
              "      <td>1.0</td>\n",
              "      <td>1.0</td>\n",
              "      <td>1.0</td>\n",
              "    </tr>\n",
              "    <tr>\n",
              "      <th>DNSRecord</th>\n",
              "      <td>11055.0</td>\n",
              "      <td>0.377114</td>\n",
              "      <td>0.926209</td>\n",
              "      <td>-1.0</td>\n",
              "      <td>-1.0</td>\n",
              "      <td>1.0</td>\n",
              "      <td>1.0</td>\n",
              "      <td>1.0</td>\n",
              "    </tr>\n",
              "    <tr>\n",
              "      <th>web_traffic</th>\n",
              "      <td>11055.0</td>\n",
              "      <td>0.287291</td>\n",
              "      <td>0.827733</td>\n",
              "      <td>-1.0</td>\n",
              "      <td>0.0</td>\n",
              "      <td>1.0</td>\n",
              "      <td>1.0</td>\n",
              "      <td>1.0</td>\n",
              "    </tr>\n",
              "    <tr>\n",
              "      <th>Page_Rank</th>\n",
              "      <td>11055.0</td>\n",
              "      <td>-0.483673</td>\n",
              "      <td>0.875289</td>\n",
              "      <td>-1.0</td>\n",
              "      <td>-1.0</td>\n",
              "      <td>-1.0</td>\n",
              "      <td>1.0</td>\n",
              "      <td>1.0</td>\n",
              "    </tr>\n",
              "    <tr>\n",
              "      <th>Google_Index</th>\n",
              "      <td>11055.0</td>\n",
              "      <td>0.721574</td>\n",
              "      <td>0.692369</td>\n",
              "      <td>-1.0</td>\n",
              "      <td>1.0</td>\n",
              "      <td>1.0</td>\n",
              "      <td>1.0</td>\n",
              "      <td>1.0</td>\n",
              "    </tr>\n",
              "    <tr>\n",
              "      <th>Links_pointing_to_page</th>\n",
              "      <td>11055.0</td>\n",
              "      <td>0.344007</td>\n",
              "      <td>0.569944</td>\n",
              "      <td>-1.0</td>\n",
              "      <td>0.0</td>\n",
              "      <td>0.0</td>\n",
              "      <td>1.0</td>\n",
              "      <td>1.0</td>\n",
              "    </tr>\n",
              "    <tr>\n",
              "      <th>Statistical_report</th>\n",
              "      <td>11055.0</td>\n",
              "      <td>0.719584</td>\n",
              "      <td>0.694437</td>\n",
              "      <td>-1.0</td>\n",
              "      <td>1.0</td>\n",
              "      <td>1.0</td>\n",
              "      <td>1.0</td>\n",
              "      <td>1.0</td>\n",
              "    </tr>\n",
              "    <tr>\n",
              "      <th>Result</th>\n",
              "      <td>11055.0</td>\n",
              "      <td>0.113885</td>\n",
              "      <td>0.993539</td>\n",
              "      <td>-1.0</td>\n",
              "      <td>-1.0</td>\n",
              "      <td>1.0</td>\n",
              "      <td>1.0</td>\n",
              "      <td>1.0</td>\n",
              "    </tr>\n",
              "  </tbody>\n",
              "</table>\n",
              "</div>"
            ],
            "text/plain": [
              "                               count      mean       std  ...  50%  75%  max\n",
              "having_IP_Address            11055.0  0.313795  0.949534  ...  1.0  1.0  1.0\n",
              "URL_Length                   11055.0 -0.633198  0.766095  ... -1.0 -1.0  1.0\n",
              "Shortining_Service           11055.0  0.738761  0.673998  ...  1.0  1.0  1.0\n",
              "having_At_Symbol             11055.0  0.700588  0.713598  ...  1.0  1.0  1.0\n",
              "double_slash_redirecting     11055.0  0.741474  0.671011  ...  1.0  1.0  1.0\n",
              "Prefix_Suffix                11055.0 -0.734962  0.678139  ... -1.0 -1.0  1.0\n",
              "having_Sub_Domain            11055.0  0.063953  0.817518  ...  0.0  1.0  1.0\n",
              "SSLfinal_State               11055.0  0.250927  0.911892  ...  1.0  1.0  1.0\n",
              "Domain_registeration_length  11055.0 -0.336771  0.941629  ... -1.0  1.0  1.0\n",
              "Favicon                      11055.0  0.628584  0.777777  ...  1.0  1.0  1.0\n",
              "port                         11055.0  0.728268  0.685324  ...  1.0  1.0  1.0\n",
              "HTTPS_token                  11055.0  0.675079  0.737779  ...  1.0  1.0  1.0\n",
              "Request_URL                  11055.0  0.186793  0.982444  ...  1.0  1.0  1.0\n",
              "URL_of_Anchor                11055.0 -0.076526  0.715138  ...  0.0  0.0  1.0\n",
              "Links_in_tags                11055.0 -0.118137  0.763973  ...  0.0  0.0  1.0\n",
              "SFH                          11055.0 -0.595749  0.759143  ... -1.0 -1.0  1.0\n",
              "Submitting_to_email          11055.0  0.635640  0.772021  ...  1.0  1.0  1.0\n",
              "Abnormal_URL                 11055.0  0.705292  0.708949  ...  1.0  1.0  1.0\n",
              "Redirect                     11055.0  0.115694  0.319872  ...  0.0  0.0  1.0\n",
              "on_mouseover                 11055.0  0.762099  0.647490  ...  1.0  1.0  1.0\n",
              "RightClick                   11055.0  0.913885  0.405991  ...  1.0  1.0  1.0\n",
              "popUpWidnow                  11055.0  0.613388  0.789818  ...  1.0  1.0  1.0\n",
              "Iframe                       11055.0  0.816915  0.576784  ...  1.0  1.0  1.0\n",
              "age_of_domain                11055.0  0.061239  0.998168  ...  1.0  1.0  1.0\n",
              "DNSRecord                    11055.0  0.377114  0.926209  ...  1.0  1.0  1.0\n",
              "web_traffic                  11055.0  0.287291  0.827733  ...  1.0  1.0  1.0\n",
              "Page_Rank                    11055.0 -0.483673  0.875289  ... -1.0  1.0  1.0\n",
              "Google_Index                 11055.0  0.721574  0.692369  ...  1.0  1.0  1.0\n",
              "Links_pointing_to_page       11055.0  0.344007  0.569944  ...  0.0  1.0  1.0\n",
              "Statistical_report           11055.0  0.719584  0.694437  ...  1.0  1.0  1.0\n",
              "Result                       11055.0  0.113885  0.993539  ...  1.0  1.0  1.0\n",
              "\n",
              "[31 rows x 8 columns]"
            ]
          },
          "metadata": {
            "tags": []
          },
          "execution_count": 11
        }
      ]
    },
    {
      "cell_type": "code",
      "metadata": {
        "id": "b8dmwluJU4oZ",
        "colab_type": "code",
        "outputId": "45818270-a8d0-4328-fed3-de29ef063960",
        "colab": {
          "base_uri": "https://localhost:8080/",
          "height": 34
        }
      },
      "source": [
        "#Checking the values in Results column\n",
        "df[\"Result\"].unique()"
      ],
      "execution_count": 0,
      "outputs": [
        {
          "output_type": "execute_result",
          "data": {
            "text/plain": [
              "array([-1,  1])"
            ]
          },
          "metadata": {
            "tags": []
          },
          "execution_count": 12
        }
      ]
    },
    {
      "cell_type": "code",
      "metadata": {
        "id": "bmY6HkQjfmrA",
        "colab_type": "code",
        "colab": {}
      },
      "source": [
        "x,y=0,0 #setting individual couter values to 0"
      ],
      "execution_count": 0,
      "outputs": []
    },
    {
      "cell_type": "code",
      "metadata": {
        "id": "2e_MkDFKPwvw",
        "colab_type": "code",
        "outputId": "bd720afd-02b6-4e82-b2c4-e42cf3ecae04",
        "colab": {
          "base_uri": "https://localhost:8080/",
          "height": 34
        }
      },
      "source": [
        "#grouping data according to Result labels\n",
        "cls=[(1,x),(-1,y)]\n",
        "for i in range(0,len(df)): #this loop functions as a counnter loop\n",
        "  if df['Result'].iloc[i]==1:\n",
        "    x=x+1\n",
        "  else:\n",
        "    y=y+1\n",
        "cls"
      ],
      "execution_count": 0,
      "outputs": [
        {
          "output_type": "execute_result",
          "data": {
            "text/plain": [
              "[(1, 6157), (-1, 4898)]"
            ]
          },
          "metadata": {
            "tags": []
          },
          "execution_count": 22
        }
      ]
    },
    {
      "cell_type": "code",
      "metadata": {
        "id": "t466twHrNzVC",
        "colab_type": "code",
        "outputId": "3fb880f8-f7b5-4436-f09f-cb1c22c4edf5",
        "colab": {
          "base_uri": "https://localhost:8080/",
          "height": 106
        }
      },
      "source": [
        "#the above code can simply be written using inbuilt function counter\n",
        "from collections import Counter\n",
        "classes=Counter(df[\"Result\"].values)\n",
        "class_dist=pd.DataFrame(classes.most_common(),columns=[\"Class\",\"Num_of_Observations\"])\n",
        "class_dist"
      ],
      "execution_count": 0,
      "outputs": [
        {
          "output_type": "execute_result",
          "data": {
            "text/html": [
              "<div>\n",
              "<style scoped>\n",
              "    .dataframe tbody tr th:only-of-type {\n",
              "        vertical-align: middle;\n",
              "    }\n",
              "\n",
              "    .dataframe tbody tr th {\n",
              "        vertical-align: top;\n",
              "    }\n",
              "\n",
              "    .dataframe thead th {\n",
              "        text-align: right;\n",
              "    }\n",
              "</style>\n",
              "<table border=\"1\" class=\"dataframe\">\n",
              "  <thead>\n",
              "    <tr style=\"text-align: right;\">\n",
              "      <th></th>\n",
              "      <th>Class</th>\n",
              "      <th>Num_of_Observations</th>\n",
              "    </tr>\n",
              "  </thead>\n",
              "  <tbody>\n",
              "    <tr>\n",
              "      <th>0</th>\n",
              "      <td>1</td>\n",
              "      <td>6157</td>\n",
              "    </tr>\n",
              "    <tr>\n",
              "      <th>1</th>\n",
              "      <td>-1</td>\n",
              "      <td>4898</td>\n",
              "    </tr>\n",
              "  </tbody>\n",
              "</table>\n",
              "</div>"
            ],
            "text/plain": [
              "   Class  Num_of_Observations\n",
              "0      1                 6157\n",
              "1     -1                 4898"
            ]
          },
          "metadata": {
            "tags": []
          },
          "execution_count": 23
        }
      ]
    },
    {
      "cell_type": "markdown",
      "metadata": {
        "id": "DUk_3efBGowa",
        "colab_type": "text"
      },
      "source": [
        "# **Basic Plots and Graphical Representation of Relations (EDA)**"
      ]
    },
    {
      "cell_type": "code",
      "metadata": {
        "id": "t2vFLwBdOu8t",
        "colab_type": "code",
        "outputId": "7485a648-90b6-44f6-ebf5-c25ac6dbd520",
        "colab": {
          "base_uri": "https://localhost:8080/",
          "height": 519
        }
      },
      "source": [
        "#plotting the class distribution of each class\n",
        "plt.style.use('ggplot')\n",
        "\n",
        "subplot = class_dist.groupby('Class')['Num_of_Observations'].sum().plot(kind='barh', width=0.2, figsize=(10,8))\n",
        "\n",
        "subplot.set_title('Class distribution of the websites', fontsize = 15)\n",
        "subplot.set_xlabel('Number of Observations', fontsize = 14)\n",
        "subplot.set_ylabel('Class', fontsize = 14)\n",
        "\n",
        "for i in subplot.patches:\n",
        "    subplot.text(i.get_width()+0.1, i.get_y()+0.1, \\\n",
        "            str(i.get_width()), fontsize=11)"
      ],
      "execution_count": 0,
      "outputs": [
        {
          "output_type": "display_data",
          "data": {
            "image/png": "[encoded data removed]",
            "text/plain": [
              "<Figure size 720x576 with 1 Axes>"
            ]
          },
          "metadata": {
            "tags": []
          }
        }
      ]
    },
    {
      "cell_type": "code",
      "metadata": {
        "id": "0jx1cZjRG1aT",
        "colab_type": "code",
        "outputId": "7d75aeca-1d9c-4eac-fd0a-d3443ef48ca6",
        "colab": {
          "base_uri": "https://localhost:8080/",
          "height": 856
        }
      },
      "source": [
        "#heatmap of correlation between columns of data\n",
        "plt.figure(figsize=(12,12))\n",
        "sns.heatmap(df.corr(),cmap=\"coolwarm\")"
      ],
      "execution_count": 0,
      "outputs": [
        {
          "output_type": "execute_result",
          "data": {
            "text/plain": [
              "<matplotlib.axes._subplots.AxesSubplot at 0x7fe3dd609d68>"
            ]
          },
          "metadata": {
            "tags": []
          },
          "execution_count": 27
        },
        {
          "output_type": "display_data",
          "data": {
            "image/png": "[encoded data removed]",
            "text/plain": [
              "<Figure size 864x864 with 2 Axes>"
            ]
          },
          "metadata": {
            "tags": []
          }
        }
      ]
    },
    {
      "cell_type": "code",
      "metadata": {
        "id": "6EE_O1cXX5ME",
        "colab_type": "code",
        "outputId": "1d5653a1-be9f-4ee2-b9f1-50e94281b509",
        "colab": {
          "base_uri": "https://localhost:8080/",
          "height": 747
        }
      },
      "source": [
        "#clustermapping the dataframe correlations\n",
        "sns.clustermap(df.corr(),cmap='viridis')"
      ],
      "execution_count": 0,
      "outputs": [
        {
          "output_type": "execute_result",
          "data": {
            "text/plain": [
              "<seaborn.matrix.ClusterGrid at 0x7fe3ee5dac50>"
            ]
          },
          "metadata": {
            "tags": []
          },
          "execution_count": 26
        },
        {
          "output_type": "display_data",
          "data": {
            "image/png": "[encoded data removed]",
            "text/plain": [
              "<Figure size 720x720 with 4 Axes>"
            ]
          },
          "metadata": {
            "tags": []
          }
        }
      ]
    },
    {
      "cell_type": "code",
      "metadata": {
        "id": "qQmPYFJGidAx",
        "colab_type": "code",
        "outputId": "f46e08f3-cdd9-4102-a1f4-bef8dbf70d50",
        "colab": {
          "base_uri": "https://localhost:8080/",
          "height": 417
        }
      },
      "source": [
        "#bar plot of correlation with Result label makes it easy to understand dependencies\n",
        "df.corr()[\"Result\"][:-1].sort_values().plot(kind='bar')"
      ],
      "execution_count": 0,
      "outputs": [
        {
          "output_type": "execute_result",
          "data": {
            "text/plain": [
              "<matplotlib.axes._subplots.AxesSubplot at 0x7fe3dd4219b0>"
            ]
          },
          "metadata": {
            "tags": []
          },
          "execution_count": 28
        },
        {
          "output_type": "display_data",
          "data": {
            "image/png": "[encoded data removed]",
            "text/plain": [
              "<Figure size 432x288 with 1 Axes>"
            ]
          },
          "metadata": {
            "tags": []
          }
        }
      ]
    },
    {
      "cell_type": "markdown",
      "metadata": {
        "id": "93WTPtFCHNGS",
        "colab_type": "text"
      },
      "source": [
        "# **Processing the Data and splitting into Training and Testing Data**"
      ]
    },
    {
      "cell_type": "markdown",
      "metadata": {
        "id": "5KokuhlzYSzi",
        "colab_type": "text"
      },
      "source": [
        "Generally Machine Learning Classifiers have trouble interpreting the -1 and 1 values used in the Result column, basically it expects 0 and 1 labels."
      ]
    },
    {
      "cell_type": "code",
      "metadata": {
        "id": "8--Wi0VFTGZU",
        "colab_type": "code",
        "outputId": "f9f3de52-be93-4e5b-a186-baf555352b14",
        "colab": {
          "base_uri": "https://localhost:8080/",
          "height": 34
        }
      },
      "source": [
        "#using .map function to change -1 values to 0\n",
        "df['Result'] = df['Result'].map({-1:0, 1:1})\n",
        "df['Result'].unique()"
      ],
      "execution_count": 0,
      "outputs": [
        {
          "output_type": "execute_result",
          "data": {
            "text/plain": [
              "array([0, 1])"
            ]
          },
          "metadata": {
            "tags": []
          },
          "execution_count": 29
        }
      ]
    },
    {
      "cell_type": "markdown",
      "metadata": {
        "id": "3s9PKn47YwBe",
        "colab_type": "text"
      },
      "source": [
        "Splitting the Data into Training and Test Dataframes."
      ]
    },
    {
      "cell_type": "code",
      "metadata": {
        "id": "CO4f3mUKTYy5",
        "colab_type": "code",
        "colab": {}
      },
      "source": [
        "from sklearn.model_selection import train_test_split\n",
        "X=df.drop(\"Result\",axis=1).values\n",
        "y=df[\"Result\"].values\n",
        "X_train, X_test, y_train, y_test = train_test_split(X, y, test_size=0.2, random_state=101)"
      ],
      "execution_count": 0,
      "outputs": []
    },
    {
      "cell_type": "markdown",
      "metadata": {
        "id": "soMafMsEHXRP",
        "colab_type": "text"
      },
      "source": [
        "# **Logistic Regression**"
      ]
    },
    {
      "cell_type": "markdown",
      "metadata": {
        "id": "fy3N7WlDY85T",
        "colab_type": "text"
      },
      "source": [
        "Building Logistic Regression Model."
      ]
    },
    {
      "cell_type": "code",
      "metadata": {
        "id": "9dSwNmMyUQuC",
        "colab_type": "code",
        "outputId": "9916da0c-a74a-4343-ebc0-925e9427b6f3",
        "colab": {
          "base_uri": "https://localhost:8080/",
          "height": 101
        }
      },
      "source": [
        "from sklearn.linear_model import LogisticRegression\n",
        "lm=LogisticRegression()\n",
        "lm.fit(X_train,y_train)"
      ],
      "execution_count": 0,
      "outputs": [
        {
          "output_type": "execute_result",
          "data": {
            "text/plain": [
              "LogisticRegression(C=1.0, class_weight=None, dual=False, fit_intercept=True,\n",
              "                   intercept_scaling=1, l1_ratio=None, max_iter=100,\n",
              "                   multi_class='auto', n_jobs=None, penalty='l2',\n",
              "                   random_state=None, solver='lbfgs', tol=0.0001, verbose=0,\n",
              "                   warm_start=False)"
            ]
          },
          "metadata": {
            "tags": []
          },
          "execution_count": 31
        }
      ]
    },
    {
      "cell_type": "markdown",
      "metadata": {
        "id": "m83bLMjaZCQD",
        "colab_type": "text"
      },
      "source": [
        "Predicting and evaluating using Logistic Regression Model."
      ]
    },
    {
      "cell_type": "code",
      "metadata": {
        "id": "gwcwddpjUbJw",
        "colab_type": "code",
        "outputId": "60cc95e4-18b0-468e-aba0-22f83f4923ac",
        "colab": {
          "base_uri": "https://localhost:8080/",
          "height": 286
        }
      },
      "source": [
        "from sklearn.metrics import confusion_matrix,classification_report,f1_score,accuracy_score\n",
        "print('Accuracy score of the Logistic Regression classifier with default hyperparameter values {0:.2f}%'.format(accuracy_score(y_test, lm.predict(X_test))*100.))\n",
        "print('F1 score of the Logistic Regression classifier with default hyperparameter values {0:.2f}%'.format(f1_score(y_test, lm.predict(X_test))*100.))\n",
        "print('\\n')\n",
        "print('----Classification report of the Logistic Regression classifier with default hyperparameter value----')\n",
        "print('\\n')\n",
        "print(classification_report(y_test, lm.predict(X_test), target_names=['Phishing Websites', 'Normal Websites']))"
      ],
      "execution_count": 0,
      "outputs": [
        {
          "output_type": "stream",
          "text": [
            "Accuracy score of the Logistic Regression classifier with default hyperparameter values 92.22%\n",
            "F1 score of the Logistic Regression classifier with default hyperparameter values 93.10%\n",
            "\n",
            "\n",
            "----Classification report of the Logistic Regression classifier with default hyperparameter value----\n",
            "\n",
            "\n",
            "                   precision    recall  f1-score   support\n",
            "\n",
            "Phishing Websites       0.92      0.91      0.91       971\n",
            "  Normal Websites       0.93      0.94      0.93      1240\n",
            "\n",
            "         accuracy                           0.92      2211\n",
            "        macro avg       0.92      0.92      0.92      2211\n",
            "     weighted avg       0.92      0.92      0.92      2211\n",
            "\n"
          ],
          "name": "stdout"
        }
      ]
    },
    {
      "cell_type": "markdown",
      "metadata": {
        "id": "yyj-QkkDZN5_",
        "colab_type": "text"
      },
      "source": [
        "Adjusting the Model parameters to increase accuracy and provide better predictions."
      ]
    },
    {
      "cell_type": "code",
      "metadata": {
        "id": "ZFgswoEFmNgI",
        "colab_type": "code",
        "colab": {}
      },
      "source": [
        "from sklearn.model_selection import RandomizedSearchCV\n",
        "# Define the grid of values\n",
        "penalty = ['l2']\n",
        "C = [0.5,0.6,0.7,0.8, 0.9, 1.0]\n",
        "tol = [0.01, 0.001 ,0.0001,0.000001]\n",
        "max_iter = [100, 150, 200, 250,300]\n",
        "\n",
        "# Create a dictionary where tol and max_iter are keys and the lists of their values are the corresponding values\n",
        "param_grid = dict(penalty=penalty, C=C, tol=tol, max_iter=max_iter)\n"
      ],
      "execution_count": 0,
      "outputs": []
    },
    {
      "cell_type": "markdown",
      "metadata": {
        "id": "mroGwTBRZXYA",
        "colab_type": "text"
      },
      "source": [
        "Predicting using optimized parameters."
      ]
    },
    {
      "cell_type": "code",
      "metadata": {
        "id": "4074-n0M3Qur",
        "colab_type": "code",
        "outputId": "9b7e432e-4178-41ad-c0be-d49e1b4bc1b3",
        "colab": {
          "base_uri": "https://localhost:8080/",
          "height": 34
        }
      },
      "source": [
        "random_model = RandomizedSearchCV(estimator=lm, param_distributions=param_grid, cv=5)\n",
        "\n",
        "# Fit random_model to the data\n",
        "random_model_result = random_model.fit(X_train, y_train)\n",
        "\n",
        "# Summarize results\n",
        "best_score, best_params = random_model_result.best_score_, random_model_result.best_params_\n",
        "print(\"Best score: %.2f using %s\" % (best_score*100., best_params))"
      ],
      "execution_count": 0,
      "outputs": [
        {
          "output_type": "stream",
          "text": [
            "Best score: 92.92 using {'tol': 0.01, 'penalty': 'l2', 'max_iter': 150, 'C': 0.6}\n"
          ],
          "name": "stdout"
        }
      ]
    },
    {
      "cell_type": "markdown",
      "metadata": {
        "id": "ggi2INUZHjf5",
        "colab_type": "text"
      },
      "source": [
        "# **K-Nearest Neighbours**"
      ]
    },
    {
      "cell_type": "markdown",
      "metadata": {
        "id": "EWAl9p-pZ6Z4",
        "colab_type": "text"
      },
      "source": [
        "Implementing K-Nearest Neighbour Algorithm."
      ]
    },
    {
      "cell_type": "code",
      "metadata": {
        "id": "fgTWCa9OlMiQ",
        "colab_type": "code",
        "outputId": "3037f4d6-2536-4c84-9abb-39eee9871db0",
        "colab": {
          "base_uri": "https://localhost:8080/",
          "height": 286
        }
      },
      "source": [
        "from sklearn.neighbors import KNeighborsClassifier\n",
        "knn = KNeighborsClassifier(n_neighbors=1)\n",
        "\n",
        "knn.fit(X_train,y_train)\n",
        "pred = knn.predict(X_test)\n",
        "\n",
        "print('WITH K=1')\n",
        "print('\\n')\n",
        "print(confusion_matrix(y_test,pred))\n",
        "print('\\n')\n",
        "print(classification_report(y_test,pred))"
      ],
      "execution_count": 0,
      "outputs": [
        {
          "output_type": "stream",
          "text": [
            "WITH K=1\n",
            "\n",
            "\n",
            "[[ 917   54]\n",
            " [  54 1186]]\n",
            "\n",
            "\n",
            "              precision    recall  f1-score   support\n",
            "\n",
            "           0       0.94      0.94      0.94       971\n",
            "           1       0.96      0.96      0.96      1240\n",
            "\n",
            "    accuracy                           0.95      2211\n",
            "   macro avg       0.95      0.95      0.95      2211\n",
            "weighted avg       0.95      0.95      0.95      2211\n",
            "\n"
          ],
          "name": "stdout"
        }
      ]
    },
    {
      "cell_type": "markdown",
      "metadata": {
        "id": "fRoqtYDzaBeU",
        "colab_type": "text"
      },
      "source": [
        "Using Elbow Method to get optimal value of K."
      ]
    },
    {
      "cell_type": "code",
      "metadata": {
        "id": "FanZSygXb8Kb",
        "colab_type": "code",
        "outputId": "e2478a7d-40f2-48b0-f0af-d10a5157aebe",
        "colab": {
          "base_uri": "https://localhost:8080/",
          "height": 34
        }
      },
      "source": [
        "error_rate = []\n",
        "# Will take some time\n",
        "for i in range(1,40):\n",
        "    \n",
        "    knn = KNeighborsClassifier(n_neighbors=i)\n",
        "    knn.fit(X_train,y_train)\n",
        "    pred_i = knn.predict(X_test)\n",
        "    error_rate.append(np.mean(pred_i != y_test))\n",
        "min(error_rate)"
      ],
      "execution_count": 0,
      "outputs": [
        {
          "output_type": "execute_result",
          "data": {
            "text/plain": [
              "0.048846675712347354"
            ]
          },
          "metadata": {
            "tags": []
          },
          "execution_count": 36
        }
      ]
    },
    {
      "cell_type": "markdown",
      "metadata": {
        "id": "xIHi8X1oaOgx",
        "colab_type": "text"
      },
      "source": [
        "Here we notice no elbows are formed and the error rate keeps rising in a staggered but continuous fashion with lowest value at k=1."
      ]
    },
    {
      "cell_type": "code",
      "metadata": {
        "id": "SfPUQiQTkjBS",
        "colab_type": "code",
        "outputId": "fa322255-91fc-41c9-a80b-f4d13a3f0037",
        "colab": {
          "base_uri": "https://localhost:8080/",
          "height": 425
        }
      },
      "source": [
        "plt.figure(figsize=(10,6))\n",
        "plt.plot(range(1,40),error_rate,color='blue', linestyle='dashed', marker='o',\n",
        "         markerfacecolor='red', markersize=10)\n",
        "plt.title('Error Rate vs. K Value')\n",
        "plt.xlabel('K')\n",
        "plt.ylabel('Error Rate')"
      ],
      "execution_count": 0,
      "outputs": [
        {
          "output_type": "execute_result",
          "data": {
            "text/plain": [
              "Text(0, 0.5, 'Error Rate')"
            ]
          },
          "metadata": {
            "tags": []
          },
          "execution_count": 37
        },
        {
          "output_type": "display_data",
          "data": {
            "image/png": "[encoded data removed]",
            "text/plain": [
              "<Figure size 720x432 with 1 Axes>"
            ]
          },
          "metadata": {
            "tags": []
          }
        }
      ]
    },
    {
      "cell_type": "markdown",
      "metadata": {
        "id": "uX3vULcKamuN",
        "colab_type": "text"
      },
      "source": [
        "Hence we choose K=1 as our optimal value for final model."
      ]
    },
    {
      "cell_type": "code",
      "metadata": {
        "id": "4d6oFJmIktso",
        "colab_type": "code",
        "outputId": "096d6835-6f30-490e-d0f5-1a5069295195",
        "colab": {
          "base_uri": "https://localhost:8080/",
          "height": 286
        }
      },
      "source": [
        "knn = KNeighborsClassifier(n_neighbors=1)\n",
        "\n",
        "knn.fit(X_train,y_train)\n",
        "pred = knn.predict(X_test)\n",
        "\n",
        "print('WITH K=1')\n",
        "print('\\n')\n",
        "print(confusion_matrix(y_test,pred))\n",
        "print('\\n')\n",
        "print(classification_report(y_test,pred))"
      ],
      "execution_count": 0,
      "outputs": [
        {
          "output_type": "stream",
          "text": [
            "WITH K=1\n",
            "\n",
            "\n",
            "[[ 917   54]\n",
            " [  54 1186]]\n",
            "\n",
            "\n",
            "              precision    recall  f1-score   support\n",
            "\n",
            "           0       0.94      0.94      0.94       971\n",
            "           1       0.96      0.96      0.96      1240\n",
            "\n",
            "    accuracy                           0.95      2211\n",
            "   macro avg       0.95      0.95      0.95      2211\n",
            "weighted avg       0.95      0.95      0.95      2211\n",
            "\n"
          ],
          "name": "stdout"
        }
      ]
    },
    {
      "cell_type": "markdown",
      "metadata": {
        "id": "I-DBigX9Hpw1",
        "colab_type": "text"
      },
      "source": [
        "# **Decision Tree and Random Forest Classifier**"
      ]
    },
    {
      "cell_type": "markdown",
      "metadata": {
        "id": "d5c5GvYNauz2",
        "colab_type": "text"
      },
      "source": [
        "Implementing a Decision Tree."
      ]
    },
    {
      "cell_type": "code",
      "metadata": {
        "id": "c0JlVsZBvDp8",
        "colab_type": "code",
        "colab": {}
      },
      "source": [
        "from sklearn.tree import DecisionTreeClassifier\n",
        "dtree = DecisionTreeClassifier()\n",
        "dtree.fit(X_train,y_train)\n",
        "predictions = dtree.predict(X_test)"
      ],
      "execution_count": 0,
      "outputs": []
    },
    {
      "cell_type": "code",
      "metadata": {
        "id": "ionWjCevvZIx",
        "colab_type": "code",
        "outputId": "aa7a7039-d306-49fa-b54f-1c24c97cadd5",
        "colab": {
          "base_uri": "https://localhost:8080/",
          "height": 168
        }
      },
      "source": [
        "print(classification_report(y_test,predictions))"
      ],
      "execution_count": 0,
      "outputs": [
        {
          "output_type": "stream",
          "text": [
            "              precision    recall  f1-score   support\n",
            "\n",
            "           0       0.95      0.95      0.95       971\n",
            "           1       0.96      0.96      0.96      1240\n",
            "\n",
            "    accuracy                           0.96      2211\n",
            "   macro avg       0.96      0.96      0.96      2211\n",
            "weighted avg       0.96      0.96      0.96      2211\n",
            "\n"
          ],
          "name": "stdout"
        }
      ]
    },
    {
      "cell_type": "code",
      "metadata": {
        "id": "KYmyOIs-vhpm",
        "colab_type": "code",
        "outputId": "a81a0ad2-529d-41ee-bd93-2cce4e066a21",
        "colab": {
          "base_uri": "https://localhost:8080/",
          "height": 50
        }
      },
      "source": [
        "print(confusion_matrix(y_test,predictions))"
      ],
      "execution_count": 0,
      "outputs": [
        {
          "output_type": "stream",
          "text": [
            "[[ 926   45]\n",
            " [  49 1191]]\n"
          ],
          "name": "stdout"
        }
      ]
    },
    {
      "cell_type": "markdown",
      "metadata": {
        "id": "p8CI83t0a4Fm",
        "colab_type": "text"
      },
      "source": [
        "A group of decision trees combined make up a Random Forest Classifier Model. Which we are going to implement in the next few block of codes."
      ]
    },
    {
      "cell_type": "code",
      "metadata": {
        "id": "nhdlqWWIvlfE",
        "colab_type": "code",
        "colab": {}
      },
      "source": [
        "from sklearn.ensemble import RandomForestClassifier\n",
        "error= []\n",
        "# Will take some time\n",
        "for i in range(550,600):\n",
        "    rfc = RandomForestClassifier(n_estimators=i)\n",
        "    rfc.fit(X_train,y_train)\n",
        "    pred_i = rfc.predict(X_test)\n",
        "    error.append(np.mean(pred_i != y_test))"
      ],
      "execution_count": 0,
      "outputs": []
    },
    {
      "cell_type": "markdown",
      "metadata": {
        "id": "vVxqPlCqbQeF",
        "colab_type": "text"
      },
      "source": [
        "We again use Elbow method to evaluate optimal value for n_estimator (which is basically the number of trees in your forest.)"
      ]
    },
    {
      "cell_type": "code",
      "metadata": {
        "id": "_kYScJJS7-Xp",
        "colab_type": "code",
        "outputId": "a55a2cdc-d5ec-4f56-b4c8-d6acf38db783",
        "colab": {
          "base_uri": "https://localhost:8080/",
          "height": 34
        }
      },
      "source": [
        "error.index(min(error))"
      ],
      "execution_count": 0,
      "outputs": [
        {
          "output_type": "execute_result",
          "data": {
            "text/plain": [
              "21"
            ]
          },
          "metadata": {
            "tags": []
          },
          "execution_count": 44
        }
      ]
    },
    {
      "cell_type": "markdown",
      "metadata": {
        "id": "-u6AH-7EbfKQ",
        "colab_type": "text"
      },
      "source": [
        "We determine where the lowest error rate occurs at and use that as our value for n_estimator."
      ]
    },
    {
      "cell_type": "code",
      "metadata": {
        "id": "0QPxEbgl6nEm",
        "colab_type": "code",
        "outputId": "b6f06cb5-3fa1-46c8-ec9c-aafba34502e1",
        "colab": {
          "base_uri": "https://localhost:8080/",
          "height": 425
        }
      },
      "source": [
        "plt.figure(figsize=(10,6))\n",
        "plt.plot(range(550,600),error,color='blue', linestyle='dashed', marker='o',\n",
        "         markerfacecolor='red', markersize=10)\n",
        "plt.title('Error Rate vs. N Value')\n",
        "plt.xlabel('N')\n",
        "plt.ylabel('Error Rate')"
      ],
      "execution_count": 0,
      "outputs": [
        {
          "output_type": "execute_result",
          "data": {
            "text/plain": [
              "Text(0, 0.5, 'Error Rate')"
            ]
          },
          "metadata": {
            "tags": []
          },
          "execution_count": 45
        },
        {
          "output_type": "display_data",
          "data": {
            "image/png": "[encoded data removed]",
            "text/plain": [
              "<Figure size 720x432 with 1 Axes>"
            ]
          },
          "metadata": {
            "tags": []
          }
        }
      ]
    },
    {
      "cell_type": "code",
      "metadata": {
        "id": "0LgiDHDqvlSB",
        "colab_type": "code",
        "colab": {}
      },
      "source": [
        "rfc = RandomForestClassifier(n_estimators=571)\n",
        "rfc.fit(X_train,y_train)\n",
        "predictions = rfc.predict(X_test)"
      ],
      "execution_count": 0,
      "outputs": []
    },
    {
      "cell_type": "code",
      "metadata": {
        "id": "9Hp146hYvt5-",
        "colab_type": "code",
        "outputId": "ffd03bae-1179-4cfa-d7b3-4c1e016e405d",
        "colab": {
          "base_uri": "https://localhost:8080/",
          "height": 168
        }
      },
      "source": [
        "print(classification_report(y_test,predictions))"
      ],
      "execution_count": 0,
      "outputs": [
        {
          "output_type": "stream",
          "text": [
            "              precision    recall  f1-score   support\n",
            "\n",
            "           0       0.96      0.96      0.96       971\n",
            "           1       0.97      0.97      0.97      1240\n",
            "\n",
            "    accuracy                           0.97      2211\n",
            "   macro avg       0.97      0.97      0.97      2211\n",
            "weighted avg       0.97      0.97      0.97      2211\n",
            "\n"
          ],
          "name": "stdout"
        }
      ]
    },
    {
      "cell_type": "code",
      "metadata": {
        "id": "sYleGegmvyQo",
        "colab_type": "code",
        "outputId": "8db9b3e7-fb3f-48d5-efa1-b4b2de4eda27",
        "colab": {
          "base_uri": "https://localhost:8080/",
          "height": 50
        }
      },
      "source": [
        "print(confusion_matrix(y_test,predictions))"
      ],
      "execution_count": 0,
      "outputs": [
        {
          "output_type": "stream",
          "text": [
            "[[ 935   36]\n",
            " [  36 1204]]\n"
          ],
          "name": "stdout"
        }
      ]
    },
    {
      "cell_type": "markdown",
      "metadata": {
        "id": "_oNXk2yXHxdW",
        "colab_type": "text"
      },
      "source": [
        "# **Support Vector Machines**"
      ]
    },
    {
      "cell_type": "markdown",
      "metadata": {
        "id": "7GtRPGQYbu1A",
        "colab_type": "text"
      },
      "source": [
        "We will be implementing Support Vector Classifier in the following section."
      ]
    },
    {
      "cell_type": "code",
      "metadata": {
        "id": "54a-dtznv1AH",
        "colab_type": "code",
        "outputId": "0272e0f0-a375-4f64-d7c6-90319b89b36c",
        "colab": {
          "base_uri": "https://localhost:8080/",
          "height": 84
        }
      },
      "source": [
        "from sklearn.svm import SVC\n",
        "svc=SVC()\n",
        "svc.fit(X_train,y_train)"
      ],
      "execution_count": 0,
      "outputs": [
        {
          "output_type": "execute_result",
          "data": {
            "text/plain": [
              "SVC(C=1.0, break_ties=False, cache_size=200, class_weight=None, coef0=0.0,\n",
              "    decision_function_shape='ovr', degree=3, gamma='scale', kernel='rbf',\n",
              "    max_iter=-1, probability=False, random_state=None, shrinking=True,\n",
              "    tol=0.001, verbose=False)"
            ]
          },
          "metadata": {
            "tags": []
          },
          "execution_count": 49
        }
      ]
    },
    {
      "cell_type": "code",
      "metadata": {
        "id": "Y6TjK0Bs8qDj",
        "colab_type": "code",
        "colab": {}
      },
      "source": [
        "predictions = svc.predict(X_test)"
      ],
      "execution_count": 0,
      "outputs": []
    },
    {
      "cell_type": "code",
      "metadata": {
        "id": "LCGKnvUt-E0s",
        "colab_type": "code",
        "outputId": "91f4d661-61b2-4cde-85fd-9c929c311a2d",
        "colab": {
          "base_uri": "https://localhost:8080/",
          "height": 50
        }
      },
      "source": [
        "print(confusion_matrix(y_test,predictions))"
      ],
      "execution_count": 0,
      "outputs": [
        {
          "output_type": "stream",
          "text": [
            "[[ 893   78]\n",
            " [  51 1189]]\n"
          ],
          "name": "stdout"
        }
      ]
    },
    {
      "cell_type": "code",
      "metadata": {
        "id": "QBpphPcV-Hth",
        "colab_type": "code",
        "outputId": "6be25366-cdd2-4368-c6b7-ac78bfd211e3",
        "colab": {
          "base_uri": "https://localhost:8080/",
          "height": 168
        }
      },
      "source": [
        "print(classification_report(y_test,predictions))"
      ],
      "execution_count": 0,
      "outputs": [
        {
          "output_type": "stream",
          "text": [
            "              precision    recall  f1-score   support\n",
            "\n",
            "           0       0.95      0.92      0.93       971\n",
            "           1       0.94      0.96      0.95      1240\n",
            "\n",
            "    accuracy                           0.94      2211\n",
            "   macro avg       0.94      0.94      0.94      2211\n",
            "weighted avg       0.94      0.94      0.94      2211\n",
            "\n"
          ],
          "name": "stdout"
        }
      ]
    },
    {
      "cell_type": "markdown",
      "metadata": {
        "id": "s2obXGzrb-rj",
        "colab_type": "text"
      },
      "source": [
        "We Notice that the SVC gives an accuracy of ~94%, which is pretty good, but can we fine tune the parameters to get more out of the model."
      ]
    },
    {
      "cell_type": "code",
      "metadata": {
        "id": "JBb3jdnp_NlW",
        "colab_type": "code",
        "outputId": "1594fdf0-bdec-4356-b4f0-7f6e56b95e3b",
        "colab": {
          "base_uri": "https://localhost:8080/",
          "height": 1000
        }
      },
      "source": [
        "from sklearn.model_selection import GridSearchCV\n",
        "param_grid={'C':[0.1,1,10,100,1000],'gamma':[1,0.1,0.01,0.001,0.0001]}\n",
        "grid=GridSearchCV(SVC(),param_grid,verbose=3)\n",
        "grid.fit(X_train,y_train)"
      ],
      "execution_count": 0,
      "outputs": [
        {
          "output_type": "stream",
          "text": [
            "Fitting 5 folds for each of 25 candidates, totalling 125 fits\n",
            "[CV] C=0.1, gamma=1 ..................................................\n"
          ],
          "name": "stdout"
        },
        {
          "output_type": "stream",
          "text": [
            "[Parallel(n_jobs=1)]: Using backend SequentialBackend with 1 concurrent workers.\n"
          ],
          "name": "stderr"
        },
        {
          "output_type": "stream",
          "text": [
            "[CV] ...................... C=0.1, gamma=1, score=0.572, total=   5.1s\n",
            "[CV] C=0.1, gamma=1 ..................................................\n"
          ],
          "name": "stdout"
        },
        {
          "output_type": "stream",
          "text": [
            "[Parallel(n_jobs=1)]: Done   1 out of   1 | elapsed:    5.1s remaining:    0.0s\n"
          ],
          "name": "stderr"
        },
        {
          "output_type": "stream",
          "text": [
            "[CV] ...................... C=0.1, gamma=1, score=0.579, total=   4.7s\n",
            "[CV] C=0.1, gamma=1 ..................................................\n"
          ],
          "name": "stdout"
        },
        {
          "output_type": "stream",
          "text": [
            "[Parallel(n_jobs=1)]: Done   2 out of   2 | elapsed:    9.8s remaining:    0.0s\n"
          ],
          "name": "stderr"
        },
        {
          "output_type": "stream",
          "text": [
            "[CV] ...................... C=0.1, gamma=1, score=0.579, total=   4.7s\n",
            "[CV] C=0.1, gamma=1 ..................................................\n",
            "[CV] ...................... C=0.1, gamma=1, score=0.584, total=   4.7s\n",
            "[CV] C=0.1, gamma=1 ..................................................\n",
            "[CV] ...................... C=0.1, gamma=1, score=0.581, total=   4.7s\n",
            "[CV] C=0.1, gamma=0.1 ................................................\n",
            "[CV] .................... C=0.1, gamma=0.1, score=0.934, total=   1.9s\n",
            "[CV] C=0.1, gamma=0.1 ................................................\n",
            "[CV] .................... C=0.1, gamma=0.1, score=0.937, total=   1.9s\n",
            "[CV] C=0.1, gamma=0.1 ................................................\n",
            "[CV] .................... C=0.1, gamma=0.1, score=0.938, total=   2.0s\n",
            "[CV] C=0.1, gamma=0.1 ................................................\n",
            "[CV] .................... C=0.1, gamma=0.1, score=0.933, total=   2.0s\n",
            "[CV] C=0.1, gamma=0.1 ................................................\n",
            "[CV] .................... C=0.1, gamma=0.1, score=0.941, total=   2.0s\n",
            "[CV] C=0.1, gamma=0.01 ...............................................\n",
            "[CV] ................... C=0.1, gamma=0.01, score=0.919, total=   1.8s\n",
            "[CV] C=0.1, gamma=0.01 ...............................................\n",
            "[CV] ................... C=0.1, gamma=0.01, score=0.920, total=   1.7s\n",
            "[CV] C=0.1, gamma=0.01 ...............................................\n",
            "[CV] ................... C=0.1, gamma=0.01, score=0.925, total=   1.8s\n",
            "[CV] C=0.1, gamma=0.01 ...............................................\n",
            "[CV] ................... C=0.1, gamma=0.01, score=0.920, total=   1.7s\n",
            "[CV] C=0.1, gamma=0.01 ...............................................\n",
            "[CV] ................... C=0.1, gamma=0.01, score=0.924, total=   1.8s\n",
            "[CV] C=0.1, gamma=0.001 ..............................................\n",
            "[CV] .................. C=0.1, gamma=0.001, score=0.903, total=   3.4s\n",
            "[CV] C=0.1, gamma=0.001 ..............................................\n",
            "[CV] .................. C=0.1, gamma=0.001, score=0.900, total=   3.4s\n",
            "[CV] C=0.1, gamma=0.001 ..............................................\n",
            "[CV] .................. C=0.1, gamma=0.001, score=0.908, total=   3.4s\n",
            "[CV] C=0.1, gamma=0.001 ..............................................\n",
            "[CV] .................. C=0.1, gamma=0.001, score=0.912, total=   3.3s\n",
            "[CV] C=0.1, gamma=0.001 ..............................................\n",
            "[CV] .................. C=0.1, gamma=0.001, score=0.911, total=   3.4s\n",
            "[CV] C=0.1, gamma=0.0001 .............................................\n",
            "[CV] ................. C=0.1, gamma=0.0001, score=0.556, total=   4.6s\n",
            "[CV] C=0.1, gamma=0.0001 .............................................\n",
            "[CV] ................. C=0.1, gamma=0.0001, score=0.556, total=   4.6s\n",
            "[CV] C=0.1, gamma=0.0001 .............................................\n",
            "[CV] ................. C=0.1, gamma=0.0001, score=0.556, total=   4.6s\n",
            "[CV] C=0.1, gamma=0.0001 .............................................\n",
            "[CV] ................. C=0.1, gamma=0.0001, score=0.556, total=   4.6s\n",
            "[CV] C=0.1, gamma=0.0001 .............................................\n",
            "[CV] ................. C=0.1, gamma=0.0001, score=0.556, total=   4.7s\n",
            "[CV] C=1, gamma=1 ....................................................\n",
            "[CV] ........................ C=1, gamma=1, score=0.865, total=   3.5s\n",
            "[CV] C=1, gamma=1 ....................................................\n",
            "[CV] ........................ C=1, gamma=1, score=0.882, total=   3.5s\n",
            "[CV] C=1, gamma=1 ....................................................\n",
            "[CV] ........................ C=1, gamma=1, score=0.883, total=   3.6s\n",
            "[CV] C=1, gamma=1 ....................................................\n",
            "[CV] ........................ C=1, gamma=1, score=0.881, total=   3.6s\n",
            "[CV] C=1, gamma=1 ....................................................\n",
            "[CV] ........................ C=1, gamma=1, score=0.893, total=   3.5s\n",
            "[CV] C=1, gamma=0.1 ..................................................\n",
            "[CV] ...................... C=1, gamma=0.1, score=0.955, total=   1.3s\n",
            "[CV] C=1, gamma=0.1 ..................................................\n",
            "[CV] ...................... C=1, gamma=0.1, score=0.956, total=   1.3s\n",
            "[CV] C=1, gamma=0.1 ..................................................\n",
            "[CV] ...................... C=1, gamma=0.1, score=0.955, total=   1.3s\n",
            "[CV] C=1, gamma=0.1 ..................................................\n",
            "[CV] ...................... C=1, gamma=0.1, score=0.955, total=   1.3s\n",
            "[CV] C=1, gamma=0.1 ..................................................\n",
            "[CV] ...................... C=1, gamma=0.1, score=0.966, total=   1.4s\n",
            "[CV] C=1, gamma=0.01 .................................................\n",
            "[CV] ..................... C=1, gamma=0.01, score=0.927, total=   1.0s\n",
            "[CV] C=1, gamma=0.01 .................................................\n",
            "[CV] ..................... C=1, gamma=0.01, score=0.927, total=   1.0s\n",
            "[CV] C=1, gamma=0.01 .................................................\n",
            "[CV] ..................... C=1, gamma=0.01, score=0.934, total=   1.0s\n",
            "[CV] C=1, gamma=0.01 .................................................\n",
            "[CV] ..................... C=1, gamma=0.01, score=0.930, total=   1.0s\n",
            "[CV] C=1, gamma=0.01 .................................................\n",
            "[CV] ..................... C=1, gamma=0.01, score=0.941, total=   1.0s\n",
            "[CV] C=1, gamma=0.001 ................................................\n",
            "[CV] .................... C=1, gamma=0.001, score=0.917, total=   1.6s\n",
            "[CV] C=1, gamma=0.001 ................................................\n",
            "[CV] .................... C=1, gamma=0.001, score=0.919, total=   1.6s\n",
            "[CV] C=1, gamma=0.001 ................................................\n",
            "[CV] .................... C=1, gamma=0.001, score=0.923, total=   1.6s\n",
            "[CV] C=1, gamma=0.001 ................................................\n",
            "[CV] .................... C=1, gamma=0.001, score=0.920, total=   1.6s\n",
            "[CV] C=1, gamma=0.001 ................................................\n",
            "[CV] .................... C=1, gamma=0.001, score=0.922, total=   1.6s\n",
            "[CV] C=1, gamma=0.0001 ...............................................\n",
            "[CV] ................... C=1, gamma=0.0001, score=0.902, total=   3.3s\n",
            "[CV] C=1, gamma=0.0001 ...............................................\n",
            "[CV] ................... C=1, gamma=0.0001, score=0.901, total=   3.3s\n",
            "[CV] C=1, gamma=0.0001 ...............................................\n",
            "[CV] ................... C=1, gamma=0.0001, score=0.909, total=   3.3s\n",
            "[CV] C=1, gamma=0.0001 ...............................................\n",
            "[CV] ................... C=1, gamma=0.0001, score=0.912, total=   3.3s\n",
            "[CV] C=1, gamma=0.0001 ...............................................\n",
            "[CV] ................... C=1, gamma=0.0001, score=0.910, total=   3.3s\n",
            "[CV] C=10, gamma=1 ...................................................\n",
            "[CV] ....................... C=10, gamma=1, score=0.867, total=   3.1s\n",
            "[CV] C=10, gamma=1 ...................................................\n",
            "[CV] ....................... C=10, gamma=1, score=0.884, total=   3.1s\n",
            "[CV] C=10, gamma=1 ...................................................\n",
            "[CV] ....................... C=10, gamma=1, score=0.882, total=   3.1s\n",
            "[CV] C=10, gamma=1 ...................................................\n",
            "[CV] ....................... C=10, gamma=1, score=0.886, total=   3.1s\n",
            "[CV] C=10, gamma=1 ...................................................\n",
            "[CV] ....................... C=10, gamma=1, score=0.898, total=   3.1s\n",
            "[CV] C=10, gamma=0.1 .................................................\n",
            "[CV] ..................... C=10, gamma=0.1, score=0.963, total=   1.2s\n",
            "[CV] C=10, gamma=0.1 .................................................\n",
            "[CV] ..................... C=10, gamma=0.1, score=0.968, total=   1.2s\n",
            "[CV] C=10, gamma=0.1 .................................................\n",
            "[CV] ..................... C=10, gamma=0.1, score=0.963, total=   1.2s\n",
            "[CV] C=10, gamma=0.1 .................................................\n",
            "[CV] ..................... C=10, gamma=0.1, score=0.963, total=   1.3s\n",
            "[CV] C=10, gamma=0.1 .................................................\n",
            "[CV] ..................... C=10, gamma=0.1, score=0.975, total=   1.3s\n",
            "[CV] C=10, gamma=0.01 ................................................\n",
            "[CV] .................... C=10, gamma=0.01, score=0.943, total=   0.9s\n",
            "[CV] C=10, gamma=0.01 ................................................\n",
            "[CV] .................... C=10, gamma=0.01, score=0.943, total=   0.9s\n",
            "[CV] C=10, gamma=0.01 ................................................\n",
            "[CV] .................... C=10, gamma=0.01, score=0.945, total=   0.9s\n",
            "[CV] C=10, gamma=0.01 ................................................\n",
            "[CV] .................... C=10, gamma=0.01, score=0.940, total=   0.9s\n",
            "[CV] C=10, gamma=0.01 ................................................\n",
            "[CV] .................... C=10, gamma=0.01, score=0.951, total=   0.9s\n",
            "[CV] C=10, gamma=0.001 ...............................................\n",
            "[CV] ................... C=10, gamma=0.001, score=0.919, total=   1.0s\n",
            "[CV] C=10, gamma=0.001 ...............................................\n",
            "[CV] ................... C=10, gamma=0.001, score=0.923, total=   1.0s\n",
            "[CV] C=10, gamma=0.001 ...............................................\n",
            "[CV] ................... C=10, gamma=0.001, score=0.934, total=   1.0s\n",
            "[CV] C=10, gamma=0.001 ...............................................\n",
            "[CV] ................... C=10, gamma=0.001, score=0.928, total=   1.0s\n",
            "[CV] C=10, gamma=0.001 ...............................................\n",
            "[CV] ................... C=10, gamma=0.001, score=0.936, total=   1.0s\n",
            "[CV] C=10, gamma=0.0001 ..............................................\n",
            "[CV] .................. C=10, gamma=0.0001, score=0.916, total=   1.6s\n",
            "[CV] C=10, gamma=0.0001 ..............................................\n",
            "[CV] .................. C=10, gamma=0.0001, score=0.919, total=   1.6s\n",
            "[CV] C=10, gamma=0.0001 ..............................................\n",
            "[CV] .................. C=10, gamma=0.0001, score=0.924, total=   1.6s\n",
            "[CV] C=10, gamma=0.0001 ..............................................\n",
            "[CV] .................. C=10, gamma=0.0001, score=0.920, total=   1.6s\n",
            "[CV] C=10, gamma=0.0001 ..............................................\n",
            "[CV] .................. C=10, gamma=0.0001, score=0.922, total=   1.7s\n",
            "[CV] C=100, gamma=1 ..................................................\n",
            "[CV] ...................... C=100, gamma=1, score=0.867, total=   3.1s\n",
            "[CV] C=100, gamma=1 ..................................................\n",
            "[CV] ...................... C=100, gamma=1, score=0.884, total=   3.2s\n",
            "[CV] C=100, gamma=1 ..................................................\n",
            "[CV] ...................... C=100, gamma=1, score=0.882, total=   3.1s\n",
            "[CV] C=100, gamma=1 ..................................................\n",
            "[CV] ...................... C=100, gamma=1, score=0.886, total=   3.1s\n",
            "[CV] C=100, gamma=1 ..................................................\n",
            "[CV] ...................... C=100, gamma=1, score=0.898, total=   3.1s\n",
            "[CV] C=100, gamma=0.1 ................................................\n",
            "[CV] .................... C=100, gamma=0.1, score=0.961, total=   1.2s\n",
            "[CV] C=100, gamma=0.1 ................................................\n",
            "[CV] .................... C=100, gamma=0.1, score=0.971, total=   1.2s\n",
            "[CV] C=100, gamma=0.1 ................................................\n",
            "[CV] .................... C=100, gamma=0.1, score=0.962, total=   1.2s\n",
            "[CV] C=100, gamma=0.1 ................................................\n",
            "[CV] .................... C=100, gamma=0.1, score=0.960, total=   1.3s\n",
            "[CV] C=100, gamma=0.1 ................................................\n",
            "[CV] .................... C=100, gamma=0.1, score=0.967, total=   1.3s\n",
            "[CV] C=100, gamma=0.01 ...............................................\n",
            "[CV] ................... C=100, gamma=0.01, score=0.961, total=   1.1s\n",
            "[CV] C=100, gamma=0.01 ...............................................\n",
            "[CV] ................... C=100, gamma=0.01, score=0.955, total=   1.0s\n",
            "[CV] C=100, gamma=0.01 ...............................................\n",
            "[CV] ................... C=100, gamma=0.01, score=0.954, total=   1.0s\n",
            "[CV] C=100, gamma=0.01 ...............................................\n",
            "[CV] ................... C=100, gamma=0.01, score=0.955, total=   1.0s\n",
            "[CV] C=100, gamma=0.01 ...............................................\n",
            "[CV] ................... C=100, gamma=0.01, score=0.963, total=   1.1s\n",
            "[CV] C=100, gamma=0.001 ..............................................\n",
            "[CV] .................. C=100, gamma=0.001, score=0.928, total=   1.0s\n",
            "[CV] C=100, gamma=0.001 ..............................................\n",
            "[CV] .................. C=100, gamma=0.001, score=0.934, total=   1.0s\n",
            "[CV] C=100, gamma=0.001 ..............................................\n",
            "[CV] .................. C=100, gamma=0.001, score=0.940, total=   0.9s\n",
            "[CV] C=100, gamma=0.001 ..............................................\n",
            "[CV] .................. C=100, gamma=0.001, score=0.931, total=   1.0s\n",
            "[CV] C=100, gamma=0.001 ..............................................\n",
            "[CV] .................. C=100, gamma=0.001, score=0.946, total=   1.0s\n",
            "[CV] C=100, gamma=0.0001 .............................................\n",
            "[CV] ................. C=100, gamma=0.0001, score=0.918, total=   1.0s\n",
            "[CV] C=100, gamma=0.0001 .............................................\n",
            "[CV] ................. C=100, gamma=0.0001, score=0.921, total=   1.0s\n",
            "[CV] C=100, gamma=0.0001 .............................................\n",
            "[CV] ................. C=100, gamma=0.0001, score=0.933, total=   1.0s\n",
            "[CV] C=100, gamma=0.0001 .............................................\n",
            "[CV] ................. C=100, gamma=0.0001, score=0.927, total=   1.0s\n",
            "[CV] C=100, gamma=0.0001 .............................................\n",
            "[CV] ................. C=100, gamma=0.0001, score=0.934, total=   1.0s\n",
            "[CV] C=1000, gamma=1 .................................................\n",
            "[CV] ..................... C=1000, gamma=1, score=0.867, total=   3.1s\n",
            "[CV] C=1000, gamma=1 .................................................\n",
            "[CV] ..................... C=1000, gamma=1, score=0.884, total=   3.1s\n",
            "[CV] C=1000, gamma=1 .................................................\n",
            "[CV] ..................... C=1000, gamma=1, score=0.882, total=   3.1s\n",
            "[CV] C=1000, gamma=1 .................................................\n",
            "[CV] ..................... C=1000, gamma=1, score=0.886, total=   3.1s\n",
            "[CV] C=1000, gamma=1 .................................................\n",
            "[CV] ..................... C=1000, gamma=1, score=0.898, total=   3.1s\n",
            "[CV] C=1000, gamma=0.1 ...............................................\n",
            "[CV] ................... C=1000, gamma=0.1, score=0.958, total=   1.3s\n",
            "[CV] C=1000, gamma=0.1 ...............................................\n",
            "[CV] ................... C=1000, gamma=0.1, score=0.970, total=   1.4s\n",
            "[CV] C=1000, gamma=0.1 ...............................................\n",
            "[CV] ................... C=1000, gamma=0.1, score=0.962, total=   1.3s\n",
            "[CV] C=1000, gamma=0.1 ...............................................\n",
            "[CV] ................... C=1000, gamma=0.1, score=0.962, total=   1.3s\n",
            "[CV] C=1000, gamma=0.1 ...............................................\n",
            "[CV] ................... C=1000, gamma=0.1, score=0.972, total=   1.3s\n",
            "[CV] C=1000, gamma=0.01 ..............................................\n",
            "[CV] .................. C=1000, gamma=0.01, score=0.958, total=   1.7s\n",
            "[CV] C=1000, gamma=0.01 ..............................................\n",
            "[CV] .................. C=1000, gamma=0.01, score=0.959, total=   1.7s\n",
            "[CV] C=1000, gamma=0.01 ..............................................\n",
            "[CV] .................. C=1000, gamma=0.01, score=0.957, total=   1.7s\n",
            "[CV] C=1000, gamma=0.01 ..............................................\n",
            "[CV] .................. C=1000, gamma=0.01, score=0.957, total=   1.7s\n",
            "[CV] C=1000, gamma=0.01 ..............................................\n",
            "[CV] .................. C=1000, gamma=0.01, score=0.974, total=   1.7s\n",
            "[CV] C=1000, gamma=0.001 .............................................\n",
            "[CV] ................. C=1000, gamma=0.001, score=0.943, total=   1.4s\n",
            "[CV] C=1000, gamma=0.001 .............................................\n",
            "[CV] ................. C=1000, gamma=0.001, score=0.941, total=   1.4s\n",
            "[CV] C=1000, gamma=0.001 .............................................\n",
            "[CV] ................. C=1000, gamma=0.001, score=0.943, total=   1.5s\n",
            "[CV] C=1000, gamma=0.001 .............................................\n",
            "[CV] ................. C=1000, gamma=0.001, score=0.941, total=   1.4s\n",
            "[CV] C=1000, gamma=0.001 .............................................\n",
            "[CV] ................. C=1000, gamma=0.001, score=0.949, total=   1.5s\n",
            "[CV] C=1000, gamma=0.0001 ............................................\n",
            "[CV] ................ C=1000, gamma=0.0001, score=0.921, total=   1.0s\n",
            "[CV] C=1000, gamma=0.0001 ............................................\n",
            "[CV] ................ C=1000, gamma=0.0001, score=0.930, total=   1.0s\n",
            "[CV] C=1000, gamma=0.0001 ............................................\n",
            "[CV] ................ C=1000, gamma=0.0001, score=0.931, total=   1.0s\n",
            "[CV] C=1000, gamma=0.0001 ............................................\n",
            "[CV] ................ C=1000, gamma=0.0001, score=0.928, total=   1.0s\n",
            "[CV] C=1000, gamma=0.0001 ............................................\n",
            "[CV] ................ C=1000, gamma=0.0001, score=0.939, total=   1.1s\n"
          ],
          "name": "stdout"
        },
        {
          "output_type": "stream",
          "text": [
            "[Parallel(n_jobs=1)]: Done 125 out of 125 | elapsed:  4.3min finished\n"
          ],
          "name": "stderr"
        },
        {
          "output_type": "execute_result",
          "data": {
            "text/plain": [
              "GridSearchCV(cv=None, error_score=nan,\n",
              "             estimator=SVC(C=1.0, break_ties=False, cache_size=200,\n",
              "                           class_weight=None, coef0=0.0,\n",
              "                           decision_function_shape='ovr', degree=3,\n",
              "                           gamma='scale', kernel='rbf', max_iter=-1,\n",
              "                           probability=False, random_state=None, shrinking=True,\n",
              "                           tol=0.001, verbose=False),\n",
              "             iid='deprecated', n_jobs=None,\n",
              "             param_grid={'C': [0.1, 1, 10, 100, 1000],\n",
              "                         'gamma': [1, 0.1, 0.01, 0.001, 0.0001]},\n",
              "             pre_dispatch='2*n_jobs', refit=True, return_train_score=False,\n",
              "             scoring=None, verbose=3)"
            ]
          },
          "metadata": {
            "tags": []
          },
          "execution_count": 53
        }
      ]
    },
    {
      "cell_type": "code",
      "metadata": {
        "id": "AH9nQJIA_fPq",
        "colab_type": "code",
        "outputId": "4f88e42a-88ea-433d-c7ef-f4c70a0be032",
        "colab": {
          "base_uri": "https://localhost:8080/",
          "height": 50
        }
      },
      "source": [
        "predictions=grid.predict(X_test)\n",
        "print(confusion_matrix(y_test,predictions))"
      ],
      "execution_count": 0,
      "outputs": [
        {
          "output_type": "stream",
          "text": [
            "[[ 925   46]\n",
            " [  38 1202]]\n"
          ],
          "name": "stdout"
        }
      ]
    },
    {
      "cell_type": "markdown",
      "metadata": {
        "id": "-fcAn5oOcUWc",
        "colab_type": "text"
      },
      "source": [
        "Using GridSearchCV we are able to arrive at the best values for parameters in the given range and increase accuracy to ~96%."
      ]
    },
    {
      "cell_type": "code",
      "metadata": {
        "id": "dTloaDgI_hhO",
        "colab_type": "code",
        "outputId": "90884d6b-671f-484f-ea46-1905d8a7341d",
        "colab": {
          "base_uri": "https://localhost:8080/",
          "height": 168
        }
      },
      "source": [
        "print(classification_report(y_test,predictions))"
      ],
      "execution_count": 0,
      "outputs": [
        {
          "output_type": "stream",
          "text": [
            "              precision    recall  f1-score   support\n",
            "\n",
            "           0       0.96      0.95      0.96       971\n",
            "           1       0.96      0.97      0.97      1240\n",
            "\n",
            "    accuracy                           0.96      2211\n",
            "   macro avg       0.96      0.96      0.96      2211\n",
            "weighted avg       0.96      0.96      0.96      2211\n",
            "\n"
          ],
          "name": "stdout"
        }
      ]
    },
    {
      "cell_type": "markdown",
      "metadata": {
        "id": "MnLz1KTEH4TO",
        "colab_type": "text"
      },
      "source": [
        "# **Deep Learning and Artificial Neural Networks**"
      ]
    },
    {
      "cell_type": "markdown",
      "metadata": {
        "id": "O1ErlSmDd31c",
        "colab_type": "text"
      },
      "source": [
        "In this section we will finally put the lid on the project and look at some Neural Networks to classify the websites as phising or not."
      ]
    },
    {
      "cell_type": "code",
      "metadata": {
        "id": "b_eAPAYa4nMc",
        "colab_type": "code",
        "colab": {}
      },
      "source": [
        "from keras.models import Sequential\n",
        "from keras.layers import Dense,Dropout\n",
        "from keras.optimizers import *"
      ],
      "execution_count": 0,
      "outputs": []
    },
    {
      "cell_type": "code",
      "metadata": {
        "id": "3SKM9njF-DxD",
        "colab_type": "code",
        "colab": {}
      },
      "source": [
        "model = Sequential()\n",
        "\n",
        "model.add(Dense(30,activation='relu'))\n",
        "model.add(Dense(18,activation='relu'))\n",
        "model.add(Dense(7,activation='relu'))\n",
        "model.add(Dense(1,activation='sigmoid'))\n",
        "model.compile(loss='binary_crossentropy', optimizer=Adam(), metrics=['accuracy'])"
      ],
      "execution_count": 0,
      "outputs": []
    },
    {
      "cell_type": "code",
      "metadata": {
        "id": "HbLNIGu_IIjy",
        "colab_type": "code",
        "outputId": "bd300dbd-7d8a-4912-fd10-d67ced14f501",
        "colab": {
          "base_uri": "https://localhost:8080/",
          "height": 1000
        }
      },
      "source": [
        "model.fit(X_train,y_train,epochs=50)"
      ],
      "execution_count": 0,
      "outputs": [
        {
          "output_type": "stream",
          "text": [
            "Epoch 1/50\n",
            "8844/8844 [==============================] - 1s 58us/step - loss: 0.3214 - accuracy: 0.8647\n",
            "Epoch 2/50\n",
            "8844/8844 [==============================] - 0s 40us/step - loss: 0.1771 - accuracy: 0.9322\n",
            "Epoch 3/50\n",
            "8844/8844 [==============================] - 0s 38us/step - loss: 0.1605 - accuracy: 0.9391\n",
            "Epoch 4/50\n",
            "8844/8844 [==============================] - 0s 41us/step - loss: 0.1506 - accuracy: 0.9389\n",
            "Epoch 5/50\n",
            "8844/8844 [==============================] - 0s 42us/step - loss: 0.1417 - accuracy: 0.9445\n",
            "Epoch 6/50\n",
            "8844/8844 [==============================] - 0s 42us/step - loss: 0.1333 - accuracy: 0.9476\n",
            "Epoch 7/50\n",
            "8844/8844 [==============================] - 0s 40us/step - loss: 0.1262 - accuracy: 0.9476\n",
            "Epoch 8/50\n",
            "8844/8844 [==============================] - 0s 43us/step - loss: 0.1202 - accuracy: 0.9498\n",
            "Epoch 9/50\n",
            "8844/8844 [==============================] - 0s 42us/step - loss: 0.1118 - accuracy: 0.9547\n",
            "Epoch 10/50\n",
            "8844/8844 [==============================] - 0s 43us/step - loss: 0.1070 - accuracy: 0.9544\n",
            "Epoch 11/50\n",
            "8844/8844 [==============================] - 0s 41us/step - loss: 0.1027 - accuracy: 0.9541\n",
            "Epoch 12/50\n",
            "8844/8844 [==============================] - 0s 40us/step - loss: 0.0968 - accuracy: 0.9596\n",
            "Epoch 13/50\n",
            "8844/8844 [==============================] - 0s 42us/step - loss: 0.0952 - accuracy: 0.9579\n",
            "Epoch 14/50\n",
            "8844/8844 [==============================] - 0s 40us/step - loss: 0.0877 - accuracy: 0.9617\n",
            "Epoch 15/50\n",
            "8844/8844 [==============================] - 0s 42us/step - loss: 0.0857 - accuracy: 0.9631\n",
            "Epoch 16/50\n",
            "8844/8844 [==============================] - 0s 39us/step - loss: 0.0828 - accuracy: 0.9651\n",
            "Epoch 17/50\n",
            "8844/8844 [==============================] - 0s 38us/step - loss: 0.0782 - accuracy: 0.9664\n",
            "Epoch 18/50\n",
            "8844/8844 [==============================] - 0s 38us/step - loss: 0.0772 - accuracy: 0.9675\n",
            "Epoch 19/50\n",
            "8844/8844 [==============================] - 0s 40us/step - loss: 0.0743 - accuracy: 0.9674\n",
            "Epoch 20/50\n",
            "8844/8844 [==============================] - 0s 41us/step - loss: 0.0716 - accuracy: 0.9703\n",
            "Epoch 21/50\n",
            "8844/8844 [==============================] - 0s 40us/step - loss: 0.0735 - accuracy: 0.9690\n",
            "Epoch 22/50\n",
            "8844/8844 [==============================] - 0s 40us/step - loss: 0.0676 - accuracy: 0.9721\n",
            "Epoch 23/50\n",
            "8844/8844 [==============================] - 0s 39us/step - loss: 0.0674 - accuracy: 0.9707\n",
            "Epoch 24/50\n",
            "8844/8844 [==============================] - 0s 41us/step - loss: 0.0650 - accuracy: 0.9715\n",
            "Epoch 25/50\n",
            "8844/8844 [==============================] - 0s 41us/step - loss: 0.0623 - accuracy: 0.9746\n",
            "Epoch 26/50\n",
            "8844/8844 [==============================] - 0s 40us/step - loss: 0.0634 - accuracy: 0.9721\n",
            "Epoch 27/50\n",
            "8844/8844 [==============================] - 0s 42us/step - loss: 0.0632 - accuracy: 0.9743\n",
            "Epoch 28/50\n",
            "8844/8844 [==============================] - 0s 41us/step - loss: 0.0592 - accuracy: 0.9746\n",
            "Epoch 29/50\n",
            "8844/8844 [==============================] - 0s 41us/step - loss: 0.0595 - accuracy: 0.9749\n",
            "Epoch 30/50\n",
            "8844/8844 [==============================] - 0s 42us/step - loss: 0.0556 - accuracy: 0.9773\n",
            "Epoch 31/50\n",
            "8844/8844 [==============================] - 0s 40us/step - loss: 0.0577 - accuracy: 0.9754\n",
            "Epoch 32/50\n",
            "8844/8844 [==============================] - 0s 40us/step - loss: 0.0569 - accuracy: 0.9754\n",
            "Epoch 33/50\n",
            "8844/8844 [==============================] - 0s 41us/step - loss: 0.0535 - accuracy: 0.9793\n",
            "Epoch 34/50\n",
            "8844/8844 [==============================] - 0s 40us/step - loss: 0.0541 - accuracy: 0.9764\n",
            "Epoch 35/50\n",
            "8844/8844 [==============================] - 0s 38us/step - loss: 0.0546 - accuracy: 0.9770\n",
            "Epoch 36/50\n",
            "8844/8844 [==============================] - 0s 39us/step - loss: 0.0545 - accuracy: 0.9772\n",
            "Epoch 37/50\n",
            "8844/8844 [==============================] - 0s 39us/step - loss: 0.0537 - accuracy: 0.9782\n",
            "Epoch 38/50\n",
            "8844/8844 [==============================] - 0s 37us/step - loss: 0.0511 - accuracy: 0.9793\n",
            "Epoch 39/50\n",
            "8844/8844 [==============================] - 0s 39us/step - loss: 0.0513 - accuracy: 0.9787\n",
            "Epoch 40/50\n",
            "8844/8844 [==============================] - 0s 42us/step - loss: 0.0493 - accuracy: 0.9798\n",
            "Epoch 41/50\n",
            "8844/8844 [==============================] - 0s 43us/step - loss: 0.0500 - accuracy: 0.9798\n",
            "Epoch 42/50\n",
            "8844/8844 [==============================] - 0s 39us/step - loss: 0.0511 - accuracy: 0.9787\n",
            "Epoch 43/50\n",
            "8844/8844 [==============================] - 0s 42us/step - loss: 0.0509 - accuracy: 0.9795\n",
            "Epoch 44/50\n",
            "8844/8844 [==============================] - 0s 43us/step - loss: 0.0514 - accuracy: 0.9799\n",
            "Epoch 45/50\n",
            "8844/8844 [==============================] - 0s 42us/step - loss: 0.0461 - accuracy: 0.9824\n",
            "Epoch 46/50\n",
            "8844/8844 [==============================] - 0s 39us/step - loss: 0.0486 - accuracy: 0.9787\n",
            "Epoch 47/50\n",
            "8844/8844 [==============================] - 0s 39us/step - loss: 0.0480 - accuracy: 0.9802\n",
            "Epoch 48/50\n",
            "8844/8844 [==============================] - 0s 39us/step - loss: 0.0504 - accuracy: 0.9791\n",
            "Epoch 49/50\n",
            "8844/8844 [==============================] - 0s 39us/step - loss: 0.0449 - accuracy: 0.9835\n",
            "Epoch 50/50\n",
            "8844/8844 [==============================] - 0s 42us/step - loss: 0.0458 - accuracy: 0.9822\n"
          ],
          "name": "stdout"
        },
        {
          "output_type": "execute_result",
          "data": {
            "text/plain": [
              "<keras.callbacks.callbacks.History at 0x7f81adc86160>"
            ]
          },
          "metadata": {
            "tags": []
          },
          "execution_count": 446
        }
      ]
    },
    {
      "cell_type": "code",
      "metadata": {
        "id": "M8iu0FhEIL4Z",
        "colab_type": "code",
        "outputId": "f4ec9ca2-3a21-4a7e-927d-deb2457f4134",
        "colab": {
          "base_uri": "https://localhost:8080/",
          "height": 286
        }
      },
      "source": [
        "model.summary()"
      ],
      "execution_count": 0,
      "outputs": [
        {
          "output_type": "stream",
          "text": [
            "Model: \"sequential_13\"\n",
            "_________________________________________________________________\n",
            "Layer (type)                 Output Shape              Param #   \n",
            "=================================================================\n",
            "dense_37 (Dense)             (None, 30)                930       \n",
            "_________________________________________________________________\n",
            "dense_38 (Dense)             (None, 18)                558       \n",
            "_________________________________________________________________\n",
            "dense_39 (Dense)             (None, 7)                 133       \n",
            "_________________________________________________________________\n",
            "dense_40 (Dense)             (None, 1)                 8         \n",
            "=================================================================\n",
            "Total params: 1,629\n",
            "Trainable params: 1,629\n",
            "Non-trainable params: 0\n",
            "_________________________________________________________________\n"
          ],
          "name": "stdout"
        }
      ]
    },
    {
      "cell_type": "code",
      "metadata": {
        "id": "dtdAnjRtTZrf",
        "colab_type": "code",
        "outputId": "c1861867-c39f-4795-b524-61b26d512d91",
        "colab": {
          "base_uri": "https://localhost:8080/",
          "height": 168
        }
      },
      "source": [
        "pr=model.predict_classes(X_test)\n",
        "print(classification_report(y_test,pr))"
      ],
      "execution_count": 0,
      "outputs": [
        {
          "output_type": "stream",
          "text": [
            "              precision    recall  f1-score   support\n",
            "\n",
            "           0       0.94      0.96      0.95       971\n",
            "           1       0.97      0.95      0.96      1240\n",
            "\n",
            "    accuracy                           0.96      2211\n",
            "   macro avg       0.96      0.96      0.96      2211\n",
            "weighted avg       0.96      0.96      0.96      2211\n",
            "\n"
          ],
          "name": "stdout"
        }
      ]
    },
    {
      "cell_type": "code",
      "metadata": {
        "id": "5V70ehIHTylv",
        "colab_type": "code",
        "outputId": "d59e1f3b-82f6-46c8-fe47-a277ab40a594",
        "colab": {
          "base_uri": "https://localhost:8080/",
          "height": 50
        }
      },
      "source": [
        "confusion_matrix(y_test,pr)"
      ],
      "execution_count": 0,
      "outputs": [
        {
          "output_type": "execute_result",
          "data": {
            "text/plain": [
              "array([[ 934,   37],\n",
              "       [  58, 1182]])"
            ]
          },
          "metadata": {
            "tags": []
          },
          "execution_count": 451
        }
      ]
    },
    {
      "cell_type": "code",
      "metadata": {
        "id": "sPne_BJmJIOa",
        "colab_type": "code",
        "colab": {}
      },
      "source": [
        "from keras import callbacks\n",
        "\n",
        "es_cb = callbacks.EarlyStopping(monitor='loss', min_delta=0.001, patience=5)"
      ],
      "execution_count": 0,
      "outputs": []
    },
    {
      "cell_type": "code",
      "metadata": {
        "id": "luem8rQBJ_Wp",
        "colab_type": "code",
        "outputId": "dd8a0225-bd3a-4ea0-ecae-6940fd3b19a4",
        "colab": {
          "base_uri": "https://localhost:8080/",
          "height": 437
        }
      },
      "source": [
        "history = model.fit(X_train, y_train, batch_size=64, epochs=128, verbose=1, callbacks=[es_cb])\n",
        "\n",
        "scores = model.evaluate(X_test, y_test)\n",
        "print('\\nAccuracy score of the Neural Network with basic hyperparameter settings {0:.2f}%'.format(scores[1]*100))\n",
        "pr1=model.predict_classes(X_test)"
      ],
      "execution_count": 0,
      "outputs": [
        {
          "output_type": "stream",
          "text": [
            "Epoch 1/128\n",
            "8844/8844 [==============================] - 0s 23us/step - loss: 0.0371 - accuracy: 0.9835\n",
            "Epoch 2/128\n",
            "8844/8844 [==============================] - 0s 22us/step - loss: 0.0373 - accuracy: 0.9839\n",
            "Epoch 3/128\n",
            "8844/8844 [==============================] - 0s 23us/step - loss: 0.0354 - accuracy: 0.9859\n",
            "Epoch 4/128\n",
            "8844/8844 [==============================] - 0s 22us/step - loss: 0.0339 - accuracy: 0.9864\n",
            "Epoch 5/128\n",
            "8844/8844 [==============================] - 0s 22us/step - loss: 0.0333 - accuracy: 0.9860\n",
            "Epoch 6/128\n",
            "8844/8844 [==============================] - 0s 23us/step - loss: 0.0320 - accuracy: 0.9860\n",
            "Epoch 7/128\n",
            "8844/8844 [==============================] - 0s 23us/step - loss: 0.0351 - accuracy: 0.9848\n",
            "Epoch 8/128\n",
            "8844/8844 [==============================] - 0s 23us/step - loss: 0.0329 - accuracy: 0.9848\n",
            "Epoch 9/128\n",
            "8844/8844 [==============================] - 0s 22us/step - loss: 0.0347 - accuracy: 0.9855\n",
            "Epoch 10/128\n",
            "8844/8844 [==============================] - 0s 20us/step - loss: 0.0346 - accuracy: 0.9858\n",
            "Epoch 11/128\n",
            "8844/8844 [==============================] - 0s 20us/step - loss: 0.0353 - accuracy: 0.9850\n",
            "2211/2211 [==============================] - 0s 19us/step\n",
            "\n",
            "Accuracy score of the Neural Network with basic hyperparameter settings 96.25%\n"
          ],
          "name": "stdout"
        }
      ]
    },
    {
      "cell_type": "code",
      "metadata": {
        "id": "De4vZk0QPGmS",
        "colab_type": "code",
        "outputId": "ec8f7d6f-d7b2-46e5-8a6a-871b971ef150",
        "colab": {
          "base_uri": "https://localhost:8080/",
          "height": 218
        }
      },
      "source": [
        "print(confusion_matrix(y_test,pr1))\n",
        "print('\\n',classification_report(y_test,pr1))"
      ],
      "execution_count": 0,
      "outputs": [
        {
          "output_type": "stream",
          "text": [
            "[[ 919   52]\n",
            " [  26 1214]]\n",
            "\n",
            "               precision    recall  f1-score   support\n",
            "\n",
            "           0       0.97      0.95      0.96       971\n",
            "           1       0.96      0.98      0.97      1240\n",
            "\n",
            "    accuracy                           0.96      2211\n",
            "   macro avg       0.97      0.96      0.96      2211\n",
            "weighted avg       0.96      0.96      0.96      2211\n",
            "\n"
          ],
          "name": "stdout"
        }
      ]
    },
    {
      "cell_type": "markdown",
      "metadata": {
        "id": "0lIHY2Alechm",
        "colab_type": "text"
      },
      "source": [
        "Adding Dropout Layer to check whether it improves accuracy."
      ]
    },
    {
      "cell_type": "code",
      "metadata": {
        "id": "6hJOb2mQUswz",
        "colab_type": "code",
        "colab": {}
      },
      "source": [
        "model = Sequential()\n",
        "\n",
        "\n",
        "# input layer\n",
        "model.add(Dense(30,  activation='relu'))\n",
        "model.add(Dropout(0.5))\n",
        "\n",
        "# hidden layer\n",
        "model.add(Dense(18, activation='relu'))\n",
        "model.add(Dropout(0.5))\n",
        "\n",
        "# hidden layer\n",
        "model.add(Dense(7, activation='relu'))\n",
        "model.add(Dropout(0.5))\n",
        "\n",
        "# output layer\n",
        "model.add(Dense(units=1,activation='sigmoid'))\n",
        "\n",
        "# Compile model\n",
        "model.compile(loss='binary_crossentropy', optimizer='adam',metrics=[\"accuracy\"])"
      ],
      "execution_count": 0,
      "outputs": []
    },
    {
      "cell_type": "code",
      "metadata": {
        "id": "--6AcvMnVPYh",
        "colab_type": "code",
        "outputId": "a95129d3-9aec-4ed8-faa0-e3a685ec302a",
        "colab": {
          "base_uri": "https://localhost:8080/",
          "height": 1000
        }
      },
      "source": [
        "model.fit(x=X_train, \n",
        "          y=y_train, \n",
        "          epochs=500,\n",
        "          batch_size=128,\n",
        "          validation_data=(X_test, y_test),\n",
        "          callbacks=[es_cb]\n",
        "          )"
      ],
      "execution_count": 0,
      "outputs": [
        {
          "output_type": "stream",
          "text": [
            "Train on 8844 samples, validate on 2211 samples\n",
            "Epoch 1/500\n",
            "8844/8844 [==============================] - 0s 39us/step - loss: 0.7968 - accuracy: 0.4950 - val_loss: 0.6719 - val_accuracy: 0.6445\n",
            "Epoch 2/500\n",
            "8844/8844 [==============================] - 0s 15us/step - loss: 0.6764 - accuracy: 0.5563 - val_loss: 0.6458 - val_accuracy: 0.7417\n",
            "Epoch 3/500\n",
            "8844/8844 [==============================] - 0s 15us/step - loss: 0.6414 - accuracy: 0.5945 - val_loss: 0.5834 - val_accuracy: 0.8517\n",
            "Epoch 4/500\n",
            "8844/8844 [==============================] - 0s 16us/step - loss: 0.5824 - accuracy: 0.6725 - val_loss: 0.4596 - val_accuracy: 0.8942\n",
            "Epoch 5/500\n",
            "8844/8844 [==============================] - 0s 16us/step - loss: 0.5148 - accuracy: 0.7505 - val_loss: 0.3554 - val_accuracy: 0.9136\n",
            "Epoch 6/500\n",
            "8844/8844 [==============================] - 0s 15us/step - loss: 0.4660 - accuracy: 0.7946 - val_loss: 0.3009 - val_accuracy: 0.9150\n",
            "Epoch 7/500\n",
            "8844/8844 [==============================] - 0s 17us/step - loss: 0.4368 - accuracy: 0.8130 - val_loss: 0.2696 - val_accuracy: 0.9177\n",
            "Epoch 8/500\n",
            "8844/8844 [==============================] - 0s 15us/step - loss: 0.4062 - accuracy: 0.8394 - val_loss: 0.2549 - val_accuracy: 0.9181\n",
            "Epoch 9/500\n",
            "8844/8844 [==============================] - 0s 15us/step - loss: 0.3929 - accuracy: 0.8472 - val_loss: 0.2348 - val_accuracy: 0.9190\n",
            "Epoch 10/500\n",
            "8844/8844 [==============================] - 0s 15us/step - loss: 0.3756 - accuracy: 0.8533 - val_loss: 0.2291 - val_accuracy: 0.9213\n",
            "Epoch 11/500\n",
            "8844/8844 [==============================] - 0s 15us/step - loss: 0.3699 - accuracy: 0.8624 - val_loss: 0.2202 - val_accuracy: 0.9236\n",
            "Epoch 12/500\n",
            "8844/8844 [==============================] - 0s 15us/step - loss: 0.3471 - accuracy: 0.8697 - val_loss: 0.2137 - val_accuracy: 0.9263\n",
            "Epoch 13/500\n",
            "8844/8844 [==============================] - 0s 17us/step - loss: 0.3481 - accuracy: 0.8781 - val_loss: 0.2082 - val_accuracy: 0.9267\n",
            "Epoch 14/500\n",
            "8844/8844 [==============================] - 0s 15us/step - loss: 0.3275 - accuracy: 0.8774 - val_loss: 0.2045 - val_accuracy: 0.9258\n",
            "Epoch 15/500\n",
            "8844/8844 [==============================] - 0s 15us/step - loss: 0.3305 - accuracy: 0.8787 - val_loss: 0.1989 - val_accuracy: 0.9299\n",
            "Epoch 16/500\n",
            "8844/8844 [==============================] - 0s 15us/step - loss: 0.3267 - accuracy: 0.8848 - val_loss: 0.1947 - val_accuracy: 0.9294\n",
            "Epoch 17/500\n",
            "8844/8844 [==============================] - 0s 15us/step - loss: 0.3180 - accuracy: 0.8788 - val_loss: 0.1907 - val_accuracy: 0.9281\n",
            "Epoch 18/500\n",
            "8844/8844 [==============================] - 0s 15us/step - loss: 0.3073 - accuracy: 0.8920 - val_loss: 0.1886 - val_accuracy: 0.9303\n",
            "Epoch 19/500\n",
            "8844/8844 [==============================] - 0s 15us/step - loss: 0.2980 - accuracy: 0.8917 - val_loss: 0.1881 - val_accuracy: 0.9331\n",
            "Epoch 20/500\n",
            "8844/8844 [==============================] - 0s 16us/step - loss: 0.3017 - accuracy: 0.8911 - val_loss: 0.1845 - val_accuracy: 0.9331\n",
            "Epoch 21/500\n",
            "8844/8844 [==============================] - 0s 15us/step - loss: 0.2873 - accuracy: 0.8891 - val_loss: 0.1760 - val_accuracy: 0.9331\n",
            "Epoch 22/500\n",
            "8844/8844 [==============================] - 0s 17us/step - loss: 0.2746 - accuracy: 0.8901 - val_loss: 0.1740 - val_accuracy: 0.9349\n",
            "Epoch 23/500\n",
            "8844/8844 [==============================] - 0s 15us/step - loss: 0.2724 - accuracy: 0.8889 - val_loss: 0.1733 - val_accuracy: 0.9367\n",
            "Epoch 24/500\n",
            "8844/8844 [==============================] - 0s 16us/step - loss: 0.2706 - accuracy: 0.8896 - val_loss: 0.1710 - val_accuracy: 0.9303\n",
            "Epoch 25/500\n",
            "8844/8844 [==============================] - 0s 17us/step - loss: 0.2541 - accuracy: 0.8945 - val_loss: 0.1675 - val_accuracy: 0.9380\n",
            "Epoch 26/500\n",
            "8844/8844 [==============================] - 0s 18us/step - loss: 0.2665 - accuracy: 0.8872 - val_loss: 0.1665 - val_accuracy: 0.9408\n",
            "Epoch 27/500\n",
            "8844/8844 [==============================] - 0s 19us/step - loss: 0.2579 - accuracy: 0.8927 - val_loss: 0.1673 - val_accuracy: 0.9367\n",
            "Epoch 28/500\n",
            "8844/8844 [==============================] - 0s 18us/step - loss: 0.2637 - accuracy: 0.8898 - val_loss: 0.1641 - val_accuracy: 0.9380\n",
            "Epoch 29/500\n",
            "8844/8844 [==============================] - 0s 19us/step - loss: 0.2531 - accuracy: 0.8978 - val_loss: 0.1632 - val_accuracy: 0.9403\n",
            "Epoch 30/500\n",
            "8844/8844 [==============================] - 0s 18us/step - loss: 0.2596 - accuracy: 0.8930 - val_loss: 0.1624 - val_accuracy: 0.9367\n"
          ],
          "name": "stdout"
        },
        {
          "output_type": "execute_result",
          "data": {
            "text/plain": [
              "<keras.callbacks.callbacks.History at 0x7f81ad666c18>"
            ]
          },
          "metadata": {
            "tags": []
          },
          "execution_count": 477
        }
      ]
    },
    {
      "cell_type": "code",
      "metadata": {
        "id": "cdb-qK-wVTZu",
        "colab_type": "code",
        "colab": {}
      },
      "source": [
        "losses = pd.DataFrame(model.history.history)"
      ],
      "execution_count": 0,
      "outputs": []
    },
    {
      "cell_type": "code",
      "metadata": {
        "id": "sJpw-D7DVkF7",
        "colab_type": "code",
        "outputId": "671b1332-0c32-4d8b-c61d-7ce0fdccdd7c",
        "colab": {
          "base_uri": "https://localhost:8080/",
          "height": 282
        }
      },
      "source": [
        "losses[['loss','val_loss']].plot()"
      ],
      "execution_count": 0,
      "outputs": [
        {
          "output_type": "execute_result",
          "data": {
            "text/plain": [
              "<matplotlib.axes._subplots.AxesSubplot at 0x7f81ad33c710>"
            ]
          },
          "metadata": {
            "tags": []
          },
          "execution_count": 479
        },
        {
          "output_type": "display_data",
          "data": {
            "image/png": "[encoded data removed]",
            "text/plain": [
              "<Figure size 432x288 with 1 Axes>"
            ]
          },
          "metadata": {
            "tags": []
          }
        }
      ]
    },
    {
      "cell_type": "code",
      "metadata": {
        "id": "T6bJEyCIVl9g",
        "colab_type": "code",
        "colab": {}
      },
      "source": [
        "predictions = model.predict_classes(X_test)"
      ],
      "execution_count": 0,
      "outputs": []
    },
    {
      "cell_type": "markdown",
      "metadata": {
        "id": "aEVucj43ejS5",
        "colab_type": "text"
      },
      "source": [
        "In this case adding the Dropout layer adversely affected the accuracy of the model."
      ]
    },
    {
      "cell_type": "code",
      "metadata": {
        "id": "UWpi67OWVr10",
        "colab_type": "code",
        "outputId": "ba64b935-d73b-4326-b0b5-ad594883320f",
        "colab": {
          "base_uri": "https://localhost:8080/",
          "height": 168
        }
      },
      "source": [
        "print(classification_report(y_test,predictions))"
      ],
      "execution_count": 0,
      "outputs": [
        {
          "output_type": "stream",
          "text": [
            "              precision    recall  f1-score   support\n",
            "\n",
            "           0       0.92      0.94      0.93       971\n",
            "           1       0.95      0.94      0.94      1240\n",
            "\n",
            "    accuracy                           0.94      2211\n",
            "   macro avg       0.94      0.94      0.94      2211\n",
            "weighted avg       0.94      0.94      0.94      2211\n",
            "\n"
          ],
          "name": "stdout"
        }
      ]
    },
    {
      "cell_type": "code",
      "metadata": {
        "id": "9WUuMRPUVtDG",
        "colab_type": "code",
        "outputId": "9dd5953d-7bf0-433f-ec05-6bc00c87a2ec",
        "colab": {
          "base_uri": "https://localhost:8080/",
          "height": 50
        }
      },
      "source": [
        "confusion_matrix(y_test,predictions)"
      ],
      "execution_count": 0,
      "outputs": [
        {
          "output_type": "execute_result",
          "data": {
            "text/plain": [
              "array([[ 908,   63],\n",
              "       [  77, 1163]])"
            ]
          },
          "metadata": {
            "tags": []
          },
          "execution_count": 482
        }
      ]
    },
    {
      "cell_type": "markdown",
      "metadata": {
        "id": "l85-54mFeuSc",
        "colab_type": "text"
      },
      "source": [
        "# ***Thank You for staying till The End***"
      ]
    }
  ]
}