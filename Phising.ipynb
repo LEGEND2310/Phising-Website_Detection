{
  "nbformat": 4,
  "nbformat_minor": 0,
  "metadata": {
    "colab": {
      "name": "Phising.ipynb",
      "provenance": [],
      "collapsed_sections": [
        "_K8rO3VPGAZG",
        "0fnhxXLqGViH",
        "DUk_3efBGowa",
        "93WTPtFCHNGS",
        "soMafMsEHXRP",
        "ggi2INUZHjf5",
        "I-DBigX9Hpw1",
        "_oNXk2yXHxdW",
        "MnLz1KTEH4TO"
      ]
    },
    "kernelspec": {
      "name": "python3",
      "display_name": "Python 3"
    }
  },
  "cells": [
    {
      "cell_type": "markdown",
      "metadata": {
        "id": "P9Q7abFsg_TX",
        "colab_type": "text"
      },
      "source": [
        "# **Phising Website Detection**"
      ]
    },
    {
      "cell_type": "markdown",
      "metadata": {
        "id": "NGF4HyzOi0_r",
        "colab_type": "text"
      },
      "source": [
        "## **Introduction**"
      ]
    },
    {
      "cell_type": "markdown",
      "metadata": {
        "id": "aIGVonijhGPZ",
        "colab_type": "text"
      },
      "source": [
        "A big part of machine learning is classification — we want to know what class (a.k.a. group) an observation belongs to. The ability to precisely classify observations is extremely valuable for various business applications like predicting whether a particular user will buy a product or forecasting whether a given loan will default or not.\n",
        "\n",
        "Data science provides a plethora of classification algorithms such as logistic regression, support vector machine, naive Bayes classifier, and decision trees. But near the top of the classifier hierarchy is the random forest classifier.\n",
        "\n",
        "In this excercise we will look at:\n",
        "  1. Logistic Regression\n",
        "  2. K-Nearest Neighbours\n",
        "  3. Decision Tree\n",
        "  4. Random Forest Classifier\n",
        "  5. Support Vector Machines\n",
        "  6. Neural Networks\n",
        "\n",
        "The data for this excercise is taken from UCI website (https://archive.ics.uci.edu/ml/datasets/phishing+websites.).\n",
        " \n",
        "Details on Data Features is available at: https://github.com/LEGEND2310/Phising-Website_Detection/blob/master/Phishing%20Websites%20Features.docx"
      ]
    },
    {
      "cell_type": "markdown",
      "metadata": {
        "id": "_K8rO3VPGAZG",
        "colab_type": "text"
      },
      "source": [
        "### **Importing Required Libraries and accesing files from Google Drive**"
      ]
    },
    {
      "cell_type": "code",
      "metadata": {
        "id": "4oSIedX2V9NM",
        "colab_type": "code",
        "colab": {}
      },
      "source": [
        "#importing basic required libraries\n",
        "import pandas as pd\n",
        "import numpy as np\n",
        "import seaborn as sns\n",
        "import matplotlib.pyplot as plt\n",
        "%matplotlib inline\n",
        "\n",
        "# Filter the uneccesary warnings\n",
        "import warnings\n",
        "warnings.filterwarnings(\"ignore\")"
      ],
      "execution_count": 0,
      "outputs": []
    },
    {
      "cell_type": "code",
      "metadata": {
        "id": "xyCGrFNp6sDl",
        "colab_type": "code",
        "colab": {}
      },
      "source": [
        "#installing requirements to access google drive\n",
        "!pip install -U -q PyDrive\n",
        "from pydrive.auth import GoogleAuth\n",
        "from pydrive.drive import GoogleDrive\n",
        "from google.colab import auth\n",
        "from oauth2client.client import GoogleCredentials\n",
        "# Authenticate and create the PyDrive client.\n",
        "auth.authenticate_user()\n",
        "gauth = GoogleAuth()\n",
        "gauth.credentials = GoogleCredentials.get_application_default()\n",
        "drive = GoogleDrive(gauth)"
      ],
      "execution_count": 0,
      "outputs": []
    },
    {
      "cell_type": "code",
      "metadata": {
        "id": "SoJaItcQ8Sjq",
        "colab_type": "code",
        "colab": {}
      },
      "source": [
        "link=\"https://drive.google.com/open?id=1ZjR4-A8TrViaRXC_BYjRme5jo0udrLpz\""
      ],
      "execution_count": 0,
      "outputs": []
    },
    {
      "cell_type": "markdown",
      "metadata": {
        "id": "ofW_V8bmWGKD",
        "colab_type": "text"
      },
      "source": [
        "Seperating File Id from rest of the Link"
      ]
    },
    {
      "cell_type": "code",
      "metadata": {
        "id": "VvhQ4uLS8vk8",
        "colab_type": "code",
        "outputId": "e36d579d-ffb6-4f98-aa18-565955be3202",
        "colab": {
          "base_uri": "https://localhost:8080/",
          "height": 34
        }
      },
      "source": [
        "fluff, id = link.split('=')\n",
        "print (id) # Verify that you have everything after '='"
      ],
      "execution_count": 123,
      "outputs": [
        {
          "output_type": "stream",
          "text": [
            "1ZjR4-A8TrViaRXC_BYjRme5jo0udrLpz\n"
          ],
          "name": "stdout"
        }
      ]
    },
    {
      "cell_type": "code",
      "metadata": {
        "id": "RZmJt7MP8xzF",
        "colab_type": "code",
        "colab": {}
      },
      "source": [
        "downloaded = drive.CreateFile({'id':id}) \n",
        "downloaded.GetContentFile('Training Dataset.csv')"
      ],
      "execution_count": 0,
      "outputs": []
    },
    {
      "cell_type": "code",
      "metadata": {
        "id": "0ASqo4bY9C5I",
        "colab_type": "code",
        "colab": {}
      },
      "source": [
        "df = pd.read_csv('Training Dataset.csv')"
      ],
      "execution_count": 0,
      "outputs": []
    },
    {
      "cell_type": "markdown",
      "metadata": {
        "id": "0fnhxXLqGViH",
        "colab_type": "text"
      },
      "source": [
        "## **Studying the Trends in Data (EDA)**"
      ]
    },
    {
      "cell_type": "code",
      "metadata": {
        "id": "TKXMQfdw9fOG",
        "colab_type": "code",
        "outputId": "9bb4c8a7-f9a7-448a-d565-674e94794d35",
        "colab": {
          "base_uri": "https://localhost:8080/",
          "height": 965
        }
      },
      "source": [
        "df.head(10).transpose()"
      ],
      "execution_count": 126,
      "outputs": [
        {
          "output_type": "execute_result",
          "data": {
            "text/html": [
              "<div>\n",
              "<style scoped>\n",
              "    .dataframe tbody tr th:only-of-type {\n",
              "        vertical-align: middle;\n",
              "    }\n",
              "\n",
              "    .dataframe tbody tr th {\n",
              "        vertical-align: top;\n",
              "    }\n",
              "\n",
              "    .dataframe thead th {\n",
              "        text-align: right;\n",
              "    }\n",
              "</style>\n",
              "<table border=\"1\" class=\"dataframe\">\n",
              "  <thead>\n",
              "    <tr style=\"text-align: right;\">\n",
              "      <th></th>\n",
              "      <th>0</th>\n",
              "      <th>1</th>\n",
              "      <th>2</th>\n",
              "      <th>3</th>\n",
              "      <th>4</th>\n",
              "      <th>5</th>\n",
              "      <th>6</th>\n",
              "      <th>7</th>\n",
              "      <th>8</th>\n",
              "      <th>9</th>\n",
              "    </tr>\n",
              "  </thead>\n",
              "  <tbody>\n",
              "    <tr>\n",
              "      <th>having_IP_Address</th>\n",
              "      <td>-1</td>\n",
              "      <td>1</td>\n",
              "      <td>1</td>\n",
              "      <td>1</td>\n",
              "      <td>1</td>\n",
              "      <td>-1</td>\n",
              "      <td>1</td>\n",
              "      <td>1</td>\n",
              "      <td>1</td>\n",
              "      <td>1</td>\n",
              "    </tr>\n",
              "    <tr>\n",
              "      <th>URL_Length</th>\n",
              "      <td>1</td>\n",
              "      <td>1</td>\n",
              "      <td>0</td>\n",
              "      <td>0</td>\n",
              "      <td>0</td>\n",
              "      <td>0</td>\n",
              "      <td>0</td>\n",
              "      <td>0</td>\n",
              "      <td>0</td>\n",
              "      <td>1</td>\n",
              "    </tr>\n",
              "    <tr>\n",
              "      <th>Shortining_Service</th>\n",
              "      <td>1</td>\n",
              "      <td>1</td>\n",
              "      <td>1</td>\n",
              "      <td>1</td>\n",
              "      <td>-1</td>\n",
              "      <td>-1</td>\n",
              "      <td>-1</td>\n",
              "      <td>1</td>\n",
              "      <td>-1</td>\n",
              "      <td>-1</td>\n",
              "    </tr>\n",
              "    <tr>\n",
              "      <th>having_At_Symbol</th>\n",
              "      <td>1</td>\n",
              "      <td>1</td>\n",
              "      <td>1</td>\n",
              "      <td>1</td>\n",
              "      <td>1</td>\n",
              "      <td>1</td>\n",
              "      <td>1</td>\n",
              "      <td>1</td>\n",
              "      <td>1</td>\n",
              "      <td>1</td>\n",
              "    </tr>\n",
              "    <tr>\n",
              "      <th>double_slash_redirecting</th>\n",
              "      <td>-1</td>\n",
              "      <td>1</td>\n",
              "      <td>1</td>\n",
              "      <td>1</td>\n",
              "      <td>1</td>\n",
              "      <td>-1</td>\n",
              "      <td>1</td>\n",
              "      <td>1</td>\n",
              "      <td>1</td>\n",
              "      <td>1</td>\n",
              "    </tr>\n",
              "    <tr>\n",
              "      <th>Prefix_Suffix</th>\n",
              "      <td>-1</td>\n",
              "      <td>-1</td>\n",
              "      <td>-1</td>\n",
              "      <td>-1</td>\n",
              "      <td>-1</td>\n",
              "      <td>-1</td>\n",
              "      <td>-1</td>\n",
              "      <td>-1</td>\n",
              "      <td>-1</td>\n",
              "      <td>-1</td>\n",
              "    </tr>\n",
              "    <tr>\n",
              "      <th>having_Sub_Domain</th>\n",
              "      <td>-1</td>\n",
              "      <td>0</td>\n",
              "      <td>-1</td>\n",
              "      <td>-1</td>\n",
              "      <td>1</td>\n",
              "      <td>1</td>\n",
              "      <td>-1</td>\n",
              "      <td>-1</td>\n",
              "      <td>1</td>\n",
              "      <td>-1</td>\n",
              "    </tr>\n",
              "    <tr>\n",
              "      <th>SSLfinal_State</th>\n",
              "      <td>-1</td>\n",
              "      <td>1</td>\n",
              "      <td>-1</td>\n",
              "      <td>-1</td>\n",
              "      <td>1</td>\n",
              "      <td>1</td>\n",
              "      <td>-1</td>\n",
              "      <td>-1</td>\n",
              "      <td>1</td>\n",
              "      <td>1</td>\n",
              "    </tr>\n",
              "    <tr>\n",
              "      <th>Domain_registeration_length</th>\n",
              "      <td>-1</td>\n",
              "      <td>-1</td>\n",
              "      <td>-1</td>\n",
              "      <td>1</td>\n",
              "      <td>-1</td>\n",
              "      <td>-1</td>\n",
              "      <td>1</td>\n",
              "      <td>1</td>\n",
              "      <td>-1</td>\n",
              "      <td>-1</td>\n",
              "    </tr>\n",
              "    <tr>\n",
              "      <th>Favicon</th>\n",
              "      <td>1</td>\n",
              "      <td>1</td>\n",
              "      <td>1</td>\n",
              "      <td>1</td>\n",
              "      <td>1</td>\n",
              "      <td>1</td>\n",
              "      <td>1</td>\n",
              "      <td>1</td>\n",
              "      <td>1</td>\n",
              "      <td>1</td>\n",
              "    </tr>\n",
              "    <tr>\n",
              "      <th>port</th>\n",
              "      <td>1</td>\n",
              "      <td>1</td>\n",
              "      <td>1</td>\n",
              "      <td>1</td>\n",
              "      <td>1</td>\n",
              "      <td>1</td>\n",
              "      <td>1</td>\n",
              "      <td>1</td>\n",
              "      <td>1</td>\n",
              "      <td>1</td>\n",
              "    </tr>\n",
              "    <tr>\n",
              "      <th>HTTPS_token</th>\n",
              "      <td>-1</td>\n",
              "      <td>-1</td>\n",
              "      <td>-1</td>\n",
              "      <td>-1</td>\n",
              "      <td>1</td>\n",
              "      <td>-1</td>\n",
              "      <td>1</td>\n",
              "      <td>-1</td>\n",
              "      <td>-1</td>\n",
              "      <td>1</td>\n",
              "    </tr>\n",
              "    <tr>\n",
              "      <th>Request_URL</th>\n",
              "      <td>1</td>\n",
              "      <td>1</td>\n",
              "      <td>1</td>\n",
              "      <td>-1</td>\n",
              "      <td>1</td>\n",
              "      <td>1</td>\n",
              "      <td>-1</td>\n",
              "      <td>-1</td>\n",
              "      <td>1</td>\n",
              "      <td>1</td>\n",
              "    </tr>\n",
              "    <tr>\n",
              "      <th>URL_of_Anchor</th>\n",
              "      <td>-1</td>\n",
              "      <td>0</td>\n",
              "      <td>0</td>\n",
              "      <td>0</td>\n",
              "      <td>0</td>\n",
              "      <td>0</td>\n",
              "      <td>-1</td>\n",
              "      <td>0</td>\n",
              "      <td>0</td>\n",
              "      <td>0</td>\n",
              "    </tr>\n",
              "    <tr>\n",
              "      <th>Links_in_tags</th>\n",
              "      <td>1</td>\n",
              "      <td>-1</td>\n",
              "      <td>-1</td>\n",
              "      <td>0</td>\n",
              "      <td>0</td>\n",
              "      <td>0</td>\n",
              "      <td>0</td>\n",
              "      <td>-1</td>\n",
              "      <td>1</td>\n",
              "      <td>1</td>\n",
              "    </tr>\n",
              "    <tr>\n",
              "      <th>SFH</th>\n",
              "      <td>-1</td>\n",
              "      <td>-1</td>\n",
              "      <td>-1</td>\n",
              "      <td>-1</td>\n",
              "      <td>-1</td>\n",
              "      <td>-1</td>\n",
              "      <td>-1</td>\n",
              "      <td>-1</td>\n",
              "      <td>-1</td>\n",
              "      <td>-1</td>\n",
              "    </tr>\n",
              "    <tr>\n",
              "      <th>Submitting_to_email</th>\n",
              "      <td>-1</td>\n",
              "      <td>1</td>\n",
              "      <td>-1</td>\n",
              "      <td>1</td>\n",
              "      <td>1</td>\n",
              "      <td>-1</td>\n",
              "      <td>-1</td>\n",
              "      <td>1</td>\n",
              "      <td>1</td>\n",
              "      <td>1</td>\n",
              "    </tr>\n",
              "    <tr>\n",
              "      <th>Abnormal_URL</th>\n",
              "      <td>-1</td>\n",
              "      <td>1</td>\n",
              "      <td>-1</td>\n",
              "      <td>1</td>\n",
              "      <td>1</td>\n",
              "      <td>-1</td>\n",
              "      <td>-1</td>\n",
              "      <td>1</td>\n",
              "      <td>1</td>\n",
              "      <td>1</td>\n",
              "    </tr>\n",
              "    <tr>\n",
              "      <th>Redirect</th>\n",
              "      <td>0</td>\n",
              "      <td>0</td>\n",
              "      <td>0</td>\n",
              "      <td>0</td>\n",
              "      <td>0</td>\n",
              "      <td>0</td>\n",
              "      <td>0</td>\n",
              "      <td>0</td>\n",
              "      <td>0</td>\n",
              "      <td>0</td>\n",
              "    </tr>\n",
              "    <tr>\n",
              "      <th>on_mouseover</th>\n",
              "      <td>1</td>\n",
              "      <td>1</td>\n",
              "      <td>1</td>\n",
              "      <td>1</td>\n",
              "      <td>-1</td>\n",
              "      <td>1</td>\n",
              "      <td>1</td>\n",
              "      <td>1</td>\n",
              "      <td>1</td>\n",
              "      <td>1</td>\n",
              "    </tr>\n",
              "    <tr>\n",
              "      <th>RightClick</th>\n",
              "      <td>1</td>\n",
              "      <td>1</td>\n",
              "      <td>1</td>\n",
              "      <td>1</td>\n",
              "      <td>1</td>\n",
              "      <td>1</td>\n",
              "      <td>1</td>\n",
              "      <td>1</td>\n",
              "      <td>1</td>\n",
              "      <td>1</td>\n",
              "    </tr>\n",
              "    <tr>\n",
              "      <th>popUpWidnow</th>\n",
              "      <td>1</td>\n",
              "      <td>1</td>\n",
              "      <td>1</td>\n",
              "      <td>1</td>\n",
              "      <td>-1</td>\n",
              "      <td>1</td>\n",
              "      <td>1</td>\n",
              "      <td>1</td>\n",
              "      <td>1</td>\n",
              "      <td>1</td>\n",
              "    </tr>\n",
              "    <tr>\n",
              "      <th>Iframe</th>\n",
              "      <td>1</td>\n",
              "      <td>1</td>\n",
              "      <td>1</td>\n",
              "      <td>1</td>\n",
              "      <td>1</td>\n",
              "      <td>1</td>\n",
              "      <td>1</td>\n",
              "      <td>1</td>\n",
              "      <td>1</td>\n",
              "      <td>1</td>\n",
              "    </tr>\n",
              "    <tr>\n",
              "      <th>age_of_domain</th>\n",
              "      <td>-1</td>\n",
              "      <td>-1</td>\n",
              "      <td>1</td>\n",
              "      <td>-1</td>\n",
              "      <td>-1</td>\n",
              "      <td>1</td>\n",
              "      <td>1</td>\n",
              "      <td>-1</td>\n",
              "      <td>1</td>\n",
              "      <td>1</td>\n",
              "    </tr>\n",
              "    <tr>\n",
              "      <th>DNSRecord</th>\n",
              "      <td>-1</td>\n",
              "      <td>-1</td>\n",
              "      <td>-1</td>\n",
              "      <td>-1</td>\n",
              "      <td>-1</td>\n",
              "      <td>1</td>\n",
              "      <td>-1</td>\n",
              "      <td>-1</td>\n",
              "      <td>-1</td>\n",
              "      <td>-1</td>\n",
              "    </tr>\n",
              "    <tr>\n",
              "      <th>web_traffic</th>\n",
              "      <td>-1</td>\n",
              "      <td>0</td>\n",
              "      <td>1</td>\n",
              "      <td>1</td>\n",
              "      <td>0</td>\n",
              "      <td>1</td>\n",
              "      <td>-1</td>\n",
              "      <td>0</td>\n",
              "      <td>1</td>\n",
              "      <td>0</td>\n",
              "    </tr>\n",
              "    <tr>\n",
              "      <th>Page_Rank</th>\n",
              "      <td>-1</td>\n",
              "      <td>-1</td>\n",
              "      <td>-1</td>\n",
              "      <td>-1</td>\n",
              "      <td>-1</td>\n",
              "      <td>-1</td>\n",
              "      <td>-1</td>\n",
              "      <td>-1</td>\n",
              "      <td>1</td>\n",
              "      <td>-1</td>\n",
              "    </tr>\n",
              "    <tr>\n",
              "      <th>Google_Index</th>\n",
              "      <td>1</td>\n",
              "      <td>1</td>\n",
              "      <td>1</td>\n",
              "      <td>1</td>\n",
              "      <td>1</td>\n",
              "      <td>1</td>\n",
              "      <td>1</td>\n",
              "      <td>1</td>\n",
              "      <td>1</td>\n",
              "      <td>1</td>\n",
              "    </tr>\n",
              "    <tr>\n",
              "      <th>Links_pointing_to_page</th>\n",
              "      <td>1</td>\n",
              "      <td>1</td>\n",
              "      <td>0</td>\n",
              "      <td>-1</td>\n",
              "      <td>1</td>\n",
              "      <td>-1</td>\n",
              "      <td>0</td>\n",
              "      <td>0</td>\n",
              "      <td>0</td>\n",
              "      <td>0</td>\n",
              "    </tr>\n",
              "    <tr>\n",
              "      <th>Statistical_report</th>\n",
              "      <td>-1</td>\n",
              "      <td>1</td>\n",
              "      <td>-1</td>\n",
              "      <td>1</td>\n",
              "      <td>1</td>\n",
              "      <td>-1</td>\n",
              "      <td>-1</td>\n",
              "      <td>1</td>\n",
              "      <td>1</td>\n",
              "      <td>1</td>\n",
              "    </tr>\n",
              "    <tr>\n",
              "      <th>Result</th>\n",
              "      <td>-1</td>\n",
              "      <td>-1</td>\n",
              "      <td>-1</td>\n",
              "      <td>-1</td>\n",
              "      <td>1</td>\n",
              "      <td>1</td>\n",
              "      <td>-1</td>\n",
              "      <td>-1</td>\n",
              "      <td>1</td>\n",
              "      <td>-1</td>\n",
              "    </tr>\n",
              "  </tbody>\n",
              "</table>\n",
              "</div>"
            ],
            "text/plain": [
              "                             0  1  2  3  4  5  6  7  8  9\n",
              "having_IP_Address           -1  1  1  1  1 -1  1  1  1  1\n",
              "URL_Length                   1  1  0  0  0  0  0  0  0  1\n",
              "Shortining_Service           1  1  1  1 -1 -1 -1  1 -1 -1\n",
              "having_At_Symbol             1  1  1  1  1  1  1  1  1  1\n",
              "double_slash_redirecting    -1  1  1  1  1 -1  1  1  1  1\n",
              "Prefix_Suffix               -1 -1 -1 -1 -1 -1 -1 -1 -1 -1\n",
              "having_Sub_Domain           -1  0 -1 -1  1  1 -1 -1  1 -1\n",
              "SSLfinal_State              -1  1 -1 -1  1  1 -1 -1  1  1\n",
              "Domain_registeration_length -1 -1 -1  1 -1 -1  1  1 -1 -1\n",
              "Favicon                      1  1  1  1  1  1  1  1  1  1\n",
              "port                         1  1  1  1  1  1  1  1  1  1\n",
              "HTTPS_token                 -1 -1 -1 -1  1 -1  1 -1 -1  1\n",
              "Request_URL                  1  1  1 -1  1  1 -1 -1  1  1\n",
              "URL_of_Anchor               -1  0  0  0  0  0 -1  0  0  0\n",
              "Links_in_tags                1 -1 -1  0  0  0  0 -1  1  1\n",
              "SFH                         -1 -1 -1 -1 -1 -1 -1 -1 -1 -1\n",
              "Submitting_to_email         -1  1 -1  1  1 -1 -1  1  1  1\n",
              "Abnormal_URL                -1  1 -1  1  1 -1 -1  1  1  1\n",
              "Redirect                     0  0  0  0  0  0  0  0  0  0\n",
              "on_mouseover                 1  1  1  1 -1  1  1  1  1  1\n",
              "RightClick                   1  1  1  1  1  1  1  1  1  1\n",
              "popUpWidnow                  1  1  1  1 -1  1  1  1  1  1\n",
              "Iframe                       1  1  1  1  1  1  1  1  1  1\n",
              "age_of_domain               -1 -1  1 -1 -1  1  1 -1  1  1\n",
              "DNSRecord                   -1 -1 -1 -1 -1  1 -1 -1 -1 -1\n",
              "web_traffic                 -1  0  1  1  0  1 -1  0  1  0\n",
              "Page_Rank                   -1 -1 -1 -1 -1 -1 -1 -1  1 -1\n",
              "Google_Index                 1  1  1  1  1  1  1  1  1  1\n",
              "Links_pointing_to_page       1  1  0 -1  1 -1  0  0  0  0\n",
              "Statistical_report          -1  1 -1  1  1 -1 -1  1  1  1\n",
              "Result                      -1 -1 -1 -1  1  1 -1 -1  1 -1"
            ]
          },
          "metadata": {
            "tags": []
          },
          "execution_count": 126
        }
      ]
    },
    {
      "cell_type": "markdown",
      "metadata": {
        "id": "mz7yGbb_W7kN",
        "colab_type": "text"
      },
      "source": [
        "Checking for null values in the dataframe"
      ]
    },
    {
      "cell_type": "code",
      "metadata": {
        "id": "3WLOqsUqTSTl",
        "colab_type": "code",
        "outputId": "f8aef42a-820e-4bbe-ed08-e626824e9d23",
        "colab": {
          "base_uri": "https://localhost:8080/",
          "height": 554
        }
      },
      "source": [
        "df.isna().sum()"
      ],
      "execution_count": 127,
      "outputs": [
        {
          "output_type": "execute_result",
          "data": {
            "text/plain": [
              "having_IP_Address              0\n",
              "URL_Length                     0\n",
              "Shortining_Service             0\n",
              "having_At_Symbol               0\n",
              "double_slash_redirecting       0\n",
              "Prefix_Suffix                  0\n",
              "having_Sub_Domain              0\n",
              "SSLfinal_State                 0\n",
              "Domain_registeration_length    0\n",
              "Favicon                        0\n",
              "port                           0\n",
              "HTTPS_token                    0\n",
              "Request_URL                    0\n",
              "URL_of_Anchor                  0\n",
              "Links_in_tags                  0\n",
              "SFH                            0\n",
              "Submitting_to_email            0\n",
              "Abnormal_URL                   0\n",
              "Redirect                       0\n",
              "on_mouseover                   0\n",
              "RightClick                     0\n",
              "popUpWidnow                    0\n",
              "Iframe                         0\n",
              "age_of_domain                  0\n",
              "DNSRecord                      0\n",
              "web_traffic                    0\n",
              "Page_Rank                      0\n",
              "Google_Index                   0\n",
              "Links_pointing_to_page         0\n",
              "Statistical_report             0\n",
              "Result                         0\n",
              "dtype: int64"
            ]
          },
          "metadata": {
            "tags": []
          },
          "execution_count": 127
        }
      ]
    },
    {
      "cell_type": "code",
      "metadata": {
        "id": "fFpOrlAgS-Om",
        "colab_type": "code",
        "outputId": "54efa711-3e20-43ce-acf8-8ffc2f1d8daa",
        "colab": {
          "base_uri": "https://localhost:8080/",
          "height": 655
        }
      },
      "source": [
        "#Basic info about the Dataframe\n",
        "df.info()"
      ],
      "execution_count": 128,
      "outputs": [
        {
          "output_type": "stream",
          "text": [
            "<class 'pandas.core.frame.DataFrame'>\n",
            "RangeIndex: 11055 entries, 0 to 11054\n",
            "Data columns (total 31 columns):\n",
            " #   Column                       Non-Null Count  Dtype\n",
            "---  ------                       --------------  -----\n",
            " 0   having_IP_Address            11055 non-null  int64\n",
            " 1   URL_Length                   11055 non-null  int64\n",
            " 2   Shortining_Service           11055 non-null  int64\n",
            " 3   having_At_Symbol             11055 non-null  int64\n",
            " 4   double_slash_redirecting     11055 non-null  int64\n",
            " 5   Prefix_Suffix                11055 non-null  int64\n",
            " 6   having_Sub_Domain            11055 non-null  int64\n",
            " 7   SSLfinal_State               11055 non-null  int64\n",
            " 8   Domain_registeration_length  11055 non-null  int64\n",
            " 9   Favicon                      11055 non-null  int64\n",
            " 10  port                         11055 non-null  int64\n",
            " 11  HTTPS_token                  11055 non-null  int64\n",
            " 12  Request_URL                  11055 non-null  int64\n",
            " 13  URL_of_Anchor                11055 non-null  int64\n",
            " 14  Links_in_tags                11055 non-null  int64\n",
            " 15  SFH                          11055 non-null  int64\n",
            " 16  Submitting_to_email          11055 non-null  int64\n",
            " 17  Abnormal_URL                 11055 non-null  int64\n",
            " 18  Redirect                     11055 non-null  int64\n",
            " 19  on_mouseover                 11055 non-null  int64\n",
            " 20  RightClick                   11055 non-null  int64\n",
            " 21  popUpWidnow                  11055 non-null  int64\n",
            " 22  Iframe                       11055 non-null  int64\n",
            " 23  age_of_domain                11055 non-null  int64\n",
            " 24  DNSRecord                    11055 non-null  int64\n",
            " 25  web_traffic                  11055 non-null  int64\n",
            " 26  Page_Rank                    11055 non-null  int64\n",
            " 27  Google_Index                 11055 non-null  int64\n",
            " 28  Links_pointing_to_page       11055 non-null  int64\n",
            " 29  Statistical_report           11055 non-null  int64\n",
            " 30  Result                       11055 non-null  int64\n",
            "dtypes: int64(31)\n",
            "memory usage: 2.6 MB\n"
          ],
          "name": "stdout"
        }
      ]
    },
    {
      "cell_type": "code",
      "metadata": {
        "id": "a1py0CKMKGo9",
        "colab_type": "code",
        "outputId": "b4575872-6576-4b65-968f-4fc380af422f",
        "colab": {
          "base_uri": "https://localhost:8080/",
          "height": 965
        }
      },
      "source": [
        "#Using Describe Method to see patterns in data along with min,max and quarlitles for each column\n",
        "df.describe().transpose()"
      ],
      "execution_count": 129,
      "outputs": [
        {
          "output_type": "execute_result",
          "data": {
            "text/html": [
              "<div>\n",
              "<style scoped>\n",
              "    .dataframe tbody tr th:only-of-type {\n",
              "        vertical-align: middle;\n",
              "    }\n",
              "\n",
              "    .dataframe tbody tr th {\n",
              "        vertical-align: top;\n",
              "    }\n",
              "\n",
              "    .dataframe thead th {\n",
              "        text-align: right;\n",
              "    }\n",
              "</style>\n",
              "<table border=\"1\" class=\"dataframe\">\n",
              "  <thead>\n",
              "    <tr style=\"text-align: right;\">\n",
              "      <th></th>\n",
              "      <th>count</th>\n",
              "      <th>mean</th>\n",
              "      <th>std</th>\n",
              "      <th>min</th>\n",
              "      <th>25%</th>\n",
              "      <th>50%</th>\n",
              "      <th>75%</th>\n",
              "      <th>max</th>\n",
              "    </tr>\n",
              "  </thead>\n",
              "  <tbody>\n",
              "    <tr>\n",
              "      <th>having_IP_Address</th>\n",
              "      <td>11055.0</td>\n",
              "      <td>0.313795</td>\n",
              "      <td>0.949534</td>\n",
              "      <td>-1.0</td>\n",
              "      <td>-1.0</td>\n",
              "      <td>1.0</td>\n",
              "      <td>1.0</td>\n",
              "      <td>1.0</td>\n",
              "    </tr>\n",
              "    <tr>\n",
              "      <th>URL_Length</th>\n",
              "      <td>11055.0</td>\n",
              "      <td>-0.633198</td>\n",
              "      <td>0.766095</td>\n",
              "      <td>-1.0</td>\n",
              "      <td>-1.0</td>\n",
              "      <td>-1.0</td>\n",
              "      <td>-1.0</td>\n",
              "      <td>1.0</td>\n",
              "    </tr>\n",
              "    <tr>\n",
              "      <th>Shortining_Service</th>\n",
              "      <td>11055.0</td>\n",
              "      <td>0.738761</td>\n",
              "      <td>0.673998</td>\n",
              "      <td>-1.0</td>\n",
              "      <td>1.0</td>\n",
              "      <td>1.0</td>\n",
              "      <td>1.0</td>\n",
              "      <td>1.0</td>\n",
              "    </tr>\n",
              "    <tr>\n",
              "      <th>having_At_Symbol</th>\n",
              "      <td>11055.0</td>\n",
              "      <td>0.700588</td>\n",
              "      <td>0.713598</td>\n",
              "      <td>-1.0</td>\n",
              "      <td>1.0</td>\n",
              "      <td>1.0</td>\n",
              "      <td>1.0</td>\n",
              "      <td>1.0</td>\n",
              "    </tr>\n",
              "    <tr>\n",
              "      <th>double_slash_redirecting</th>\n",
              "      <td>11055.0</td>\n",
              "      <td>0.741474</td>\n",
              "      <td>0.671011</td>\n",
              "      <td>-1.0</td>\n",
              "      <td>1.0</td>\n",
              "      <td>1.0</td>\n",
              "      <td>1.0</td>\n",
              "      <td>1.0</td>\n",
              "    </tr>\n",
              "    <tr>\n",
              "      <th>Prefix_Suffix</th>\n",
              "      <td>11055.0</td>\n",
              "      <td>-0.734962</td>\n",
              "      <td>0.678139</td>\n",
              "      <td>-1.0</td>\n",
              "      <td>-1.0</td>\n",
              "      <td>-1.0</td>\n",
              "      <td>-1.0</td>\n",
              "      <td>1.0</td>\n",
              "    </tr>\n",
              "    <tr>\n",
              "      <th>having_Sub_Domain</th>\n",
              "      <td>11055.0</td>\n",
              "      <td>0.063953</td>\n",
              "      <td>0.817518</td>\n",
              "      <td>-1.0</td>\n",
              "      <td>-1.0</td>\n",
              "      <td>0.0</td>\n",
              "      <td>1.0</td>\n",
              "      <td>1.0</td>\n",
              "    </tr>\n",
              "    <tr>\n",
              "      <th>SSLfinal_State</th>\n",
              "      <td>11055.0</td>\n",
              "      <td>0.250927</td>\n",
              "      <td>0.911892</td>\n",
              "      <td>-1.0</td>\n",
              "      <td>-1.0</td>\n",
              "      <td>1.0</td>\n",
              "      <td>1.0</td>\n",
              "      <td>1.0</td>\n",
              "    </tr>\n",
              "    <tr>\n",
              "      <th>Domain_registeration_length</th>\n",
              "      <td>11055.0</td>\n",
              "      <td>-0.336771</td>\n",
              "      <td>0.941629</td>\n",
              "      <td>-1.0</td>\n",
              "      <td>-1.0</td>\n",
              "      <td>-1.0</td>\n",
              "      <td>1.0</td>\n",
              "      <td>1.0</td>\n",
              "    </tr>\n",
              "    <tr>\n",
              "      <th>Favicon</th>\n",
              "      <td>11055.0</td>\n",
              "      <td>0.628584</td>\n",
              "      <td>0.777777</td>\n",
              "      <td>-1.0</td>\n",
              "      <td>1.0</td>\n",
              "      <td>1.0</td>\n",
              "      <td>1.0</td>\n",
              "      <td>1.0</td>\n",
              "    </tr>\n",
              "    <tr>\n",
              "      <th>port</th>\n",
              "      <td>11055.0</td>\n",
              "      <td>0.728268</td>\n",
              "      <td>0.685324</td>\n",
              "      <td>-1.0</td>\n",
              "      <td>1.0</td>\n",
              "      <td>1.0</td>\n",
              "      <td>1.0</td>\n",
              "      <td>1.0</td>\n",
              "    </tr>\n",
              "    <tr>\n",
              "      <th>HTTPS_token</th>\n",
              "      <td>11055.0</td>\n",
              "      <td>0.675079</td>\n",
              "      <td>0.737779</td>\n",
              "      <td>-1.0</td>\n",
              "      <td>1.0</td>\n",
              "      <td>1.0</td>\n",
              "      <td>1.0</td>\n",
              "      <td>1.0</td>\n",
              "    </tr>\n",
              "    <tr>\n",
              "      <th>Request_URL</th>\n",
              "      <td>11055.0</td>\n",
              "      <td>0.186793</td>\n",
              "      <td>0.982444</td>\n",
              "      <td>-1.0</td>\n",
              "      <td>-1.0</td>\n",
              "      <td>1.0</td>\n",
              "      <td>1.0</td>\n",
              "      <td>1.0</td>\n",
              "    </tr>\n",
              "    <tr>\n",
              "      <th>URL_of_Anchor</th>\n",
              "      <td>11055.0</td>\n",
              "      <td>-0.076526</td>\n",
              "      <td>0.715138</td>\n",
              "      <td>-1.0</td>\n",
              "      <td>-1.0</td>\n",
              "      <td>0.0</td>\n",
              "      <td>0.0</td>\n",
              "      <td>1.0</td>\n",
              "    </tr>\n",
              "    <tr>\n",
              "      <th>Links_in_tags</th>\n",
              "      <td>11055.0</td>\n",
              "      <td>-0.118137</td>\n",
              "      <td>0.763973</td>\n",
              "      <td>-1.0</td>\n",
              "      <td>-1.0</td>\n",
              "      <td>0.0</td>\n",
              "      <td>0.0</td>\n",
              "      <td>1.0</td>\n",
              "    </tr>\n",
              "    <tr>\n",
              "      <th>SFH</th>\n",
              "      <td>11055.0</td>\n",
              "      <td>-0.595749</td>\n",
              "      <td>0.759143</td>\n",
              "      <td>-1.0</td>\n",
              "      <td>-1.0</td>\n",
              "      <td>-1.0</td>\n",
              "      <td>-1.0</td>\n",
              "      <td>1.0</td>\n",
              "    </tr>\n",
              "    <tr>\n",
              "      <th>Submitting_to_email</th>\n",
              "      <td>11055.0</td>\n",
              "      <td>0.635640</td>\n",
              "      <td>0.772021</td>\n",
              "      <td>-1.0</td>\n",
              "      <td>1.0</td>\n",
              "      <td>1.0</td>\n",
              "      <td>1.0</td>\n",
              "      <td>1.0</td>\n",
              "    </tr>\n",
              "    <tr>\n",
              "      <th>Abnormal_URL</th>\n",
              "      <td>11055.0</td>\n",
              "      <td>0.705292</td>\n",
              "      <td>0.708949</td>\n",
              "      <td>-1.0</td>\n",
              "      <td>1.0</td>\n",
              "      <td>1.0</td>\n",
              "      <td>1.0</td>\n",
              "      <td>1.0</td>\n",
              "    </tr>\n",
              "    <tr>\n",
              "      <th>Redirect</th>\n",
              "      <td>11055.0</td>\n",
              "      <td>0.115694</td>\n",
              "      <td>0.319872</td>\n",
              "      <td>0.0</td>\n",
              "      <td>0.0</td>\n",
              "      <td>0.0</td>\n",
              "      <td>0.0</td>\n",
              "      <td>1.0</td>\n",
              "    </tr>\n",
              "    <tr>\n",
              "      <th>on_mouseover</th>\n",
              "      <td>11055.0</td>\n",
              "      <td>0.762099</td>\n",
              "      <td>0.647490</td>\n",
              "      <td>-1.0</td>\n",
              "      <td>1.0</td>\n",
              "      <td>1.0</td>\n",
              "      <td>1.0</td>\n",
              "      <td>1.0</td>\n",
              "    </tr>\n",
              "    <tr>\n",
              "      <th>RightClick</th>\n",
              "      <td>11055.0</td>\n",
              "      <td>0.913885</td>\n",
              "      <td>0.405991</td>\n",
              "      <td>-1.0</td>\n",
              "      <td>1.0</td>\n",
              "      <td>1.0</td>\n",
              "      <td>1.0</td>\n",
              "      <td>1.0</td>\n",
              "    </tr>\n",
              "    <tr>\n",
              "      <th>popUpWidnow</th>\n",
              "      <td>11055.0</td>\n",
              "      <td>0.613388</td>\n",
              "      <td>0.789818</td>\n",
              "      <td>-1.0</td>\n",
              "      <td>1.0</td>\n",
              "      <td>1.0</td>\n",
              "      <td>1.0</td>\n",
              "      <td>1.0</td>\n",
              "    </tr>\n",
              "    <tr>\n",
              "      <th>Iframe</th>\n",
              "      <td>11055.0</td>\n",
              "      <td>0.816915</td>\n",
              "      <td>0.576784</td>\n",
              "      <td>-1.0</td>\n",
              "      <td>1.0</td>\n",
              "      <td>1.0</td>\n",
              "      <td>1.0</td>\n",
              "      <td>1.0</td>\n",
              "    </tr>\n",
              "    <tr>\n",
              "      <th>age_of_domain</th>\n",
              "      <td>11055.0</td>\n",
              "      <td>0.061239</td>\n",
              "      <td>0.998168</td>\n",
              "      <td>-1.0</td>\n",
              "      <td>-1.0</td>\n",
              "      <td>1.0</td>\n",
              "      <td>1.0</td>\n",
              "      <td>1.0</td>\n",
              "    </tr>\n",
              "    <tr>\n",
              "      <th>DNSRecord</th>\n",
              "      <td>11055.0</td>\n",
              "      <td>0.377114</td>\n",
              "      <td>0.926209</td>\n",
              "      <td>-1.0</td>\n",
              "      <td>-1.0</td>\n",
              "      <td>1.0</td>\n",
              "      <td>1.0</td>\n",
              "      <td>1.0</td>\n",
              "    </tr>\n",
              "    <tr>\n",
              "      <th>web_traffic</th>\n",
              "      <td>11055.0</td>\n",
              "      <td>0.287291</td>\n",
              "      <td>0.827733</td>\n",
              "      <td>-1.0</td>\n",
              "      <td>0.0</td>\n",
              "      <td>1.0</td>\n",
              "      <td>1.0</td>\n",
              "      <td>1.0</td>\n",
              "    </tr>\n",
              "    <tr>\n",
              "      <th>Page_Rank</th>\n",
              "      <td>11055.0</td>\n",
              "      <td>-0.483673</td>\n",
              "      <td>0.875289</td>\n",
              "      <td>-1.0</td>\n",
              "      <td>-1.0</td>\n",
              "      <td>-1.0</td>\n",
              "      <td>1.0</td>\n",
              "      <td>1.0</td>\n",
              "    </tr>\n",
              "    <tr>\n",
              "      <th>Google_Index</th>\n",
              "      <td>11055.0</td>\n",
              "      <td>0.721574</td>\n",
              "      <td>0.692369</td>\n",
              "      <td>-1.0</td>\n",
              "      <td>1.0</td>\n",
              "      <td>1.0</td>\n",
              "      <td>1.0</td>\n",
              "      <td>1.0</td>\n",
              "    </tr>\n",
              "    <tr>\n",
              "      <th>Links_pointing_to_page</th>\n",
              "      <td>11055.0</td>\n",
              "      <td>0.344007</td>\n",
              "      <td>0.569944</td>\n",
              "      <td>-1.0</td>\n",
              "      <td>0.0</td>\n",
              "      <td>0.0</td>\n",
              "      <td>1.0</td>\n",
              "      <td>1.0</td>\n",
              "    </tr>\n",
              "    <tr>\n",
              "      <th>Statistical_report</th>\n",
              "      <td>11055.0</td>\n",
              "      <td>0.719584</td>\n",
              "      <td>0.694437</td>\n",
              "      <td>-1.0</td>\n",
              "      <td>1.0</td>\n",
              "      <td>1.0</td>\n",
              "      <td>1.0</td>\n",
              "      <td>1.0</td>\n",
              "    </tr>\n",
              "    <tr>\n",
              "      <th>Result</th>\n",
              "      <td>11055.0</td>\n",
              "      <td>0.113885</td>\n",
              "      <td>0.993539</td>\n",
              "      <td>-1.0</td>\n",
              "      <td>-1.0</td>\n",
              "      <td>1.0</td>\n",
              "      <td>1.0</td>\n",
              "      <td>1.0</td>\n",
              "    </tr>\n",
              "  </tbody>\n",
              "</table>\n",
              "</div>"
            ],
            "text/plain": [
              "                               count      mean       std  ...  50%  75%  max\n",
              "having_IP_Address            11055.0  0.313795  0.949534  ...  1.0  1.0  1.0\n",
              "URL_Length                   11055.0 -0.633198  0.766095  ... -1.0 -1.0  1.0\n",
              "Shortining_Service           11055.0  0.738761  0.673998  ...  1.0  1.0  1.0\n",
              "having_At_Symbol             11055.0  0.700588  0.713598  ...  1.0  1.0  1.0\n",
              "double_slash_redirecting     11055.0  0.741474  0.671011  ...  1.0  1.0  1.0\n",
              "Prefix_Suffix                11055.0 -0.734962  0.678139  ... -1.0 -1.0  1.0\n",
              "having_Sub_Domain            11055.0  0.063953  0.817518  ...  0.0  1.0  1.0\n",
              "SSLfinal_State               11055.0  0.250927  0.911892  ...  1.0  1.0  1.0\n",
              "Domain_registeration_length  11055.0 -0.336771  0.941629  ... -1.0  1.0  1.0\n",
              "Favicon                      11055.0  0.628584  0.777777  ...  1.0  1.0  1.0\n",
              "port                         11055.0  0.728268  0.685324  ...  1.0  1.0  1.0\n",
              "HTTPS_token                  11055.0  0.675079  0.737779  ...  1.0  1.0  1.0\n",
              "Request_URL                  11055.0  0.186793  0.982444  ...  1.0  1.0  1.0\n",
              "URL_of_Anchor                11055.0 -0.076526  0.715138  ...  0.0  0.0  1.0\n",
              "Links_in_tags                11055.0 -0.118137  0.763973  ...  0.0  0.0  1.0\n",
              "SFH                          11055.0 -0.595749  0.759143  ... -1.0 -1.0  1.0\n",
              "Submitting_to_email          11055.0  0.635640  0.772021  ...  1.0  1.0  1.0\n",
              "Abnormal_URL                 11055.0  0.705292  0.708949  ...  1.0  1.0  1.0\n",
              "Redirect                     11055.0  0.115694  0.319872  ...  0.0  0.0  1.0\n",
              "on_mouseover                 11055.0  0.762099  0.647490  ...  1.0  1.0  1.0\n",
              "RightClick                   11055.0  0.913885  0.405991  ...  1.0  1.0  1.0\n",
              "popUpWidnow                  11055.0  0.613388  0.789818  ...  1.0  1.0  1.0\n",
              "Iframe                       11055.0  0.816915  0.576784  ...  1.0  1.0  1.0\n",
              "age_of_domain                11055.0  0.061239  0.998168  ...  1.0  1.0  1.0\n",
              "DNSRecord                    11055.0  0.377114  0.926209  ...  1.0  1.0  1.0\n",
              "web_traffic                  11055.0  0.287291  0.827733  ...  1.0  1.0  1.0\n",
              "Page_Rank                    11055.0 -0.483673  0.875289  ... -1.0  1.0  1.0\n",
              "Google_Index                 11055.0  0.721574  0.692369  ...  1.0  1.0  1.0\n",
              "Links_pointing_to_page       11055.0  0.344007  0.569944  ...  0.0  1.0  1.0\n",
              "Statistical_report           11055.0  0.719584  0.694437  ...  1.0  1.0  1.0\n",
              "Result                       11055.0  0.113885  0.993539  ...  1.0  1.0  1.0\n",
              "\n",
              "[31 rows x 8 columns]"
            ]
          },
          "metadata": {
            "tags": []
          },
          "execution_count": 129
        }
      ]
    },
    {
      "cell_type": "code",
      "metadata": {
        "id": "b8dmwluJU4oZ",
        "colab_type": "code",
        "outputId": "384a956c-81e0-44c3-ed47-78f0518411f5",
        "colab": {
          "base_uri": "https://localhost:8080/",
          "height": 34
        }
      },
      "source": [
        "#Checking the values in Results column\n",
        "df[\"Result\"].unique()"
      ],
      "execution_count": 130,
      "outputs": [
        {
          "output_type": "execute_result",
          "data": {
            "text/plain": [
              "array([-1,  1])"
            ]
          },
          "metadata": {
            "tags": []
          },
          "execution_count": 130
        }
      ]
    },
    {
      "cell_type": "code",
      "metadata": {
        "id": "bmY6HkQjfmrA",
        "colab_type": "code",
        "colab": {}
      },
      "source": [
        "x,y=0,0 #setting individual couter values to 0"
      ],
      "execution_count": 0,
      "outputs": []
    },
    {
      "cell_type": "code",
      "metadata": {
        "id": "2e_MkDFKPwvw",
        "colab_type": "code",
        "outputId": "94f34a7d-2f16-451c-e01d-9a79fcf31a1f",
        "colab": {
          "base_uri": "https://localhost:8080/",
          "height": 34
        }
      },
      "source": [
        "#grouping data according to Result labels\n",
        "cls=[(1,x),(-1,y)]\n",
        "for i in range(0,len(df)): #this loop functions as a counnter loop\n",
        "  if df['Result'].iloc[i]==1:\n",
        "    x=x+1\n",
        "  else:\n",
        "    y=y+1\n",
        "cls"
      ],
      "execution_count": 132,
      "outputs": [
        {
          "output_type": "execute_result",
          "data": {
            "text/plain": [
              "[(1, 0), (-1, 0)]"
            ]
          },
          "metadata": {
            "tags": []
          },
          "execution_count": 132
        }
      ]
    },
    {
      "cell_type": "code",
      "metadata": {
        "id": "t466twHrNzVC",
        "colab_type": "code",
        "outputId": "b03f101c-5e6b-458c-9518-c80487db1aa2",
        "colab": {
          "base_uri": "https://localhost:8080/",
          "height": 106
        }
      },
      "source": [
        "#the above code can simply be written using inbuilt function counter\n",
        "from collections import Counter\n",
        "classes=Counter(df[\"Result\"].values)\n",
        "class_dist=pd.DataFrame(classes.most_common(),columns=[\"Class\",\"Num_of_Observations\"])\n",
        "class_dist"
      ],
      "execution_count": 133,
      "outputs": [
        {
          "output_type": "execute_result",
          "data": {
            "text/html": [
              "<div>\n",
              "<style scoped>\n",
              "    .dataframe tbody tr th:only-of-type {\n",
              "        vertical-align: middle;\n",
              "    }\n",
              "\n",
              "    .dataframe tbody tr th {\n",
              "        vertical-align: top;\n",
              "    }\n",
              "\n",
              "    .dataframe thead th {\n",
              "        text-align: right;\n",
              "    }\n",
              "</style>\n",
              "<table border=\"1\" class=\"dataframe\">\n",
              "  <thead>\n",
              "    <tr style=\"text-align: right;\">\n",
              "      <th></th>\n",
              "      <th>Class</th>\n",
              "      <th>Num_of_Observations</th>\n",
              "    </tr>\n",
              "  </thead>\n",
              "  <tbody>\n",
              "    <tr>\n",
              "      <th>0</th>\n",
              "      <td>1</td>\n",
              "      <td>6157</td>\n",
              "    </tr>\n",
              "    <tr>\n",
              "      <th>1</th>\n",
              "      <td>-1</td>\n",
              "      <td>4898</td>\n",
              "    </tr>\n",
              "  </tbody>\n",
              "</table>\n",
              "</div>"
            ],
            "text/plain": [
              "   Class  Num_of_Observations\n",
              "0      1                 6157\n",
              "1     -1                 4898"
            ]
          },
          "metadata": {
            "tags": []
          },
          "execution_count": 133
        }
      ]
    },
    {
      "cell_type": "markdown",
      "metadata": {
        "id": "DUk_3efBGowa",
        "colab_type": "text"
      },
      "source": [
        "## **Basic Plots and Graphical Representation of Relations (EDA)**"
      ]
    },
    {
      "cell_type": "code",
      "metadata": {
        "id": "t2vFLwBdOu8t",
        "colab_type": "code",
        "outputId": "795f5048-c8e7-449c-eb1a-281dae2058cd",
        "colab": {
          "base_uri": "https://localhost:8080/",
          "height": 519
        }
      },
      "source": [
        "#plotting the class distribution of each class\n",
        "plt.style.use('ggplot')\n",
        "\n",
        "subplot = class_dist.groupby('Class')['Num_of_Observations'].sum().plot(kind='barh', width=0.2, figsize=(10,8))\n",
        "\n",
        "subplot.set_title('Class distribution of the websites', fontsize = 15)\n",
        "subplot.set_xlabel('Number of Observations', fontsize = 14)\n",
        "subplot.set_ylabel('Class', fontsize = 14)\n",
        "\n",
        "for i in subplot.patches:\n",
        "    subplot.text(i.get_width()+0.1, i.get_y()+0.1, \\\n",
        "            str(i.get_width()), fontsize=11)"
      ],
      "execution_count": 134,
      "outputs": [
        {
          "output_type": "display_data",
          "data": {
            "image/png": "[encoded data removed]",
            "text/plain": [
              "<Figure size 720x576 with 1 Axes>"
            ]
          },
          "metadata": {
            "tags": []
          }
        }
      ]
    },
    {
      "cell_type": "code",
      "metadata": {
        "id": "0jx1cZjRG1aT",
        "colab_type": "code",
        "outputId": "c872e1ed-6adb-42a4-a0bf-627347233de0",
        "colab": {
          "base_uri": "https://localhost:8080/",
          "height": 856
        }
      },
      "source": [
        "#heatmap of correlation between columns of data\n",
        "plt.figure(figsize=(12,12))\n",
        "sns.heatmap(df.corr(),cmap=\"coolwarm\")"
      ],
      "execution_count": 135,
      "outputs": [
        {
          "output_type": "execute_result",
          "data": {
            "text/plain": [
              "<matplotlib.axes._subplots.AxesSubplot at 0x7fe392965ef0>"
            ]
          },
          "metadata": {
            "tags": []
          },
          "execution_count": 135
        },
        {
          "output_type": "display_data",
          "data": {
            "image/png": "[encoded data removed]",
            "text/plain": [
              "<Figure size 864x864 with 2 Axes>"
            ]
          },
          "metadata": {
            "tags": []
          }
        }
      ]
    },
    {
      "cell_type": "code",
      "metadata": {
        "id": "6EE_O1cXX5ME",
        "colab_type": "code",
        "outputId": "fd4b13d4-bb42-4434-e0d4-d3eb28b044b2",
        "colab": {
          "base_uri": "https://localhost:8080/",
          "height": 747
        }
      },
      "source": [
        "#clustermapping the dataframe correlations\n",
        "sns.clustermap(df.corr(),cmap='viridis')"
      ],
      "execution_count": 136,
      "outputs": [
        {
          "output_type": "execute_result",
          "data": {
            "text/plain": [
              "<seaborn.matrix.ClusterGrid at 0x7fe393bc59b0>"
            ]
          },
          "metadata": {
            "tags": []
          },
          "execution_count": 136
        },
        {
          "output_type": "display_data",
          "data": {
            "image/png": "[encoded data removed]",
            "text/plain": [
              "<Figure size 720x720 with 4 Axes>"
            ]
          },
          "metadata": {
            "tags": []
          }
        }
      ]
    },
    {
      "cell_type": "code",
      "metadata": {
        "id": "qQmPYFJGidAx",
        "colab_type": "code",
        "outputId": "d16885ac-4917-4fc8-ad39-53835a78bd4a",
        "colab": {
          "base_uri": "https://localhost:8080/",
          "height": 417
        }
      },
      "source": [
        "#bar plot of correlation with Result label makes it easy to understand dependencies\n",
        "df.corr()[\"Result\"][:-1].sort_values().plot(kind='bar')"
      ],
      "execution_count": 137,
      "outputs": [
        {
          "output_type": "execute_result",
          "data": {
            "text/plain": [
              "<matplotlib.axes._subplots.AxesSubplot at 0x7fe39274cef0>"
            ]
          },
          "metadata": {
            "tags": []
          },
          "execution_count": 137
        },
        {
          "output_type": "display_data",
          "data": {
            "image/png": "[encoded data removed]",
            "text/plain": [
              "<Figure size 432x288 with 1 Axes>"
            ]
          },
          "metadata": {
            "tags": []
          }
        }
      ]
    },
    {
      "cell_type": "markdown",
      "metadata": {
        "id": "93WTPtFCHNGS",
        "colab_type": "text"
      },
      "source": [
        "## **Processing the Data and splitting into Training and Testing Data**"
      ]
    },
    {
      "cell_type": "markdown",
      "metadata": {
        "id": "5KokuhlzYSzi",
        "colab_type": "text"
      },
      "source": [
        "Generally Machine Learning Classifiers have trouble interpreting the -1 and 1 values used in the Result column, basically it expects 0 and 1 labels."
      ]
    },
    {
      "cell_type": "code",
      "metadata": {
        "id": "8--Wi0VFTGZU",
        "colab_type": "code",
        "outputId": "c52e88a2-c53e-4862-efbe-94b3e96d4631",
        "colab": {
          "base_uri": "https://localhost:8080/",
          "height": 34
        }
      },
      "source": [
        "#using .map function to change -1 values to 0\n",
        "df['Result'] = df['Result'].map({-1:0, 1:1})\n",
        "df['Result'].unique()"
      ],
      "execution_count": 138,
      "outputs": [
        {
          "output_type": "execute_result",
          "data": {
            "text/plain": [
              "array([0, 1])"
            ]
          },
          "metadata": {
            "tags": []
          },
          "execution_count": 138
        }
      ]
    },
    {
      "cell_type": "markdown",
      "metadata": {
        "id": "3s9PKn47YwBe",
        "colab_type": "text"
      },
      "source": [
        "Splitting the Data into Training and Test Dataframes."
      ]
    },
    {
      "cell_type": "code",
      "metadata": {
        "id": "CO4f3mUKTYy5",
        "colab_type": "code",
        "colab": {}
      },
      "source": [
        "from sklearn.model_selection import train_test_split\n",
        "X=df.drop(\"Result\",axis=1).values\n",
        "y=df[\"Result\"].values\n",
        "X_train, X_test, y_train, y_test = train_test_split(X, y, test_size=0.2, random_state=101)"
      ],
      "execution_count": 0,
      "outputs": []
    },
    {
      "cell_type": "markdown",
      "metadata": {
        "id": "soMafMsEHXRP",
        "colab_type": "text"
      },
      "source": [
        "## **Logistic Regression**"
      ]
    },
    {
      "cell_type": "markdown",
      "metadata": {
        "id": "fy3N7WlDY85T",
        "colab_type": "text"
      },
      "source": [
        "Building Logistic Regression Model."
      ]
    },
    {
      "cell_type": "code",
      "metadata": {
        "id": "9dSwNmMyUQuC",
        "colab_type": "code",
        "outputId": "f33c1bae-6ec5-4f58-fa7e-4f33f158aa8d",
        "colab": {
          "base_uri": "https://localhost:8080/",
          "height": 101
        }
      },
      "source": [
        "from sklearn.linear_model import LogisticRegression\n",
        "lm=LogisticRegression()\n",
        "lm.fit(X_train,y_train)"
      ],
      "execution_count": 140,
      "outputs": [
        {
          "output_type": "execute_result",
          "data": {
            "text/plain": [
              "LogisticRegression(C=1.0, class_weight=None, dual=False, fit_intercept=True,\n",
              "                   intercept_scaling=1, l1_ratio=None, max_iter=100,\n",
              "                   multi_class='auto', n_jobs=None, penalty='l2',\n",
              "                   random_state=None, solver='lbfgs', tol=0.0001, verbose=0,\n",
              "                   warm_start=False)"
            ]
          },
          "metadata": {
            "tags": []
          },
          "execution_count": 140
        }
      ]
    },
    {
      "cell_type": "markdown",
      "metadata": {
        "id": "m83bLMjaZCQD",
        "colab_type": "text"
      },
      "source": [
        "Predicting and evaluating using Logistic Regression Model."
      ]
    },
    {
      "cell_type": "code",
      "metadata": {
        "id": "gwcwddpjUbJw",
        "colab_type": "code",
        "outputId": "8a296ec5-8442-402e-c08a-5e77f403e6d9",
        "colab": {
          "base_uri": "https://localhost:8080/",
          "height": 319
        }
      },
      "source": [
        "from sklearn.metrics import confusion_matrix,classification_report,f1_score,accuracy_score\n",
        "print('Accuracy score of the Logistic Regression classifier with default hyperparameter values {0:.2f}%'.format(accuracy_score(y_test, lm.predict(X_test))*100.))\n",
        "print('F1 score of the Logistic Regression classifier with default hyperparameter values {0:.2f}%'.format(f1_score(y_test, lm.predict(X_test))*100.))\n",
        "print('\\n')\n",
        "print('----Classification report of the Logistic Regression classifier with default hyperparameter value----')\n",
        "print('\\n')\n",
        "print(classification_report(y_test, lm.predict(X_test), target_names=['Phishing Websites', 'Normal Websites']))\n",
        "print(confusion_matrix(y_test, lm.predict(X_test)))"
      ],
      "execution_count": 185,
      "outputs": [
        {
          "output_type": "stream",
          "text": [
            "Accuracy score of the Logistic Regression classifier with default hyperparameter values 92.22%\n",
            "F1 score of the Logistic Regression classifier with default hyperparameter values 93.10%\n",
            "\n",
            "\n",
            "----Classification report of the Logistic Regression classifier with default hyperparameter value----\n",
            "\n",
            "\n",
            "                   precision    recall  f1-score   support\n",
            "\n",
            "Phishing Websites       0.92      0.91      0.91       971\n",
            "  Normal Websites       0.93      0.94      0.93      1240\n",
            "\n",
            "         accuracy                           0.92      2211\n",
            "        macro avg       0.92      0.92      0.92      2211\n",
            "     weighted avg       0.92      0.92      0.92      2211\n",
            "\n",
            "[[ 879   92]\n",
            " [  80 1160]]\n"
          ],
          "name": "stdout"
        }
      ]
    },
    {
      "cell_type": "markdown",
      "metadata": {
        "id": "yyj-QkkDZN5_",
        "colab_type": "text"
      },
      "source": [
        "Adjusting the Model parameters to increase accuracy and provide better predictions."
      ]
    },
    {
      "cell_type": "code",
      "metadata": {
        "id": "ZFgswoEFmNgI",
        "colab_type": "code",
        "colab": {}
      },
      "source": [
        "from sklearn.model_selection import RandomizedSearchCV\n",
        "# Define the grid of values\n",
        "penalty = ['l1','l2']\n",
        "C = [0.5,0.6,0.7,0.8, 0.9, 1.0]\n",
        "tol = [0.01, 0.001 ,0.0001,0.000001]\n",
        "max_iter = [100, 150, 200, 250,300]\n",
        "\n",
        "# Create a dictionary where tol and max_iter are keys and the lists of their values are the corresponding values\n",
        "param_grid = dict(penalty=penalty, C=C, tol=tol, max_iter=max_iter)\n"
      ],
      "execution_count": 0,
      "outputs": []
    },
    {
      "cell_type": "markdown",
      "metadata": {
        "id": "mroGwTBRZXYA",
        "colab_type": "text"
      },
      "source": [
        "Predicting using optimized parameters."
      ]
    },
    {
      "cell_type": "code",
      "metadata": {
        "id": "4074-n0M3Qur",
        "colab_type": "code",
        "outputId": "983e592f-22a4-4f5a-8fed-88f708eaaf73",
        "colab": {
          "base_uri": "https://localhost:8080/",
          "height": 34
        }
      },
      "source": [
        "random_model = RandomizedSearchCV(estimator=lm, param_distributions=param_grid, cv=5)\n",
        "\n",
        "# Fit random_model to the data\n",
        "random_model_result = random_model.fit(X_train, y_train)\n",
        "\n",
        "# Summarize results\n",
        "best_score, best_params = random_model_result.best_score_, random_model_result.best_params_\n",
        "print(\"Best score: %.2f using %s\" % (best_score*100., best_params))"
      ],
      "execution_count": 187,
      "outputs": [
        {
          "output_type": "stream",
          "text": [
            "Best score: 92.91 using {'tol': 0.0001, 'penalty': 'l2', 'max_iter': 150, 'C': 0.7}\n"
          ],
          "name": "stdout"
        }
      ]
    },
    {
      "cell_type": "code",
      "metadata": {
        "id": "4ypJO3n6WJ-0",
        "colab_type": "code",
        "colab": {}
      },
      "source": [
        "opt_pred=random_model.predict(X_test)"
      ],
      "execution_count": 0,
      "outputs": []
    },
    {
      "cell_type": "markdown",
      "metadata": {
        "id": "vVd6tsqsY6zR",
        "colab_type": "text"
      },
      "source": [
        "We se values extremely similar to our orignal Logistic Regression model which suggests that the parameter tuning did not help the model.\n"
      ]
    },
    {
      "cell_type": "code",
      "metadata": {
        "id": "AIbFgVDvYBf8",
        "colab_type": "code",
        "colab": {
          "base_uri": "https://localhost:8080/",
          "height": 202
        },
        "outputId": "b394452c-901b-4b68-8e90-db9631dc7628"
      },
      "source": [
        "print(confusion_matrix(y_test,opt_pred))\n",
        "print(classification_report(y_test,opt_pred))"
      ],
      "execution_count": 189,
      "outputs": [
        {
          "output_type": "stream",
          "text": [
            "[[ 879   92]\n",
            " [  80 1160]]\n",
            "              precision    recall  f1-score   support\n",
            "\n",
            "           0       0.92      0.91      0.91       971\n",
            "           1       0.93      0.94      0.93      1240\n",
            "\n",
            "    accuracy                           0.92      2211\n",
            "   macro avg       0.92      0.92      0.92      2211\n",
            "weighted avg       0.92      0.92      0.92      2211\n",
            "\n"
          ],
          "name": "stdout"
        }
      ]
    },
    {
      "cell_type": "markdown",
      "metadata": {
        "id": "ggi2INUZHjf5",
        "colab_type": "text"
      },
      "source": [
        "## **K-Nearest Neighbours**"
      ]
    },
    {
      "cell_type": "markdown",
      "metadata": {
        "id": "EWAl9p-pZ6Z4",
        "colab_type": "text"
      },
      "source": [
        "Implementing K-Nearest Neighbour Algorithm."
      ]
    },
    {
      "cell_type": "code",
      "metadata": {
        "id": "fgTWCa9OlMiQ",
        "colab_type": "code",
        "outputId": "4d6a86c2-0ada-4920-fe50-d2f89eb465d5",
        "colab": {
          "base_uri": "https://localhost:8080/",
          "height": 286
        }
      },
      "source": [
        "from sklearn.neighbors import KNeighborsClassifier\n",
        "knn = KNeighborsClassifier(n_neighbors=30)\n",
        "\n",
        "knn.fit(X_train,y_train)\n",
        "pred = knn.predict(X_test)\n",
        "\n",
        "print('WITH K=30')\n",
        "print('\\n')\n",
        "print(confusion_matrix(y_test,pred))\n",
        "print('\\n')\n",
        "print(classification_report(y_test,pred))"
      ],
      "execution_count": 208,
      "outputs": [
        {
          "output_type": "stream",
          "text": [
            "WITH K=30\n",
            "\n",
            "\n",
            "[[ 881   90]\n",
            " [  99 1141]]\n",
            "\n",
            "\n",
            "              precision    recall  f1-score   support\n",
            "\n",
            "           0       0.90      0.91      0.90       971\n",
            "           1       0.93      0.92      0.92      1240\n",
            "\n",
            "    accuracy                           0.91      2211\n",
            "   macro avg       0.91      0.91      0.91      2211\n",
            "weighted avg       0.91      0.91      0.91      2211\n",
            "\n"
          ],
          "name": "stdout"
        }
      ]
    },
    {
      "cell_type": "markdown",
      "metadata": {
        "id": "fRoqtYDzaBeU",
        "colab_type": "text"
      },
      "source": [
        "Using Elbow Method to get optimal value of K."
      ]
    },
    {
      "cell_type": "code",
      "metadata": {
        "id": "FanZSygXb8Kb",
        "colab_type": "code",
        "outputId": "cc8590b2-0228-4e23-d343-a83f71382a13",
        "colab": {
          "base_uri": "https://localhost:8080/",
          "height": 34
        }
      },
      "source": [
        "error_rate = []\n",
        "# Will take some time\n",
        "for i in range(1,40):\n",
        "    \n",
        "    knn = KNeighborsClassifier(n_neighbors=i)\n",
        "    knn.fit(X_train,y_train)\n",
        "    pred_i = knn.predict(X_test)\n",
        "    error_rate.append(np.mean(pred_i != y_test))\n",
        "min(error_rate)"
      ],
      "execution_count": 204,
      "outputs": [
        {
          "output_type": "execute_result",
          "data": {
            "text/plain": [
              "0.048846675712347354"
            ]
          },
          "metadata": {
            "tags": []
          },
          "execution_count": 204
        }
      ]
    },
    {
      "cell_type": "markdown",
      "metadata": {
        "id": "xIHi8X1oaOgx",
        "colab_type": "text"
      },
      "source": [
        "Here we notice no elbows are formed and the error rate keeps rising in a staggered but continuous fashion with lowest value at k=1."
      ]
    },
    {
      "cell_type": "code",
      "metadata": {
        "id": "SfPUQiQTkjBS",
        "colab_type": "code",
        "outputId": "45419758-3497-4d2a-e4c8-0992609b034e",
        "colab": {
          "base_uri": "https://localhost:8080/",
          "height": 425
        }
      },
      "source": [
        "plt.figure(figsize=(10,6))\n",
        "plt.plot(range(1,40),error_rate,color='blue', linestyle='dashed', marker='o',\n",
        "         markerfacecolor='red', markersize=10)\n",
        "plt.title('Error Rate vs. K Value')\n",
        "plt.xlabel('K')\n",
        "plt.ylabel('Error Rate')"
      ],
      "execution_count": 205,
      "outputs": [
        {
          "output_type": "execute_result",
          "data": {
            "text/plain": [
              "Text(0, 0.5, 'Error Rate')"
            ]
          },
          "metadata": {
            "tags": []
          },
          "execution_count": 205
        },
        {
          "output_type": "display_data",
          "data": {
            "image/png": "[encoded data removed]",
            "text/plain": [
              "<Figure size 720x432 with 1 Axes>"
            ]
          },
          "metadata": {
            "tags": []
          }
        }
      ]
    },
    {
      "cell_type": "markdown",
      "metadata": {
        "id": "uX3vULcKamuN",
        "colab_type": "text"
      },
      "source": [
        "Hence we choose K=1 as our optimal value for final model."
      ]
    },
    {
      "cell_type": "code",
      "metadata": {
        "id": "4d6oFJmIktso",
        "colab_type": "code",
        "outputId": "2508806a-b968-4b40-a9ad-ca7b31b45992",
        "colab": {
          "base_uri": "https://localhost:8080/",
          "height": 286
        }
      },
      "source": [
        "opt_knn = KNeighborsClassifier(n_neighbors=1)\n",
        "\n",
        "opt_knn.fit(X_train,y_train)\n",
        "pred = knn.predict(X_test)\n",
        "\n",
        "print('WITH K=1')\n",
        "print('\\n')\n",
        "print(confusion_matrix(y_test,pred))\n",
        "print('\\n')\n",
        "print(classification_report(y_test,pred))"
      ],
      "execution_count": 203,
      "outputs": [
        {
          "output_type": "stream",
          "text": [
            "WITH K=1\n",
            "\n",
            "\n",
            "[[ 897   74]\n",
            " [  89 1151]]\n",
            "\n",
            "\n",
            "              precision    recall  f1-score   support\n",
            "\n",
            "           0       0.91      0.92      0.92       971\n",
            "           1       0.94      0.93      0.93      1240\n",
            "\n",
            "    accuracy                           0.93      2211\n",
            "   macro avg       0.92      0.93      0.93      2211\n",
            "weighted avg       0.93      0.93      0.93      2211\n",
            "\n"
          ],
          "name": "stdout"
        }
      ]
    },
    {
      "cell_type": "markdown",
      "metadata": {
        "id": "I-DBigX9Hpw1",
        "colab_type": "text"
      },
      "source": [
        "## **Decision Tree and Random Forest Classifier**"
      ]
    },
    {
      "cell_type": "markdown",
      "metadata": {
        "id": "d5c5GvYNauz2",
        "colab_type": "text"
      },
      "source": [
        "Implementing a Decision Tree."
      ]
    },
    {
      "cell_type": "code",
      "metadata": {
        "id": "c0JlVsZBvDp8",
        "colab_type": "code",
        "colab": {}
      },
      "source": [
        "from sklearn.tree import DecisionTreeClassifier\n",
        "dtree = DecisionTreeClassifier()\n",
        "dtree.fit(X_train,y_train)\n",
        "predictions = dtree.predict(X_test)"
      ],
      "execution_count": 0,
      "outputs": []
    },
    {
      "cell_type": "code",
      "metadata": {
        "id": "qBZrzT67cGZY",
        "colab_type": "code",
        "colab": {
          "base_uri": "https://localhost:8080/",
          "height": 168
        },
        "outputId": "2db64a9d-4fcb-46d8-9ed9-ced5571fa80b"
      },
      "source": [
        "print(classification_report(y_test,predictions))"
      ],
      "execution_count": 211,
      "outputs": [
        {
          "output_type": "stream",
          "text": [
            "              precision    recall  f1-score   support\n",
            "\n",
            "           0       0.93      0.92      0.93       971\n",
            "           1       0.94      0.95      0.94      1240\n",
            "\n",
            "    accuracy                           0.94      2211\n",
            "   macro avg       0.94      0.93      0.94      2211\n",
            "weighted avg       0.94      0.94      0.94      2211\n",
            "\n"
          ],
          "name": "stdout"
        }
      ]
    },
    {
      "cell_type": "code",
      "metadata": {
        "id": "ionWjCevvZIx",
        "colab_type": "code",
        "outputId": "2887b224-e991-4f1b-ce60-b3524b38d4c7",
        "colab": {
          "base_uri": "https://localhost:8080/",
          "height": 50
        }
      },
      "source": [
        "print(confusion_matrix(y_test,predictions))"
      ],
      "execution_count": 212,
      "outputs": [
        {
          "output_type": "stream",
          "text": [
            "[[ 896   75]\n",
            " [  66 1174]]\n"
          ],
          "name": "stdout"
        }
      ]
    },
    {
      "cell_type": "markdown",
      "metadata": {
        "id": "p8CI83t0a4Fm",
        "colab_type": "text"
      },
      "source": [
        "A group of decision trees combined make up a Random Forest Classifier Model. Which we are going to implement in the next few block of codes."
      ]
    },
    {
      "cell_type": "code",
      "metadata": {
        "id": "nhdlqWWIvlfE",
        "colab_type": "code",
        "colab": {}
      },
      "source": [
        "from sklearn.ensemble import RandomForestClassifier\n",
        "error= []\n",
        "# Will take some time\n",
        "for i in range(550,600):\n",
        "    rfc = RandomForestClassifier(n_estimators=i)\n",
        "    rfc.fit(X_train,y_train)\n",
        "    pred_i = rfc.predict(X_test)\n",
        "    error.append(np.mean(pred_i != y_test))"
      ],
      "execution_count": 0,
      "outputs": []
    },
    {
      "cell_type": "markdown",
      "metadata": {
        "id": "vVxqPlCqbQeF",
        "colab_type": "text"
      },
      "source": [
        "We again use Elbow method to evaluate optimal value for n_estimator (which is basically the number of trees in your forest.)"
      ]
    },
    {
      "cell_type": "code",
      "metadata": {
        "id": "_kYScJJS7-Xp",
        "colab_type": "code",
        "outputId": "baa6df1d-1660-43cc-d7c9-bec6949ff4f2",
        "colab": {
          "base_uri": "https://localhost:8080/",
          "height": 34
        }
      },
      "source": [
        "error.index(min(error))"
      ],
      "execution_count": 152,
      "outputs": [
        {
          "output_type": "execute_result",
          "data": {
            "text/plain": [
              "3"
            ]
          },
          "metadata": {
            "tags": []
          },
          "execution_count": 152
        }
      ]
    },
    {
      "cell_type": "markdown",
      "metadata": {
        "id": "-u6AH-7EbfKQ",
        "colab_type": "text"
      },
      "source": [
        "We determine where the lowest error rate occurs at and use that as our value for n_estimator."
      ]
    },
    {
      "cell_type": "code",
      "metadata": {
        "id": "0QPxEbgl6nEm",
        "colab_type": "code",
        "outputId": "1267fd6f-d46e-4ac2-86b1-6f38545d5bfa",
        "colab": {
          "base_uri": "https://localhost:8080/",
          "height": 425
        }
      },
      "source": [
        "plt.figure(figsize=(10,6))\n",
        "plt.plot(range(550,600),error,color='blue', linestyle='dashed', marker='o',\n",
        "         markerfacecolor='red', markersize=10)\n",
        "plt.title('Error Rate vs. N Value')\n",
        "plt.xlabel('N')\n",
        "plt.ylabel('Error Rate')"
      ],
      "execution_count": 153,
      "outputs": [
        {
          "output_type": "execute_result",
          "data": {
            "text/plain": [
              "Text(0, 0.5, 'Error Rate')"
            ]
          },
          "metadata": {
            "tags": []
          },
          "execution_count": 153
        },
        {
          "output_type": "display_data",
          "data": {
            "image/png": "[encoded data removed]",
            "text/plain": [
              "<Figure size 720x432 with 1 Axes>"
            ]
          },
          "metadata": {
            "tags": []
          }
        }
      ]
    },
    {
      "cell_type": "code",
      "metadata": {
        "id": "0LgiDHDqvlSB",
        "colab_type": "code",
        "colab": {}
      },
      "source": [
        "rfc = RandomForestClassifier(n_estimators=571)\n",
        "rfc.fit(X_train,y_train)\n",
        "predictions = rfc.predict(X_test)"
      ],
      "execution_count": 0,
      "outputs": []
    },
    {
      "cell_type": "code",
      "metadata": {
        "id": "9Hp146hYvt5-",
        "colab_type": "code",
        "outputId": "d4d2b84f-d31f-4611-8280-7ff33b73c96e",
        "colab": {
          "base_uri": "https://localhost:8080/",
          "height": 168
        }
      },
      "source": [
        "print(classification_report(y_test,predictions))"
      ],
      "execution_count": 155,
      "outputs": [
        {
          "output_type": "stream",
          "text": [
            "              precision    recall  f1-score   support\n",
            "\n",
            "           0       0.97      0.96      0.96       971\n",
            "           1       0.97      0.97      0.97      1240\n",
            "\n",
            "    accuracy                           0.97      2211\n",
            "   macro avg       0.97      0.97      0.97      2211\n",
            "weighted avg       0.97      0.97      0.97      2211\n",
            "\n"
          ],
          "name": "stdout"
        }
      ]
    },
    {
      "cell_type": "code",
      "metadata": {
        "id": "sYleGegmvyQo",
        "colab_type": "code",
        "outputId": "b801f4f3-f11d-47ec-83cd-718a9a849d72",
        "colab": {
          "base_uri": "https://localhost:8080/",
          "height": 50
        }
      },
      "source": [
        "print(confusion_matrix(y_test,predictions))"
      ],
      "execution_count": 0,
      "outputs": [
        {
          "output_type": "stream",
          "text": [
            "[[ 930   41]\n",
            " [  32 1208]]\n"
          ],
          "name": "stdout"
        }
      ]
    },
    {
      "cell_type": "markdown",
      "metadata": {
        "id": "_oNXk2yXHxdW",
        "colab_type": "text"
      },
      "source": [
        "## **Support Vector Machines**"
      ]
    },
    {
      "cell_type": "markdown",
      "metadata": {
        "id": "7GtRPGQYbu1A",
        "colab_type": "text"
      },
      "source": [
        "We will be implementing Support Vector Classifier in the following section."
      ]
    },
    {
      "cell_type": "code",
      "metadata": {
        "id": "54a-dtznv1AH",
        "colab_type": "code",
        "outputId": "2e1b3959-de24-41a7-b27c-af5163e8d90b",
        "colab": {
          "base_uri": "https://localhost:8080/",
          "height": 84
        }
      },
      "source": [
        "from sklearn.svm import SVC\n",
        "svc=SVC()\n",
        "svc.fit(X_train,y_train)"
      ],
      "execution_count": 157,
      "outputs": [
        {
          "output_type": "execute_result",
          "data": {
            "text/plain": [
              "SVC(C=1.0, break_ties=False, cache_size=200, class_weight=None, coef0=0.0,\n",
              "    decision_function_shape='ovr', degree=3, gamma='scale', kernel='rbf',\n",
              "    max_iter=-1, probability=False, random_state=None, shrinking=True,\n",
              "    tol=0.001, verbose=False)"
            ]
          },
          "metadata": {
            "tags": []
          },
          "execution_count": 157
        }
      ]
    },
    {
      "cell_type": "code",
      "metadata": {
        "id": "Y6TjK0Bs8qDj",
        "colab_type": "code",
        "colab": {}
      },
      "source": [
        "predictions = svc.predict(X_test)"
      ],
      "execution_count": 0,
      "outputs": []
    },
    {
      "cell_type": "code",
      "metadata": {
        "id": "LCGKnvUt-E0s",
        "colab_type": "code",
        "outputId": "2bb2a82a-a968-4cbd-bf84-6b05efa5defd",
        "colab": {
          "base_uri": "https://localhost:8080/",
          "height": 50
        }
      },
      "source": [
        "print(confusion_matrix(y_test,predictions))"
      ],
      "execution_count": 159,
      "outputs": [
        {
          "output_type": "stream",
          "text": [
            "[[ 893   78]\n",
            " [  51 1189]]\n"
          ],
          "name": "stdout"
        }
      ]
    },
    {
      "cell_type": "code",
      "metadata": {
        "id": "QBpphPcV-Hth",
        "colab_type": "code",
        "outputId": "9dbc114b-1f6e-4970-ae4c-862b30c9d71d",
        "colab": {
          "base_uri": "https://localhost:8080/",
          "height": 168
        }
      },
      "source": [
        "print(classification_report(y_test,predictions))"
      ],
      "execution_count": 160,
      "outputs": [
        {
          "output_type": "stream",
          "text": [
            "              precision    recall  f1-score   support\n",
            "\n",
            "           0       0.95      0.92      0.93       971\n",
            "           1       0.94      0.96      0.95      1240\n",
            "\n",
            "    accuracy                           0.94      2211\n",
            "   macro avg       0.94      0.94      0.94      2211\n",
            "weighted avg       0.94      0.94      0.94      2211\n",
            "\n"
          ],
          "name": "stdout"
        }
      ]
    },
    {
      "cell_type": "markdown",
      "metadata": {
        "id": "s2obXGzrb-rj",
        "colab_type": "text"
      },
      "source": [
        "We Notice that the SVC gives an accuracy of ~94%, which is pretty good, but can we fine tune the parameters to get more out of the model."
      ]
    },
    {
      "cell_type": "code",
      "metadata": {
        "id": "JBb3jdnp_NlW",
        "colab_type": "code",
        "outputId": "07d902e0-0cbb-4c95-fd2f-ff21f50a34a8",
        "colab": {
          "base_uri": "https://localhost:8080/",
          "height": 1000
        }
      },
      "source": [
        "from sklearn.model_selection import GridSearchCV\n",
        "param_grid={'C':[0.1,1,10,100,1000],'gamma':[1,0.1,0.01,0.001,0.0001]}\n",
        "grid=GridSearchCV(SVC(),param_grid,verbose=3)\n",
        "grid.fit(X_train,y_train)"
      ],
      "execution_count": 161,
      "outputs": [
        {
          "output_type": "stream",
          "text": [
            "Fitting 5 folds for each of 25 candidates, totalling 125 fits\n",
            "[CV] C=0.1, gamma=1 ..................................................\n"
          ],
          "name": "stdout"
        },
        {
          "output_type": "stream",
          "text": [
            "[Parallel(n_jobs=1)]: Using backend SequentialBackend with 1 concurrent workers.\n"
          ],
          "name": "stderr"
        },
        {
          "output_type": "stream",
          "text": [
            "[CV] ...................... C=0.1, gamma=1, score=0.572, total=   5.0s\n",
            "[CV] C=0.1, gamma=1 ..................................................\n"
          ],
          "name": "stdout"
        },
        {
          "output_type": "stream",
          "text": [
            "[Parallel(n_jobs=1)]: Done   1 out of   1 | elapsed:    5.0s remaining:    0.0s\n"
          ],
          "name": "stderr"
        },
        {
          "output_type": "stream",
          "text": [
            "[CV] ...................... C=0.1, gamma=1, score=0.579, total=   4.7s\n",
            "[CV] C=0.1, gamma=1 ..................................................\n"
          ],
          "name": "stdout"
        },
        {
          "output_type": "stream",
          "text": [
            "[Parallel(n_jobs=1)]: Done   2 out of   2 | elapsed:    9.7s remaining:    0.0s\n"
          ],
          "name": "stderr"
        },
        {
          "output_type": "stream",
          "text": [
            "[CV] ...................... C=0.1, gamma=1, score=0.579, total=   4.7s\n",
            "[CV] C=0.1, gamma=1 ..................................................\n",
            "[CV] ...................... C=0.1, gamma=1, score=0.584, total=   4.7s\n",
            "[CV] C=0.1, gamma=1 ..................................................\n",
            "[CV] ...................... C=0.1, gamma=1, score=0.581, total=   4.7s\n",
            "[CV] C=0.1, gamma=0.1 ................................................\n",
            "[CV] .................... C=0.1, gamma=0.1, score=0.934, total=   1.9s\n",
            "[CV] C=0.1, gamma=0.1 ................................................\n",
            "[CV] .................... C=0.1, gamma=0.1, score=0.937, total=   1.9s\n",
            "[CV] C=0.1, gamma=0.1 ................................................\n",
            "[CV] .................... C=0.1, gamma=0.1, score=0.938, total=   2.0s\n",
            "[CV] C=0.1, gamma=0.1 ................................................\n",
            "[CV] .................... C=0.1, gamma=0.1, score=0.933, total=   2.1s\n",
            "[CV] C=0.1, gamma=0.1 ................................................\n",
            "[CV] .................... C=0.1, gamma=0.1, score=0.941, total=   2.0s\n",
            "[CV] C=0.1, gamma=0.01 ...............................................\n",
            "[CV] ................... C=0.1, gamma=0.01, score=0.919, total=   1.8s\n",
            "[CV] C=0.1, gamma=0.01 ...............................................\n",
            "[CV] ................... C=0.1, gamma=0.01, score=0.920, total=   1.7s\n",
            "[CV] C=0.1, gamma=0.01 ...............................................\n",
            "[CV] ................... C=0.1, gamma=0.01, score=0.925, total=   1.8s\n",
            "[CV] C=0.1, gamma=0.01 ...............................................\n",
            "[CV] ................... C=0.1, gamma=0.01, score=0.920, total=   1.7s\n",
            "[CV] C=0.1, gamma=0.01 ...............................................\n",
            "[CV] ................... C=0.1, gamma=0.01, score=0.924, total=   1.8s\n",
            "[CV] C=0.1, gamma=0.001 ..............................................\n",
            "[CV] .................. C=0.1, gamma=0.001, score=0.903, total=   3.4s\n",
            "[CV] C=0.1, gamma=0.001 ..............................................\n",
            "[CV] .................. C=0.1, gamma=0.001, score=0.900, total=   3.4s\n",
            "[CV] C=0.1, gamma=0.001 ..............................................\n",
            "[CV] .................. C=0.1, gamma=0.001, score=0.908, total=   3.4s\n",
            "[CV] C=0.1, gamma=0.001 ..............................................\n",
            "[CV] .................. C=0.1, gamma=0.001, score=0.912, total=   3.4s\n",
            "[CV] C=0.1, gamma=0.001 ..............................................\n",
            "[CV] .................. C=0.1, gamma=0.001, score=0.911, total=   3.4s\n",
            "[CV] C=0.1, gamma=0.0001 .............................................\n",
            "[CV] ................. C=0.1, gamma=0.0001, score=0.556, total=   4.7s\n",
            "[CV] C=0.1, gamma=0.0001 .............................................\n",
            "[CV] ................. C=0.1, gamma=0.0001, score=0.556, total=   4.7s\n",
            "[CV] C=0.1, gamma=0.0001 .............................................\n",
            "[CV] ................. C=0.1, gamma=0.0001, score=0.556, total=   4.7s\n",
            "[CV] C=0.1, gamma=0.0001 .............................................\n",
            "[CV] ................. C=0.1, gamma=0.0001, score=0.556, total=   4.7s\n",
            "[CV] C=0.1, gamma=0.0001 .............................................\n",
            "[CV] ................. C=0.1, gamma=0.0001, score=0.556, total=   4.7s\n",
            "[CV] C=1, gamma=1 ....................................................\n",
            "[CV] ........................ C=1, gamma=1, score=0.865, total=   3.6s\n",
            "[CV] C=1, gamma=1 ....................................................\n",
            "[CV] ........................ C=1, gamma=1, score=0.882, total=   3.6s\n",
            "[CV] C=1, gamma=1 ....................................................\n",
            "[CV] ........................ C=1, gamma=1, score=0.883, total=   3.6s\n",
            "[CV] C=1, gamma=1 ....................................................\n",
            "[CV] ........................ C=1, gamma=1, score=0.881, total=   3.6s\n",
            "[CV] C=1, gamma=1 ....................................................\n",
            "[CV] ........................ C=1, gamma=1, score=0.893, total=   3.6s\n",
            "[CV] C=1, gamma=0.1 ..................................................\n",
            "[CV] ...................... C=1, gamma=0.1, score=0.955, total=   1.3s\n",
            "[CV] C=1, gamma=0.1 ..................................................\n",
            "[CV] ...................... C=1, gamma=0.1, score=0.956, total=   1.3s\n",
            "[CV] C=1, gamma=0.1 ..................................................\n",
            "[CV] ...................... C=1, gamma=0.1, score=0.955, total=   1.3s\n",
            "[CV] C=1, gamma=0.1 ..................................................\n",
            "[CV] ...................... C=1, gamma=0.1, score=0.955, total=   1.4s\n",
            "[CV] C=1, gamma=0.1 ..................................................\n",
            "[CV] ...................... C=1, gamma=0.1, score=0.966, total=   1.3s\n",
            "[CV] C=1, gamma=0.01 .................................................\n",
            "[CV] ..................... C=1, gamma=0.01, score=0.927, total=   1.0s\n",
            "[CV] C=1, gamma=0.01 .................................................\n",
            "[CV] ..................... C=1, gamma=0.01, score=0.927, total=   1.0s\n",
            "[CV] C=1, gamma=0.01 .................................................\n",
            "[CV] ..................... C=1, gamma=0.01, score=0.934, total=   1.0s\n",
            "[CV] C=1, gamma=0.01 .................................................\n",
            "[CV] ..................... C=1, gamma=0.01, score=0.930, total=   1.0s\n",
            "[CV] C=1, gamma=0.01 .................................................\n",
            "[CV] ..................... C=1, gamma=0.01, score=0.941, total=   1.0s\n",
            "[CV] C=1, gamma=0.001 ................................................\n",
            "[CV] .................... C=1, gamma=0.001, score=0.917, total=   1.6s\n",
            "[CV] C=1, gamma=0.001 ................................................\n",
            "[CV] .................... C=1, gamma=0.001, score=0.919, total=   1.7s\n",
            "[CV] C=1, gamma=0.001 ................................................\n",
            "[CV] .................... C=1, gamma=0.001, score=0.923, total=   1.6s\n",
            "[CV] C=1, gamma=0.001 ................................................\n",
            "[CV] .................... C=1, gamma=0.001, score=0.920, total=   1.6s\n",
            "[CV] C=1, gamma=0.001 ................................................\n",
            "[CV] .................... C=1, gamma=0.001, score=0.922, total=   1.6s\n",
            "[CV] C=1, gamma=0.0001 ...............................................\n",
            "[CV] ................... C=1, gamma=0.0001, score=0.902, total=   3.3s\n",
            "[CV] C=1, gamma=0.0001 ...............................................\n",
            "[CV] ................... C=1, gamma=0.0001, score=0.901, total=   3.4s\n",
            "[CV] C=1, gamma=0.0001 ...............................................\n",
            "[CV] ................... C=1, gamma=0.0001, score=0.909, total=   3.3s\n",
            "[CV] C=1, gamma=0.0001 ...............................................\n",
            "[CV] ................... C=1, gamma=0.0001, score=0.912, total=   3.3s\n",
            "[CV] C=1, gamma=0.0001 ...............................................\n",
            "[CV] ................... C=1, gamma=0.0001, score=0.910, total=   3.4s\n",
            "[CV] C=10, gamma=1 ...................................................\n",
            "[CV] ....................... C=10, gamma=1, score=0.867, total=   3.2s\n",
            "[CV] C=10, gamma=1 ...................................................\n",
            "[CV] ....................... C=10, gamma=1, score=0.884, total=   3.2s\n",
            "[CV] C=10, gamma=1 ...................................................\n",
            "[CV] ....................... C=10, gamma=1, score=0.882, total=   3.1s\n",
            "[CV] C=10, gamma=1 ...................................................\n",
            "[CV] ....................... C=10, gamma=1, score=0.886, total=   3.2s\n",
            "[CV] C=10, gamma=1 ...................................................\n",
            "[CV] ....................... C=10, gamma=1, score=0.898, total=   3.1s\n",
            "[CV] C=10, gamma=0.1 .................................................\n",
            "[CV] ..................... C=10, gamma=0.1, score=0.963, total=   1.2s\n",
            "[CV] C=10, gamma=0.1 .................................................\n",
            "[CV] ..................... C=10, gamma=0.1, score=0.968, total=   1.3s\n",
            "[CV] C=10, gamma=0.1 .................................................\n",
            "[CV] ..................... C=10, gamma=0.1, score=0.963, total=   1.2s\n",
            "[CV] C=10, gamma=0.1 .................................................\n",
            "[CV] ..................... C=10, gamma=0.1, score=0.963, total=   1.3s\n",
            "[CV] C=10, gamma=0.1 .................................................\n",
            "[CV] ..................... C=10, gamma=0.1, score=0.975, total=   1.3s\n",
            "[CV] C=10, gamma=0.01 ................................................\n",
            "[CV] .................... C=10, gamma=0.01, score=0.943, total=   0.9s\n",
            "[CV] C=10, gamma=0.01 ................................................\n",
            "[CV] .................... C=10, gamma=0.01, score=0.943, total=   0.9s\n",
            "[CV] C=10, gamma=0.01 ................................................\n",
            "[CV] .................... C=10, gamma=0.01, score=0.945, total=   0.9s\n",
            "[CV] C=10, gamma=0.01 ................................................\n",
            "[CV] .................... C=10, gamma=0.01, score=0.940, total=   0.9s\n",
            "[CV] C=10, gamma=0.01 ................................................\n",
            "[CV] .................... C=10, gamma=0.01, score=0.951, total=   0.9s\n",
            "[CV] C=10, gamma=0.001 ...............................................\n",
            "[CV] ................... C=10, gamma=0.001, score=0.919, total=   1.0s\n",
            "[CV] C=10, gamma=0.001 ...............................................\n",
            "[CV] ................... C=10, gamma=0.001, score=0.923, total=   1.0s\n",
            "[CV] C=10, gamma=0.001 ...............................................\n",
            "[CV] ................... C=10, gamma=0.001, score=0.934, total=   1.0s\n",
            "[CV] C=10, gamma=0.001 ...............................................\n",
            "[CV] ................... C=10, gamma=0.001, score=0.928, total=   1.0s\n",
            "[CV] C=10, gamma=0.001 ...............................................\n",
            "[CV] ................... C=10, gamma=0.001, score=0.936, total=   1.0s\n",
            "[CV] C=10, gamma=0.0001 ..............................................\n",
            "[CV] .................. C=10, gamma=0.0001, score=0.916, total=   1.6s\n",
            "[CV] C=10, gamma=0.0001 ..............................................\n",
            "[CV] .................. C=10, gamma=0.0001, score=0.919, total=   1.6s\n",
            "[CV] C=10, gamma=0.0001 ..............................................\n",
            "[CV] .................. C=10, gamma=0.0001, score=0.924, total=   1.6s\n",
            "[CV] C=10, gamma=0.0001 ..............................................\n",
            "[CV] .................. C=10, gamma=0.0001, score=0.920, total=   1.6s\n",
            "[CV] C=10, gamma=0.0001 ..............................................\n",
            "[CV] .................. C=10, gamma=0.0001, score=0.922, total=   1.7s\n",
            "[CV] C=100, gamma=1 ..................................................\n",
            "[CV] ...................... C=100, gamma=1, score=0.867, total=   3.2s\n",
            "[CV] C=100, gamma=1 ..................................................\n",
            "[CV] ...................... C=100, gamma=1, score=0.884, total=   3.2s\n",
            "[CV] C=100, gamma=1 ..................................................\n",
            "[CV] ...................... C=100, gamma=1, score=0.882, total=   3.1s\n",
            "[CV] C=100, gamma=1 ..................................................\n",
            "[CV] ...................... C=100, gamma=1, score=0.886, total=   3.2s\n",
            "[CV] C=100, gamma=1 ..................................................\n",
            "[CV] ...................... C=100, gamma=1, score=0.898, total=   3.1s\n",
            "[CV] C=100, gamma=0.1 ................................................\n",
            "[CV] .................... C=100, gamma=0.1, score=0.961, total=   1.2s\n",
            "[CV] C=100, gamma=0.1 ................................................\n",
            "[CV] .................... C=100, gamma=0.1, score=0.971, total=   1.2s\n",
            "[CV] C=100, gamma=0.1 ................................................\n",
            "[CV] .................... C=100, gamma=0.1, score=0.962, total=   1.3s\n",
            "[CV] C=100, gamma=0.1 ................................................\n",
            "[CV] .................... C=100, gamma=0.1, score=0.960, total=   1.3s\n",
            "[CV] C=100, gamma=0.1 ................................................\n",
            "[CV] .................... C=100, gamma=0.1, score=0.967, total=   1.3s\n",
            "[CV] C=100, gamma=0.01 ...............................................\n",
            "[CV] ................... C=100, gamma=0.01, score=0.961, total=   1.1s\n",
            "[CV] C=100, gamma=0.01 ...............................................\n",
            "[CV] ................... C=100, gamma=0.01, score=0.955, total=   1.0s\n",
            "[CV] C=100, gamma=0.01 ...............................................\n",
            "[CV] ................... C=100, gamma=0.01, score=0.954, total=   1.1s\n",
            "[CV] C=100, gamma=0.01 ...............................................\n",
            "[CV] ................... C=100, gamma=0.01, score=0.955, total=   1.0s\n",
            "[CV] C=100, gamma=0.01 ...............................................\n",
            "[CV] ................... C=100, gamma=0.01, score=0.963, total=   1.1s\n",
            "[CV] C=100, gamma=0.001 ..............................................\n",
            "[CV] .................. C=100, gamma=0.001, score=0.928, total=   1.0s\n",
            "[CV] C=100, gamma=0.001 ..............................................\n",
            "[CV] .................. C=100, gamma=0.001, score=0.934, total=   1.0s\n",
            "[CV] C=100, gamma=0.001 ..............................................\n",
            "[CV] .................. C=100, gamma=0.001, score=0.940, total=   1.0s\n",
            "[CV] C=100, gamma=0.001 ..............................................\n",
            "[CV] .................. C=100, gamma=0.001, score=0.931, total=   1.0s\n",
            "[CV] C=100, gamma=0.001 ..............................................\n",
            "[CV] .................. C=100, gamma=0.001, score=0.946, total=   1.0s\n",
            "[CV] C=100, gamma=0.0001 .............................................\n",
            "[CV] ................. C=100, gamma=0.0001, score=0.918, total=   1.0s\n",
            "[CV] C=100, gamma=0.0001 .............................................\n",
            "[CV] ................. C=100, gamma=0.0001, score=0.921, total=   1.0s\n",
            "[CV] C=100, gamma=0.0001 .............................................\n",
            "[CV] ................. C=100, gamma=0.0001, score=0.933, total=   1.0s\n",
            "[CV] C=100, gamma=0.0001 .............................................\n",
            "[CV] ................. C=100, gamma=0.0001, score=0.927, total=   1.0s\n",
            "[CV] C=100, gamma=0.0001 .............................................\n",
            "[CV] ................. C=100, gamma=0.0001, score=0.934, total=   1.0s\n",
            "[CV] C=1000, gamma=1 .................................................\n",
            "[CV] ..................... C=1000, gamma=1, score=0.867, total=   3.2s\n",
            "[CV] C=1000, gamma=1 .................................................\n",
            "[CV] ..................... C=1000, gamma=1, score=0.884, total=   3.2s\n",
            "[CV] C=1000, gamma=1 .................................................\n",
            "[CV] ..................... C=1000, gamma=1, score=0.882, total=   3.1s\n",
            "[CV] C=1000, gamma=1 .................................................\n",
            "[CV] ..................... C=1000, gamma=1, score=0.886, total=   3.1s\n",
            "[CV] C=1000, gamma=1 .................................................\n",
            "[CV] ..................... C=1000, gamma=1, score=0.898, total=   3.1s\n",
            "[CV] C=1000, gamma=0.1 ...............................................\n",
            "[CV] ................... C=1000, gamma=0.1, score=0.958, total=   1.3s\n",
            "[CV] C=1000, gamma=0.1 ...............................................\n",
            "[CV] ................... C=1000, gamma=0.1, score=0.970, total=   1.4s\n",
            "[CV] C=1000, gamma=0.1 ...............................................\n",
            "[CV] ................... C=1000, gamma=0.1, score=0.962, total=   1.3s\n",
            "[CV] C=1000, gamma=0.1 ...............................................\n",
            "[CV] ................... C=1000, gamma=0.1, score=0.962, total=   1.3s\n",
            "[CV] C=1000, gamma=0.1 ...............................................\n",
            "[CV] ................... C=1000, gamma=0.1, score=0.972, total=   1.4s\n",
            "[CV] C=1000, gamma=0.01 ..............................................\n",
            "[CV] .................. C=1000, gamma=0.01, score=0.958, total=   1.7s\n",
            "[CV] C=1000, gamma=0.01 ..............................................\n",
            "[CV] .................. C=1000, gamma=0.01, score=0.959, total=   1.8s\n",
            "[CV] C=1000, gamma=0.01 ..............................................\n",
            "[CV] .................. C=1000, gamma=0.01, score=0.957, total=   1.7s\n",
            "[CV] C=1000, gamma=0.01 ..............................................\n",
            "[CV] .................. C=1000, gamma=0.01, score=0.957, total=   1.7s\n",
            "[CV] C=1000, gamma=0.01 ..............................................\n",
            "[CV] .................. C=1000, gamma=0.01, score=0.974, total=   1.7s\n",
            "[CV] C=1000, gamma=0.001 .............................................\n",
            "[CV] ................. C=1000, gamma=0.001, score=0.943, total=   1.5s\n",
            "[CV] C=1000, gamma=0.001 .............................................\n",
            "[CV] ................. C=1000, gamma=0.001, score=0.941, total=   1.5s\n",
            "[CV] C=1000, gamma=0.001 .............................................\n",
            "[CV] ................. C=1000, gamma=0.001, score=0.943, total=   1.5s\n",
            "[CV] C=1000, gamma=0.001 .............................................\n",
            "[CV] ................. C=1000, gamma=0.001, score=0.941, total=   1.5s\n",
            "[CV] C=1000, gamma=0.001 .............................................\n",
            "[CV] ................. C=1000, gamma=0.001, score=0.949, total=   1.5s\n",
            "[CV] C=1000, gamma=0.0001 ............................................\n",
            "[CV] ................ C=1000, gamma=0.0001, score=0.921, total=   1.0s\n",
            "[CV] C=1000, gamma=0.0001 ............................................\n",
            "[CV] ................ C=1000, gamma=0.0001, score=0.930, total=   1.0s\n",
            "[CV] C=1000, gamma=0.0001 ............................................\n",
            "[CV] ................ C=1000, gamma=0.0001, score=0.931, total=   1.0s\n",
            "[CV] C=1000, gamma=0.0001 ............................................\n",
            "[CV] ................ C=1000, gamma=0.0001, score=0.928, total=   1.0s\n",
            "[CV] C=1000, gamma=0.0001 ............................................\n",
            "[CV] ................ C=1000, gamma=0.0001, score=0.939, total=   1.1s\n"
          ],
          "name": "stdout"
        },
        {
          "output_type": "stream",
          "text": [
            "[Parallel(n_jobs=1)]: Done 125 out of 125 | elapsed:  4.3min finished\n"
          ],
          "name": "stderr"
        },
        {
          "output_type": "execute_result",
          "data": {
            "text/plain": [
              "GridSearchCV(cv=None, error_score=nan,\n",
              "             estimator=SVC(C=1.0, break_ties=False, cache_size=200,\n",
              "                           class_weight=None, coef0=0.0,\n",
              "                           decision_function_shape='ovr', degree=3,\n",
              "                           gamma='scale', kernel='rbf', max_iter=-1,\n",
              "                           probability=False, random_state=None, shrinking=True,\n",
              "                           tol=0.001, verbose=False),\n",
              "             iid='deprecated', n_jobs=None,\n",
              "             param_grid={'C': [0.1, 1, 10, 100, 1000],\n",
              "                         'gamma': [1, 0.1, 0.01, 0.001, 0.0001]},\n",
              "             pre_dispatch='2*n_jobs', refit=True, return_train_score=False,\n",
              "             scoring=None, verbose=3)"
            ]
          },
          "metadata": {
            "tags": []
          },
          "execution_count": 161
        }
      ]
    },
    {
      "cell_type": "code",
      "metadata": {
        "id": "AH9nQJIA_fPq",
        "colab_type": "code",
        "outputId": "2cd9d549-8b9e-4fb6-a9aa-dcadf92e68e8",
        "colab": {
          "base_uri": "https://localhost:8080/",
          "height": 50
        }
      },
      "source": [
        "predictions=grid.predict(X_test)\n",
        "print(confusion_matrix(y_test,predictions))"
      ],
      "execution_count": 162,
      "outputs": [
        {
          "output_type": "stream",
          "text": [
            "[[ 925   46]\n",
            " [  38 1202]]\n"
          ],
          "name": "stdout"
        }
      ]
    },
    {
      "cell_type": "markdown",
      "metadata": {
        "id": "-fcAn5oOcUWc",
        "colab_type": "text"
      },
      "source": [
        "Using GridSearchCV we are able to arrive at the best values for parameters in the given range and increase accuracy to ~96%."
      ]
    },
    {
      "cell_type": "code",
      "metadata": {
        "id": "dTloaDgI_hhO",
        "colab_type": "code",
        "outputId": "e80cdca5-9f3b-4901-d8c8-0bf95f7956ca",
        "colab": {
          "base_uri": "https://localhost:8080/",
          "height": 168
        }
      },
      "source": [
        "print(classification_report(y_test,predictions))"
      ],
      "execution_count": 163,
      "outputs": [
        {
          "output_type": "stream",
          "text": [
            "              precision    recall  f1-score   support\n",
            "\n",
            "           0       0.96      0.95      0.96       971\n",
            "           1       0.96      0.97      0.97      1240\n",
            "\n",
            "    accuracy                           0.96      2211\n",
            "   macro avg       0.96      0.96      0.96      2211\n",
            "weighted avg       0.96      0.96      0.96      2211\n",
            "\n"
          ],
          "name": "stdout"
        }
      ]
    },
    {
      "cell_type": "markdown",
      "metadata": {
        "id": "MnLz1KTEH4TO",
        "colab_type": "text"
      },
      "source": [
        "## **Deep Learning and Artificial Neural Networks**"
      ]
    },
    {
      "cell_type": "markdown",
      "metadata": {
        "id": "O1ErlSmDd31c",
        "colab_type": "text"
      },
      "source": [
        "In this section we will finally put the lid on the project and look at some Neural Networks to classify the websites as phising or not."
      ]
    },
    {
      "cell_type": "code",
      "metadata": {
        "id": "b_eAPAYa4nMc",
        "colab_type": "code",
        "colab": {}
      },
      "source": [
        "from keras.models import Sequential\n",
        "from keras.layers import Dense,Dropout\n",
        "from keras.optimizers import *"
      ],
      "execution_count": 0,
      "outputs": []
    },
    {
      "cell_type": "code",
      "metadata": {
        "id": "3SKM9njF-DxD",
        "colab_type": "code",
        "colab": {}
      },
      "source": [
        "model = Sequential()\n",
        "\n",
        "model.add(Dense(30,activation='relu'))\n",
        "model.add(Dense(18,activation='relu'))\n",
        "model.add(Dense(7,activation='relu'))\n",
        "model.add(Dense(1,activation='sigmoid'))\n",
        "model.compile(loss='binary_crossentropy', optimizer=Adam(), metrics=['accuracy'])"
      ],
      "execution_count": 0,
      "outputs": []
    },
    {
      "cell_type": "code",
      "metadata": {
        "id": "HbLNIGu_IIjy",
        "colab_type": "code",
        "outputId": "9d39248d-79dc-42cd-fbdc-abd420440cbc",
        "colab": {
          "base_uri": "https://localhost:8080/",
          "height": 1000
        }
      },
      "source": [
        "model.fit(X_train,y_train,epochs=50)"
      ],
      "execution_count": 166,
      "outputs": [
        {
          "output_type": "stream",
          "text": [
            "Epoch 1/50\n",
            "8844/8844 [==============================] - 1s 58us/step - loss: 0.3477 - accuracy: 0.8571\n",
            "Epoch 2/50\n",
            "8844/8844 [==============================] - 0s 45us/step - loss: 0.1797 - accuracy: 0.9303\n",
            "Epoch 3/50\n",
            "8844/8844 [==============================] - 0s 43us/step - loss: 0.1658 - accuracy: 0.9351\n",
            "Epoch 4/50\n",
            "8844/8844 [==============================] - 0s 43us/step - loss: 0.1540 - accuracy: 0.9369\n",
            "Epoch 5/50\n",
            "8844/8844 [==============================] - 0s 43us/step - loss: 0.1443 - accuracy: 0.9409\n",
            "Epoch 6/50\n",
            "8844/8844 [==============================] - 0s 42us/step - loss: 0.1395 - accuracy: 0.9455\n",
            "Epoch 7/50\n",
            "8844/8844 [==============================] - 0s 43us/step - loss: 0.1312 - accuracy: 0.9450\n",
            "Epoch 8/50\n",
            "8844/8844 [==============================] - 0s 42us/step - loss: 0.1240 - accuracy: 0.9499\n",
            "Epoch 9/50\n",
            "8844/8844 [==============================] - 0s 43us/step - loss: 0.1202 - accuracy: 0.9499\n",
            "Epoch 10/50\n",
            "8844/8844 [==============================] - 0s 41us/step - loss: 0.1128 - accuracy: 0.9527\n",
            "Epoch 11/50\n",
            "8844/8844 [==============================] - 0s 43us/step - loss: 0.1053 - accuracy: 0.9561\n",
            "Epoch 12/50\n",
            "8844/8844 [==============================] - 0s 43us/step - loss: 0.0987 - accuracy: 0.9569\n",
            "Epoch 13/50\n",
            "8844/8844 [==============================] - 0s 43us/step - loss: 0.0966 - accuracy: 0.9587\n",
            "Epoch 14/50\n",
            "8844/8844 [==============================] - 0s 43us/step - loss: 0.0917 - accuracy: 0.9614\n",
            "Epoch 15/50\n",
            "8844/8844 [==============================] - 0s 43us/step - loss: 0.0863 - accuracy: 0.9642\n",
            "Epoch 16/50\n",
            "8844/8844 [==============================] - 0s 43us/step - loss: 0.0847 - accuracy: 0.9631\n",
            "Epoch 17/50\n",
            "8844/8844 [==============================] - 0s 42us/step - loss: 0.0812 - accuracy: 0.9670\n",
            "Epoch 18/50\n",
            "8844/8844 [==============================] - 0s 42us/step - loss: 0.0811 - accuracy: 0.9643\n",
            "Epoch 19/50\n",
            "8844/8844 [==============================] - 0s 42us/step - loss: 0.0791 - accuracy: 0.9659\n",
            "Epoch 20/50\n",
            "8844/8844 [==============================] - 0s 43us/step - loss: 0.0761 - accuracy: 0.9694\n",
            "Epoch 21/50\n",
            "8844/8844 [==============================] - 0s 43us/step - loss: 0.0755 - accuracy: 0.9686\n",
            "Epoch 22/50\n",
            "8844/8844 [==============================] - 0s 41us/step - loss: 0.0733 - accuracy: 0.9691\n",
            "Epoch 23/50\n",
            "8844/8844 [==============================] - 0s 42us/step - loss: 0.0717 - accuracy: 0.9699\n",
            "Epoch 24/50\n",
            "8844/8844 [==============================] - 0s 41us/step - loss: 0.0703 - accuracy: 0.9705\n",
            "Epoch 25/50\n",
            "8844/8844 [==============================] - 0s 42us/step - loss: 0.0685 - accuracy: 0.9711\n",
            "Epoch 26/50\n",
            "8844/8844 [==============================] - 0s 42us/step - loss: 0.0663 - accuracy: 0.9718\n",
            "Epoch 27/50\n",
            "8844/8844 [==============================] - 0s 42us/step - loss: 0.0674 - accuracy: 0.9724\n",
            "Epoch 28/50\n",
            "8844/8844 [==============================] - 0s 43us/step - loss: 0.0678 - accuracy: 0.9711\n",
            "Epoch 29/50\n",
            "8844/8844 [==============================] - 0s 41us/step - loss: 0.0634 - accuracy: 0.9743\n",
            "Epoch 30/50\n",
            "8844/8844 [==============================] - 0s 43us/step - loss: 0.0616 - accuracy: 0.9734\n",
            "Epoch 31/50\n",
            "8844/8844 [==============================] - 0s 42us/step - loss: 0.0626 - accuracy: 0.9747\n",
            "Epoch 32/50\n",
            "8844/8844 [==============================] - 0s 44us/step - loss: 0.0606 - accuracy: 0.9749\n",
            "Epoch 33/50\n",
            "8844/8844 [==============================] - 0s 43us/step - loss: 0.0611 - accuracy: 0.9747\n",
            "Epoch 34/50\n",
            "8844/8844 [==============================] - 0s 45us/step - loss: 0.0614 - accuracy: 0.9730\n",
            "Epoch 35/50\n",
            "8844/8844 [==============================] - 0s 43us/step - loss: 0.0588 - accuracy: 0.9758\n",
            "Epoch 36/50\n",
            "8844/8844 [==============================] - 0s 43us/step - loss: 0.0606 - accuracy: 0.9744\n",
            "Epoch 37/50\n",
            "8844/8844 [==============================] - 0s 42us/step - loss: 0.0577 - accuracy: 0.9754\n",
            "Epoch 38/50\n",
            "8844/8844 [==============================] - 0s 43us/step - loss: 0.0575 - accuracy: 0.9750\n",
            "Epoch 39/50\n",
            "8844/8844 [==============================] - 0s 42us/step - loss: 0.0557 - accuracy: 0.9766\n",
            "Epoch 40/50\n",
            "8844/8844 [==============================] - 0s 42us/step - loss: 0.0558 - accuracy: 0.9781\n",
            "Epoch 41/50\n",
            "8844/8844 [==============================] - 0s 43us/step - loss: 0.0559 - accuracy: 0.9774\n",
            "Epoch 42/50\n",
            "8844/8844 [==============================] - 0s 43us/step - loss: 0.0533 - accuracy: 0.9772\n",
            "Epoch 43/50\n",
            "8844/8844 [==============================] - 0s 42us/step - loss: 0.0556 - accuracy: 0.9746\n",
            "Epoch 44/50\n",
            "8844/8844 [==============================] - 0s 42us/step - loss: 0.0528 - accuracy: 0.9785\n",
            "Epoch 45/50\n",
            "8844/8844 [==============================] - 0s 43us/step - loss: 0.0512 - accuracy: 0.9783\n",
            "Epoch 46/50\n",
            "8844/8844 [==============================] - 0s 45us/step - loss: 0.0522 - accuracy: 0.9782\n",
            "Epoch 47/50\n",
            "8844/8844 [==============================] - 0s 43us/step - loss: 0.0521 - accuracy: 0.9768\n",
            "Epoch 48/50\n",
            "8844/8844 [==============================] - 0s 42us/step - loss: 0.0504 - accuracy: 0.9801\n",
            "Epoch 49/50\n",
            "8844/8844 [==============================] - 0s 43us/step - loss: 0.0498 - accuracy: 0.9798\n",
            "Epoch 50/50\n",
            "8844/8844 [==============================] - 0s 44us/step - loss: 0.0499 - accuracy: 0.9794\n"
          ],
          "name": "stdout"
        },
        {
          "output_type": "execute_result",
          "data": {
            "text/plain": [
              "<keras.callbacks.callbacks.History at 0x7fe3925c0358>"
            ]
          },
          "metadata": {
            "tags": []
          },
          "execution_count": 166
        }
      ]
    },
    {
      "cell_type": "code",
      "metadata": {
        "id": "M8iu0FhEIL4Z",
        "colab_type": "code",
        "outputId": "366ded4d-f89e-4020-fb0c-931fb0a1092d",
        "colab": {
          "base_uri": "https://localhost:8080/",
          "height": 286
        }
      },
      "source": [
        "model.summary()"
      ],
      "execution_count": 167,
      "outputs": [
        {
          "output_type": "stream",
          "text": [
            "Model: \"sequential_3\"\n",
            "_________________________________________________________________\n",
            "Layer (type)                 Output Shape              Param #   \n",
            "=================================================================\n",
            "dense_9 (Dense)              (None, 30)                930       \n",
            "_________________________________________________________________\n",
            "dense_10 (Dense)             (None, 18)                558       \n",
            "_________________________________________________________________\n",
            "dense_11 (Dense)             (None, 7)                 133       \n",
            "_________________________________________________________________\n",
            "dense_12 (Dense)             (None, 1)                 8         \n",
            "=================================================================\n",
            "Total params: 1,629\n",
            "Trainable params: 1,629\n",
            "Non-trainable params: 0\n",
            "_________________________________________________________________\n"
          ],
          "name": "stdout"
        }
      ]
    },
    {
      "cell_type": "code",
      "metadata": {
        "id": "dtdAnjRtTZrf",
        "colab_type": "code",
        "outputId": "e837a77c-2d61-4f34-9871-78828612a626",
        "colab": {
          "base_uri": "https://localhost:8080/",
          "height": 168
        }
      },
      "source": [
        "pr=model.predict_classes(X_test)\n",
        "print(classification_report(y_test,pr))"
      ],
      "execution_count": 168,
      "outputs": [
        {
          "output_type": "stream",
          "text": [
            "              precision    recall  f1-score   support\n",
            "\n",
            "           0       0.93      0.96      0.95       971\n",
            "           1       0.97      0.94      0.96      1240\n",
            "\n",
            "    accuracy                           0.95      2211\n",
            "   macro avg       0.95      0.95      0.95      2211\n",
            "weighted avg       0.95      0.95      0.95      2211\n",
            "\n"
          ],
          "name": "stdout"
        }
      ]
    },
    {
      "cell_type": "code",
      "metadata": {
        "id": "5V70ehIHTylv",
        "colab_type": "code",
        "outputId": "5a6a18cd-987e-4e2d-f9bc-17c4f86b148d",
        "colab": {
          "base_uri": "https://localhost:8080/",
          "height": 50
        }
      },
      "source": [
        "confusion_matrix(y_test,pr)"
      ],
      "execution_count": 169,
      "outputs": [
        {
          "output_type": "execute_result",
          "data": {
            "text/plain": [
              "array([[ 934,   37],\n",
              "       [  70, 1170]])"
            ]
          },
          "metadata": {
            "tags": []
          },
          "execution_count": 169
        }
      ]
    },
    {
      "cell_type": "code",
      "metadata": {
        "id": "sPne_BJmJIOa",
        "colab_type": "code",
        "colab": {}
      },
      "source": [
        "from keras import callbacks\n",
        "\n",
        "es_cb = callbacks.EarlyStopping(monitor='loss', min_delta=0.001, patience=5)"
      ],
      "execution_count": 0,
      "outputs": []
    },
    {
      "cell_type": "code",
      "metadata": {
        "id": "F8itzCNYeJcW",
        "colab_type": "code",
        "colab": {}
      },
      "source": [
        "cb_model = Sequential()\n",
        "\n",
        "cb_model.add(Dense(30,activation='relu'))\n",
        "cb_model.add(Dense(18,activation='relu'))\n",
        "cb_model.add(Dense(7,activation='relu'))\n",
        "cb_model.add(Dense(1,activation='sigmoid'))\n",
        "cb_model.compile(loss='binary_crossentropy', optimizer=Adam(), metrics=['accuracy'])"
      ],
      "execution_count": 0,
      "outputs": []
    },
    {
      "cell_type": "code",
      "metadata": {
        "id": "luem8rQBJ_Wp",
        "colab_type": "code",
        "outputId": "9760cadf-df1d-46fb-9a97-42d9e09f3e9a",
        "colab": {
          "base_uri": "https://localhost:8080/",
          "height": 1000
        }
      },
      "source": [
        "history = cb_model.fit(X_train, y_train, batch_size=64, epochs=128, verbose=1, callbacks=[es_cb])\n",
        "\n",
        "scores = cb_model.evaluate(X_test, y_test)\n",
        "print('\\nAccuracy score of the Neural Network with basic hyperparameter settings {0:.2f}%'.format(scores[1]*100))\n",
        "pr1=cb_model.predict_classes(X_test)"
      ],
      "execution_count": 221,
      "outputs": [
        {
          "output_type": "stream",
          "text": [
            "Epoch 1/128\n",
            "8844/8844 [==============================] - 0s 36us/step - loss: 0.4547 - accuracy: 0.7952\n",
            "Epoch 2/128\n",
            "8844/8844 [==============================] - 0s 22us/step - loss: 0.2026 - accuracy: 0.9227\n",
            "Epoch 3/128\n",
            "8844/8844 [==============================] - 0s 26us/step - loss: 0.1783 - accuracy: 0.9306\n",
            "Epoch 4/128\n",
            "8844/8844 [==============================] - 0s 22us/step - loss: 0.1673 - accuracy: 0.9365\n",
            "Epoch 5/128\n",
            "8844/8844 [==============================] - 0s 22us/step - loss: 0.1594 - accuracy: 0.9358\n",
            "Epoch 6/128\n",
            "8844/8844 [==============================] - 0s 22us/step - loss: 0.1530 - accuracy: 0.9397\n",
            "Epoch 7/128\n",
            "8844/8844 [==============================] - 0s 23us/step - loss: 0.1475 - accuracy: 0.9411\n",
            "Epoch 8/128\n",
            "8844/8844 [==============================] - 0s 25us/step - loss: 0.1410 - accuracy: 0.9447\n",
            "Epoch 9/128\n",
            "8844/8844 [==============================] - 0s 22us/step - loss: 0.1369 - accuracy: 0.9450\n",
            "Epoch 10/128\n",
            "8844/8844 [==============================] - 0s 22us/step - loss: 0.1317 - accuracy: 0.9456\n",
            "Epoch 11/128\n",
            "8844/8844 [==============================] - 0s 25us/step - loss: 0.1281 - accuracy: 0.9480\n",
            "Epoch 12/128\n",
            "8844/8844 [==============================] - 0s 22us/step - loss: 0.1226 - accuracy: 0.9489\n",
            "Epoch 13/128\n",
            "8844/8844 [==============================] - 0s 23us/step - loss: 0.1199 - accuracy: 0.9516\n",
            "Epoch 14/128\n",
            "8844/8844 [==============================] - 0s 22us/step - loss: 0.1167 - accuracy: 0.9513\n",
            "Epoch 15/128\n",
            "8844/8844 [==============================] - 0s 22us/step - loss: 0.1113 - accuracy: 0.9530\n",
            "Epoch 16/128\n",
            "8844/8844 [==============================] - 0s 22us/step - loss: 0.1079 - accuracy: 0.9553\n",
            "Epoch 17/128\n",
            "8844/8844 [==============================] - 0s 22us/step - loss: 0.1048 - accuracy: 0.9556\n",
            "Epoch 18/128\n",
            "8844/8844 [==============================] - 0s 25us/step - loss: 0.1014 - accuracy: 0.9571\n",
            "Epoch 19/128\n",
            "8844/8844 [==============================] - 0s 22us/step - loss: 0.0976 - accuracy: 0.9588\n",
            "Epoch 20/128\n",
            "8844/8844 [==============================] - 0s 23us/step - loss: 0.0974 - accuracy: 0.9583\n",
            "Epoch 21/128\n",
            "8844/8844 [==============================] - 0s 22us/step - loss: 0.0945 - accuracy: 0.9613\n",
            "Epoch 22/128\n",
            "8844/8844 [==============================] - 0s 23us/step - loss: 0.0919 - accuracy: 0.9623\n",
            "Epoch 23/128\n",
            "8844/8844 [==============================] - 0s 25us/step - loss: 0.0884 - accuracy: 0.9630\n",
            "Epoch 24/128\n",
            "8844/8844 [==============================] - 0s 23us/step - loss: 0.0864 - accuracy: 0.9652\n",
            "Epoch 25/128\n",
            "8844/8844 [==============================] - 0s 23us/step - loss: 0.0861 - accuracy: 0.9620\n",
            "Epoch 26/128\n",
            "8844/8844 [==============================] - 0s 22us/step - loss: 0.0815 - accuracy: 0.9678\n",
            "Epoch 27/128\n",
            "8844/8844 [==============================] - 0s 22us/step - loss: 0.0810 - accuracy: 0.9668\n",
            "Epoch 28/128\n",
            "8844/8844 [==============================] - 0s 23us/step - loss: 0.0797 - accuracy: 0.9678\n",
            "Epoch 29/128\n",
            "8844/8844 [==============================] - 0s 22us/step - loss: 0.0805 - accuracy: 0.9649\n",
            "Epoch 30/128\n",
            "8844/8844 [==============================] - 0s 22us/step - loss: 0.0783 - accuracy: 0.9682\n",
            "Epoch 31/128\n",
            "8844/8844 [==============================] - 0s 22us/step - loss: 0.0750 - accuracy: 0.9680\n",
            "Epoch 32/128\n",
            "8844/8844 [==============================] - 0s 23us/step - loss: 0.0742 - accuracy: 0.9674\n",
            "Epoch 33/128\n",
            "8844/8844 [==============================] - 0s 24us/step - loss: 0.0715 - accuracy: 0.9691\n",
            "Epoch 34/128\n",
            "8844/8844 [==============================] - 0s 22us/step - loss: 0.0700 - accuracy: 0.9712\n",
            "Epoch 35/128\n",
            "8844/8844 [==============================] - 0s 23us/step - loss: 0.0693 - accuracy: 0.9705\n",
            "Epoch 36/128\n",
            "8844/8844 [==============================] - 0s 21us/step - loss: 0.0672 - accuracy: 0.9714\n",
            "Epoch 37/128\n",
            "8844/8844 [==============================] - 0s 22us/step - loss: 0.0648 - accuracy: 0.9716\n",
            "Epoch 38/128\n",
            "8844/8844 [==============================] - 0s 23us/step - loss: 0.0678 - accuracy: 0.9701\n",
            "Epoch 39/128\n",
            "8844/8844 [==============================] - 0s 23us/step - loss: 0.0656 - accuracy: 0.9718\n",
            "Epoch 40/128\n",
            "8844/8844 [==============================] - 0s 23us/step - loss: 0.0647 - accuracy: 0.9726\n",
            "Epoch 41/128\n",
            "8844/8844 [==============================] - 0s 22us/step - loss: 0.0629 - accuracy: 0.9732\n",
            "Epoch 42/128\n",
            "8844/8844 [==============================] - 0s 25us/step - loss: 0.0619 - accuracy: 0.9734\n",
            "Epoch 43/128\n",
            "8844/8844 [==============================] - 0s 23us/step - loss: 0.0626 - accuracy: 0.9726\n",
            "Epoch 44/128\n",
            "8844/8844 [==============================] - 0s 23us/step - loss: 0.0621 - accuracy: 0.9740\n",
            "Epoch 45/128\n",
            "8844/8844 [==============================] - 0s 22us/step - loss: 0.0587 - accuracy: 0.9741\n",
            "Epoch 46/128\n",
            "8844/8844 [==============================] - 0s 21us/step - loss: 0.0592 - accuracy: 0.9763\n",
            "Epoch 47/128\n",
            "8844/8844 [==============================] - 0s 22us/step - loss: 0.0575 - accuracy: 0.9776\n",
            "Epoch 48/128\n",
            "8844/8844 [==============================] - 0s 25us/step - loss: 0.0573 - accuracy: 0.9760\n",
            "Epoch 49/128\n",
            "8844/8844 [==============================] - 0s 22us/step - loss: 0.0569 - accuracy: 0.9764\n",
            "Epoch 50/128\n",
            "8844/8844 [==============================] - 0s 22us/step - loss: 0.0569 - accuracy: 0.9767\n",
            "Epoch 51/128\n",
            "8844/8844 [==============================] - 0s 22us/step - loss: 0.0531 - accuracy: 0.9776\n",
            "Epoch 52/128\n",
            "8844/8844 [==============================] - 0s 22us/step - loss: 0.0550 - accuracy: 0.9774\n",
            "Epoch 53/128\n",
            "8844/8844 [==============================] - 0s 24us/step - loss: 0.0554 - accuracy: 0.9785\n",
            "Epoch 54/128\n",
            "8844/8844 [==============================] - 0s 22us/step - loss: 0.0545 - accuracy: 0.9772\n",
            "Epoch 55/128\n",
            "8844/8844 [==============================] - 0s 24us/step - loss: 0.0545 - accuracy: 0.9769\n",
            "Epoch 56/128\n",
            "8844/8844 [==============================] - 0s 23us/step - loss: 0.0516 - accuracy: 0.9782\n",
            "Epoch 57/128\n",
            "8844/8844 [==============================] - 0s 22us/step - loss: 0.0549 - accuracy: 0.9768\n",
            "Epoch 58/128\n",
            "8844/8844 [==============================] - 0s 24us/step - loss: 0.0521 - accuracy: 0.9789\n",
            "Epoch 59/128\n",
            "8844/8844 [==============================] - 0s 25us/step - loss: 0.0508 - accuracy: 0.9784\n",
            "Epoch 60/128\n",
            "8844/8844 [==============================] - 0s 23us/step - loss: 0.0515 - accuracy: 0.9795\n",
            "Epoch 61/128\n",
            "8844/8844 [==============================] - 0s 24us/step - loss: 0.0511 - accuracy: 0.9790\n",
            "2211/2211 [==============================] - 0s 28us/step\n",
            "\n",
            "Accuracy score of the Neural Network with basic hyperparameter settings 95.79%\n"
          ],
          "name": "stdout"
        }
      ]
    },
    {
      "cell_type": "code",
      "metadata": {
        "id": "De4vZk0QPGmS",
        "colab_type": "code",
        "outputId": "17e778bb-6ac3-4c8d-b3bc-6456a59e4225",
        "colab": {
          "base_uri": "https://localhost:8080/",
          "height": 218
        }
      },
      "source": [
        "print(confusion_matrix(y_test,pr1))\n",
        "print('\\n',classification_report(y_test,pr1))"
      ],
      "execution_count": 222,
      "outputs": [
        {
          "output_type": "stream",
          "text": [
            "[[ 908   63]\n",
            " [  30 1210]]\n",
            "\n",
            "               precision    recall  f1-score   support\n",
            "\n",
            "           0       0.97      0.94      0.95       971\n",
            "           1       0.95      0.98      0.96      1240\n",
            "\n",
            "    accuracy                           0.96      2211\n",
            "   macro avg       0.96      0.96      0.96      2211\n",
            "weighted avg       0.96      0.96      0.96      2211\n",
            "\n"
          ],
          "name": "stdout"
        }
      ]
    },
    {
      "cell_type": "markdown",
      "metadata": {
        "id": "0lIHY2Alechm",
        "colab_type": "text"
      },
      "source": [
        "Adding Dropout Layer to check whether it improves accuracy."
      ]
    },
    {
      "cell_type": "code",
      "metadata": {
        "id": "6hJOb2mQUswz",
        "colab_type": "code",
        "colab": {}
      },
      "source": [
        "dr_model = Sequential()\n",
        "\n",
        "\n",
        "# input layer\n",
        "dr_model.add(Dense(30,  activation='relu'))\n",
        "dr_model.add(Dropout(0.4))\n",
        "\n",
        "# hidden layer\n",
        "dr_model.add(Dense(18, activation='relu'))\n",
        "dr_model.add(Dropout(0.4))\n",
        "\n",
        "# hidden layer\n",
        "dr_model.add(Dense(7, activation='relu'))\n",
        "dr_model.add(Dropout(0.4))\n",
        "\n",
        "# output layer\n",
        "dr_model.add(Dense(units=1,activation='sigmoid'))\n",
        "\n",
        "# Compile model\n",
        "dr_model.compile(loss='binary_crossentropy', optimizer='adam',metrics=[\"accuracy\"])"
      ],
      "execution_count": 0,
      "outputs": []
    },
    {
      "cell_type": "code",
      "metadata": {
        "id": "--6AcvMnVPYh",
        "colab_type": "code",
        "outputId": "e3d42ef7-b81d-4bc4-e2ab-38d95634463f",
        "colab": {
          "base_uri": "https://localhost:8080/",
          "height": 1000
        }
      },
      "source": [
        "dr_model.fit(x=X_train, \n",
        "          y=y_train, \n",
        "          epochs=500,\n",
        "          batch_size=128,\n",
        "          validation_data=(X_test, y_test),\n",
        "          callbacks=[es_cb]\n",
        "          )"
      ],
      "execution_count": 233,
      "outputs": [
        {
          "output_type": "stream",
          "text": [
            "Train on 8844 samples, validate on 2211 samples\n",
            "Epoch 1/500\n",
            "8844/8844 [==============================] - 0s 43us/step - loss: 0.7105 - accuracy: 0.5383 - val_loss: 0.6256 - val_accuracy: 0.7834\n",
            "Epoch 2/500\n",
            "8844/8844 [==============================] - 0s 16us/step - loss: 0.5911 - accuracy: 0.6693 - val_loss: 0.4396 - val_accuracy: 0.8788\n",
            "Epoch 3/500\n",
            "8844/8844 [==============================] - 0s 16us/step - loss: 0.4846 - accuracy: 0.7512 - val_loss: 0.3108 - val_accuracy: 0.9050\n",
            "Epoch 4/500\n",
            "8844/8844 [==============================] - 0s 16us/step - loss: 0.4217 - accuracy: 0.7951 - val_loss: 0.2543 - val_accuracy: 0.9163\n",
            "Epoch 5/500\n",
            "8844/8844 [==============================] - 0s 16us/step - loss: 0.3717 - accuracy: 0.8470 - val_loss: 0.2246 - val_accuracy: 0.9204\n",
            "Epoch 6/500\n",
            "8844/8844 [==============================] - 0s 16us/step - loss: 0.3348 - accuracy: 0.8774 - val_loss: 0.2097 - val_accuracy: 0.9218\n",
            "Epoch 7/500\n",
            "8844/8844 [==============================] - 0s 16us/step - loss: 0.3096 - accuracy: 0.8904 - val_loss: 0.1989 - val_accuracy: 0.9245\n",
            "Epoch 8/500\n",
            "8844/8844 [==============================] - 0s 18us/step - loss: 0.2946 - accuracy: 0.8972 - val_loss: 0.1920 - val_accuracy: 0.9245\n",
            "Epoch 9/500\n",
            "8844/8844 [==============================] - 0s 16us/step - loss: 0.2785 - accuracy: 0.9039 - val_loss: 0.1863 - val_accuracy: 0.9258\n",
            "Epoch 10/500\n",
            "8844/8844 [==============================] - 0s 16us/step - loss: 0.2719 - accuracy: 0.9073 - val_loss: 0.1844 - val_accuracy: 0.9245\n",
            "Epoch 11/500\n",
            "8844/8844 [==============================] - 0s 18us/step - loss: 0.2543 - accuracy: 0.9140 - val_loss: 0.1811 - val_accuracy: 0.9276\n",
            "Epoch 12/500\n",
            "8844/8844 [==============================] - 0s 17us/step - loss: 0.2443 - accuracy: 0.9178 - val_loss: 0.1795 - val_accuracy: 0.9276\n",
            "Epoch 13/500\n",
            "8844/8844 [==============================] - 0s 17us/step - loss: 0.2377 - accuracy: 0.9201 - val_loss: 0.1786 - val_accuracy: 0.9258\n",
            "Epoch 14/500\n",
            "8844/8844 [==============================] - 0s 16us/step - loss: 0.2365 - accuracy: 0.9212 - val_loss: 0.1767 - val_accuracy: 0.9276\n",
            "Epoch 15/500\n",
            "8844/8844 [==============================] - 0s 16us/step - loss: 0.2316 - accuracy: 0.9201 - val_loss: 0.1737 - val_accuracy: 0.9317\n",
            "Epoch 16/500\n",
            "8844/8844 [==============================] - 0s 17us/step - loss: 0.2318 - accuracy: 0.9228 - val_loss: 0.1727 - val_accuracy: 0.9344\n",
            "Epoch 17/500\n",
            "8844/8844 [==============================] - 0s 17us/step - loss: 0.2302 - accuracy: 0.9187 - val_loss: 0.1743 - val_accuracy: 0.9326\n",
            "Epoch 18/500\n",
            "8844/8844 [==============================] - 0s 17us/step - loss: 0.2257 - accuracy: 0.9227 - val_loss: 0.1694 - val_accuracy: 0.9335\n",
            "Epoch 19/500\n",
            "8844/8844 [==============================] - 0s 16us/step - loss: 0.2166 - accuracy: 0.9247 - val_loss: 0.1704 - val_accuracy: 0.9353\n",
            "Epoch 20/500\n",
            "8844/8844 [==============================] - 0s 17us/step - loss: 0.2183 - accuracy: 0.9227 - val_loss: 0.1692 - val_accuracy: 0.9349\n",
            "Epoch 21/500\n",
            "8844/8844 [==============================] - 0s 16us/step - loss: 0.2132 - accuracy: 0.9273 - val_loss: 0.1652 - val_accuracy: 0.9358\n",
            "Epoch 22/500\n",
            "8844/8844 [==============================] - 0s 16us/step - loss: 0.2089 - accuracy: 0.9247 - val_loss: 0.1614 - val_accuracy: 0.9358\n",
            "Epoch 23/500\n",
            "8844/8844 [==============================] - 0s 17us/step - loss: 0.2045 - accuracy: 0.9270 - val_loss: 0.1621 - val_accuracy: 0.9362\n",
            "Epoch 24/500\n",
            "8844/8844 [==============================] - 0s 17us/step - loss: 0.2035 - accuracy: 0.9283 - val_loss: 0.1592 - val_accuracy: 0.9385\n",
            "Epoch 25/500\n",
            "8844/8844 [==============================] - 0s 17us/step - loss: 0.2052 - accuracy: 0.9258 - val_loss: 0.1579 - val_accuracy: 0.9380\n",
            "Epoch 26/500\n",
            "8844/8844 [==============================] - 0s 16us/step - loss: 0.1999 - accuracy: 0.9299 - val_loss: 0.1575 - val_accuracy: 0.9394\n",
            "Epoch 27/500\n",
            "8844/8844 [==============================] - 0s 17us/step - loss: 0.1857 - accuracy: 0.9287 - val_loss: 0.1625 - val_accuracy: 0.9371\n",
            "Epoch 28/500\n",
            "8844/8844 [==============================] - 0s 16us/step - loss: 0.1971 - accuracy: 0.9268 - val_loss: 0.1565 - val_accuracy: 0.9412\n",
            "Epoch 29/500\n",
            "8844/8844 [==============================] - 0s 16us/step - loss: 0.1956 - accuracy: 0.9253 - val_loss: 0.1531 - val_accuracy: 0.9367\n",
            "Epoch 30/500\n",
            "8844/8844 [==============================] - 0s 17us/step - loss: 0.1868 - accuracy: 0.9298 - val_loss: 0.1529 - val_accuracy: 0.9421\n",
            "Epoch 31/500\n",
            "8844/8844 [==============================] - 0s 17us/step - loss: 0.1848 - accuracy: 0.9320 - val_loss: 0.1526 - val_accuracy: 0.9439\n",
            "Epoch 32/500\n",
            "8844/8844 [==============================] - 0s 16us/step - loss: 0.1787 - accuracy: 0.9324 - val_loss: 0.1542 - val_accuracy: 0.9394\n",
            "Epoch 33/500\n",
            "8844/8844 [==============================] - 0s 16us/step - loss: 0.1842 - accuracy: 0.9294 - val_loss: 0.1547 - val_accuracy: 0.9398\n",
            "Epoch 34/500\n",
            "8844/8844 [==============================] - 0s 16us/step - loss: 0.1802 - accuracy: 0.9348 - val_loss: 0.1516 - val_accuracy: 0.9408\n",
            "Epoch 35/500\n",
            "8844/8844 [==============================] - 0s 16us/step - loss: 0.1801 - accuracy: 0.9326 - val_loss: 0.1492 - val_accuracy: 0.9398\n",
            "Epoch 36/500\n",
            "8844/8844 [==============================] - 0s 16us/step - loss: 0.1794 - accuracy: 0.9297 - val_loss: 0.1514 - val_accuracy: 0.9444\n",
            "Epoch 37/500\n",
            "8844/8844 [==============================] - 0s 16us/step - loss: 0.1812 - accuracy: 0.9291 - val_loss: 0.1507 - val_accuracy: 0.9417\n"
          ],
          "name": "stdout"
        },
        {
          "output_type": "execute_result",
          "data": {
            "text/plain": [
              "<keras.callbacks.callbacks.History at 0x7fe391a9ee10>"
            ]
          },
          "metadata": {
            "tags": []
          },
          "execution_count": 233
        }
      ]
    },
    {
      "cell_type": "code",
      "metadata": {
        "id": "cdb-qK-wVTZu",
        "colab_type": "code",
        "colab": {}
      },
      "source": [
        "losses = pd.DataFrame(dr_model.history.history)"
      ],
      "execution_count": 0,
      "outputs": []
    },
    {
      "cell_type": "code",
      "metadata": {
        "id": "sJpw-D7DVkF7",
        "colab_type": "code",
        "outputId": "724acca6-50fa-4f52-c2a9-a835381284ac",
        "colab": {
          "base_uri": "https://localhost:8080/",
          "height": 282
        }
      },
      "source": [
        "losses[['loss','val_loss']].plot()"
      ],
      "execution_count": 235,
      "outputs": [
        {
          "output_type": "execute_result",
          "data": {
            "text/plain": [
              "<matplotlib.axes._subplots.AxesSubplot at 0x7fe3917796a0>"
            ]
          },
          "metadata": {
            "tags": []
          },
          "execution_count": 235
        },
        {
          "output_type": "display_data",
          "data": {
            "image/png": "[encoded data removed]",
            "text/plain": [
              "<Figure size 432x288 with 1 Axes>"
            ]
          },
          "metadata": {
            "tags": []
          }
        }
      ]
    },
    {
      "cell_type": "code",
      "metadata": {
        "id": "T6bJEyCIVl9g",
        "colab_type": "code",
        "colab": {}
      },
      "source": [
        "predictions = dr_model.predict_classes(X_test)"
      ],
      "execution_count": 0,
      "outputs": []
    },
    {
      "cell_type": "markdown",
      "metadata": {
        "id": "aEVucj43ejS5",
        "colab_type": "text"
      },
      "source": [
        "In this case adding the Dropout layer adversely affected the accuracy of the model."
      ]
    },
    {
      "cell_type": "code",
      "metadata": {
        "id": "UWpi67OWVr10",
        "colab_type": "code",
        "outputId": "d91c9eac-c5ab-43ff-873c-7a6f05277d16",
        "colab": {
          "base_uri": "https://localhost:8080/",
          "height": 168
        }
      },
      "source": [
        "print(classification_report(y_test,predictions))"
      ],
      "execution_count": 237,
      "outputs": [
        {
          "output_type": "stream",
          "text": [
            "              precision    recall  f1-score   support\n",
            "\n",
            "           0       0.94      0.93      0.93       971\n",
            "           1       0.94      0.95      0.95      1240\n",
            "\n",
            "    accuracy                           0.94      2211\n",
            "   macro avg       0.94      0.94      0.94      2211\n",
            "weighted avg       0.94      0.94      0.94      2211\n",
            "\n"
          ],
          "name": "stdout"
        }
      ]
    },
    {
      "cell_type": "code",
      "metadata": {
        "id": "9WUuMRPUVtDG",
        "colab_type": "code",
        "outputId": "df200d62-8337-42ac-98d8-fa4c6a61c2b5",
        "colab": {
          "base_uri": "https://localhost:8080/",
          "height": 50
        }
      },
      "source": [
        "confusion_matrix(y_test,predictions)"
      ],
      "execution_count": 238,
      "outputs": [
        {
          "output_type": "execute_result",
          "data": {
            "text/plain": [
              "array([[ 900,   71],\n",
              "       [  58, 1182]])"
            ]
          },
          "metadata": {
            "tags": []
          },
          "execution_count": 238
        }
      ]
    },
    {
      "cell_type": "markdown",
      "metadata": {
        "id": "ol1xPcf0VjlS",
        "colab_type": "text"
      },
      "source": [
        "## **Comparing Prediction Scores**"
      ]
    },
    {
      "cell_type": "markdown",
      "metadata": {
        "id": "UFAuIlZ2Z4sO",
        "colab_type": "text"
      },
      "source": [
        "Accuracy Scores for Logistic Regression Section"
      ]
    },
    {
      "cell_type": "code",
      "metadata": {
        "id": "TDjspuTRViHh",
        "colab_type": "code",
        "colab": {
          "base_uri": "https://localhost:8080/",
          "height": 50
        },
        "outputId": "cb3b149e-083b-4a2e-bc71-497139a78b2c"
      },
      "source": [
        "log_reg_acc=accuracy_score(y_test, lm.predict(X_test))*100\n",
        "opt_log_reg_acc=accuracy_score(y_test, random_model.predict(X_test))*100\n",
        "print(\"Accuracy Score for Logistic Regression Model is\",log_reg_acc,\"%\")\n",
        "print(\"Accuracy Score for Logistic Regression Model with parameters optimized using RandomSearchCV is\",opt_log_reg_acc,\"%\")"
      ],
      "execution_count": 214,
      "outputs": [
        {
          "output_type": "stream",
          "text": [
            "Accuracy Score for Logistic Regression Model is 92.22071460877432 %\n",
            "Accuracy Score for Logistic Regression Model with parameters optimized using RandomSearchCV is 92.22071460877432 %\n"
          ],
          "name": "stdout"
        }
      ]
    },
    {
      "cell_type": "markdown",
      "metadata": {
        "id": "VFG2WGKRaWwl",
        "colab_type": "text"
      },
      "source": [
        "Accuracy Scores for K-Nearest Neighbours  Section"
      ]
    },
    {
      "cell_type": "code",
      "metadata": {
        "id": "rKto1T5xaWCp",
        "colab_type": "code",
        "colab": {
          "base_uri": "https://localhost:8080/",
          "height": 50
        },
        "outputId": "15fbe3f6-25f4-464d-c876-b0ad34ecd77f"
      },
      "source": [
        "knn_acc=accuracy_score(y_test, knn.predict(X_test))*100\n",
        "opt_knn_acc=accuracy_score(y_test, opt_knn.predict(X_test))*100\n",
        "print(\"Accuracy Score for K-Nearest Neighbours model is\",knn_acc,\"%\")\n",
        "print(\"Accuracy Score for K-Nearest Neighbours model after applying Elbow Method is\",opt_knn_acc,\"%\")"
      ],
      "execution_count": 215,
      "outputs": [
        {
          "output_type": "stream",
          "text": [
            "Accuracy Score for K-Nearest Neighbours model is 91.45183175033921 %\n",
            "Accuracy Score for K-Nearest Neighbours after applying Elbow Method is model is 95.11533242876527 %\n"
          ],
          "name": "stdout"
        }
      ]
    },
    {
      "cell_type": "markdown",
      "metadata": {
        "id": "th6dhiMrboNG",
        "colab_type": "text"
      },
      "source": [
        "Accuracy Scores for Decision Tree and Random Forest Classifier Section"
      ]
    },
    {
      "cell_type": "code",
      "metadata": {
        "id": "KCGvp2UAboW0",
        "colab_type": "code",
        "colab": {
          "base_uri": "https://localhost:8080/",
          "height": 50
        },
        "outputId": "3e6d7f19-4d88-4600-a55d-09432341b0a0"
      },
      "source": [
        "dtree_acc=accuracy_score(y_test, dtree.predict(X_test))*100\n",
        "rfc_acc=accuracy_score(y_test, rfc.predict(X_test))*100\n",
        "print(\"Accuracy Score for Decision Tree is\",dtree_acc,\"%\")\n",
        "print(\"Accuracy Score for Random Forest Classifier after applying Elbow Method is\",rfc_acc,\"%\")"
      ],
      "execution_count": 218,
      "outputs": [
        {
          "output_type": "stream",
          "text": [
            "Accuracy Score for Decision Tree is 96.06512890094979 %\n",
            "Accuracy Score for Random Forest Classifier after applying Elbow Method is 96.69832654907282 %\n"
          ],
          "name": "stdout"
        }
      ]
    },
    {
      "cell_type": "markdown",
      "metadata": {
        "id": "gdo85395cqnW",
        "colab_type": "text"
      },
      "source": [
        "Accuracy Scores for Support Vector Machine Section"
      ]
    },
    {
      "cell_type": "code",
      "metadata": {
        "id": "CfDaHnCIcqeN",
        "colab_type": "code",
        "colab": {
          "base_uri": "https://localhost:8080/",
          "height": 50
        },
        "outputId": "57c72edd-3058-47bf-ff71-a1a80dad51e1"
      },
      "source": [
        "svc_acc=accuracy_score(y_test, svc.predict(X_test))*100\n",
        "opt_svc_acc=accuracy_score(y_test, grid.predict(X_test))*100\n",
        "print(\"Accuracy Score for Support Vector Classifier is\",svc_acc,\"%\")\n",
        "print(\"Accuracy Score for Support Vector Classifier after applying GridSearchCV is\",opt_svc_acc,\"%\")"
      ],
      "execution_count": 219,
      "outputs": [
        {
          "output_type": "stream",
          "text": [
            "Accuracy Score for Support Vector Classifier is 94.16553595658074 %\n",
            "Accuracy Score for Support Vector Classifier after applying GridSearchCV is 96.20081411126186 %\n"
          ],
          "name": "stdout"
        }
      ]
    },
    {
      "cell_type": "markdown",
      "metadata": {
        "id": "w0Xjlubwezz9",
        "colab_type": "text"
      },
      "source": [
        "Accuracy Scores for Deep Learning and Artificial Neural Networks Section"
      ]
    },
    {
      "cell_type": "code",
      "metadata": {
        "id": "jqitg7zYezsR",
        "colab_type": "code",
        "colab": {
          "base_uri": "https://localhost:8080/",
          "height": 67
        },
        "outputId": "ef952d3e-9ef3-485b-e982-3cf06e071671"
      },
      "source": [
        "model_acc=accuracy_score(y_test, model.predict_classes(X_test))*100\n",
        "cb_model_acc=accuracy_score(y_test, cb_model.predict_classes(X_test))*100\n",
        "dr_model_acc=accuracy_score(y_test, dr_model.predict_classes(X_test))*100\n",
        "print(\"Accuracy Score for Basic Neural Network is\",model_acc,\"%\")\n",
        "print(\"Accuracy Score for Neural Network after applying EarlyStop callback is\",cb_model_acc,\"%\")\n",
        "print(\"Accuracy Score for Neural Network after adding Dropout layers to model is\",dr_model_acc,\"%\")"
      ],
      "execution_count": 239,
      "outputs": [
        {
          "output_type": "stream",
          "text": [
            "Accuracy Score for Basic Neural Network is 93.62279511533242 %\n",
            "Accuracy Score for Neural Network after applying EarlyStop callback is 95.79375848032564 %\n",
            "Accuracy Score for Neural Network after adding Dropout layers to model is 94.16553595658074 %\n"
          ],
          "name": "stdout"
        }
      ]
    },
    {
      "cell_type": "markdown",
      "metadata": {
        "id": "9zAr9tdqgqSm",
        "colab_type": "text"
      },
      "source": [
        "**Looking at the Accuracy Scores we can safely say that Random Forest Classifier outperforms any other Classification Model and even Basic Neural Networks**"
      ]
    },
    {
      "cell_type": "markdown",
      "metadata": {
        "id": "l85-54mFeuSc",
        "colab_type": "text"
      },
      "source": [
        "# ***Thank You for staying till The End***"
      ]
    }
  ]
}